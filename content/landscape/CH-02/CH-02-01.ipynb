{
    "metadata": {
        "kernelspec": {
            "name": "SQL",
            "display_name": "SQL",
            "language": "sql"
        },
        "language_info": {
            "name": "sql",
            "version": ""
        }
    },
    "nbformat_minor": 2,
    "nbformat": 4,
    "cells": [
        {
            "cell_type": "markdown",
            "source": [
                "# Creating, Using, and Managing Connections\r\n",
                "\r\n",
                "[<Back](readme.md)  \r\n",
                "\r\n",
                "Since there is no better way to learn than by doing, let’s go ahead and open Azure Data Studio. Figure 2-1 below shows the Welcome page which is designed to assist you in getting started with ADS. [Full text available at leanpub.com](https://leanpub.com/hands-on-ads)\r\n",
                "\r\n",
                "> No code samples in this section\r\n",
                ""
            ],
            "metadata": {
                "azdata_cell_guid": "3f6afb08-24ad-4e8e-a82a-2781a0126747"
            }
        },
        {
            "cell_type": "markdown",
            "source": [
                "[<Previous](../CH-01/readme.md)  | [Next>](CH-02-02.ipynb)  "
            ],
            "metadata": {
                "azdata_cell_guid": "87a59e60-633b-4f5b-b6df-73b96a4395aa"
            }
        },
        {
            "cell_type": "code",
            "source": [
                ""
            ],
            "metadata": {
                "azdata_cell_guid": "099c731c-58de-4121-b830-9bf230946ed6"
            },
            "outputs": [],
            "execution_count": null
        }
    ]
}
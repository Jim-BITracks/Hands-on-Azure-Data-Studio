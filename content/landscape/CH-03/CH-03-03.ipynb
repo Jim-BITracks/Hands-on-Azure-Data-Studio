{
    "metadata": {
        "kernelspec": {
            "name": "SQL",
            "display_name": "SQL",
            "language": "sql"
        },
        "language_info": {
            "name": "sql",
            "version": ""
        }
    },
    "nbformat_minor": 2,
    "nbformat": 4,
    "cells": [
        {
            "cell_type": "markdown",
            "source": [
                "# Top Down View with Minimap\r\n",
                "\r\n",
                "[<Back](readme.md)\r\n",
                "\r\n",
                "ADS has a Minimap feature that can at least ease the pain of working with large SQL scripts.\r\n",
                "### To be able to view the minimap :\r\n",
                "\r\n",
                "**From the Command Palette (Ctrl+Shift+P), use the View:Toggle Minimap :**\r\n",
                "\r\n",
                "<img src=\"https://user-images.githubusercontent.com/61198055/77666180-ff573f80-6f56-11ea-9857-11aa8b168caa.png\" width=\"60%\" height=\"auto\">\r\n",
                "\r\n",
                "*Figure 3-17. Toggle Minimap On*\r\n",
                "\r\n",
                "**The minimap appears on the upper right :**\r\n",
                "* ### It gives a birds-eye outline of your code on the right side of the editor window. Your current ‘cursor position’ will be highlighted as a thin blue line.\r\n",
                "\r\n",
                "\r\n",
                "<img src=\"https://user-images.githubusercontent.com/61198055/77666713-a89e3580-6f57-11ea-8d26-5ea0b057d7fb.png\" width=\"60%\" height=\"auto\">\r\n",
                "\r\n",
                "*Figure 3-18. SQL Editing with Minimap Outline*\r\n",
                "\r\n",
                "* ### Minimaps mark any **syntax errors in red**, making it very easy to navigate to the errors and fix them. As in the following example, a missing **FROM** is causing minimap to mark the line red : \r\n",
                "\r\n",
                "<img src=\"https://user-images.githubusercontent.com/61198055/77667035-18142500-6f58-11ea-9327-b18466fefd5b.png\" width=\"60%\" height=\"auto\">\r\n",
                "\r\n",
                "*Figure 3-19. Minimap Syntax Errors*\r\n",
                "\r\n",
                "* ### When you select a part of the code, the **highlighted area is mirrored** in minimap :\r\n",
                "\r\n",
                "<img src=\"https://user-images.githubusercontent.com/61198055/77667238-501b6800-6f58-11ea-8460-f19e3645c5c7.png\" width=\"50%\" height=\"auto\">\r\n",
                "\r\n",
                "*Figure 3-20. Minimap Code Selection*\r\n",
                "\r\n",
                "* ### Minimap provides a convenient way to visualize all locations containing the text you are **searching** for in the script.\r\n",
                "For example, searching for a table called elt.projects within a script :\r\n",
                "\r\n",
                "<img src=\"https://user-images.githubusercontent.com/61198055/77667585-cb7d1980-6f58-11ea-8547-dbe4a42c7aa4.png\" width=\"50%\" height=\"auto\">\r\n",
                "\r\n",
                "*Figure 3-21. Minimap Search Results*\r\n",
                ""
            ],
            "metadata": {
                "azdata_cell_guid": "7285402d-b31d-4883-9585-7b7da6b006dc"
            }
        },
        {
            "cell_type": "markdown",
            "source": [
                "[<Previous](CH-03-02.ipynb)  |   [Next>](CH-03-04.ipynb) "
            ],
            "metadata": {
                "azdata_cell_guid": "9a4b23cd-e4f3-4242-9399-57df6b76f9a2"
            }
        }
    ]
}
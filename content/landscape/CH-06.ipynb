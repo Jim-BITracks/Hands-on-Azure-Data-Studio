{
    "metadata": {
        "kernelspec": {
            "name": "SQL",
            "display_name": "SQL",
            "language": "sql"
        },
        "language_info": {
            "name": "sql",
            "version": ""
        }
    },
    "nbformat_minor": 2,
    "nbformat": 4,
    "cells": [
        {
            "cell_type": "markdown",
            "source": [
                "# Reaching Beyond SQL with PowerShell and Python\r\n",
                "\r\n",
                "[<Back](C:\\ADS\\Notebooks\\Practical_ADS\\content\\landscape\\readme.md)\r\n",
                "\r\n",
                "Not long ago you needed to use 2 or more applications when moshing your SQL code with languages such as Python or PowerShell. The user experience in ADS fuses this development paradigm into a single platform, leading to some surprising innovation, especially when developing data centric applications…\r\n",
                "1.\tA New Home for PowerShell\r\n",
                "2.\tContributions from the Community – PowerShell’s dbatools\r\n",
                "3.\tPython as your Portal to More Databases\r\n",
                "4.\tPython and Machine Learning"
            ],
            "metadata": {
                "azdata_cell_guid": "3f6afb08-24ad-4e8e-a82a-2781a0126747"
            }
        },
        {
            "cell_type": "markdown",
            "source": [
                "  [<Previous](C:\\ADS\\Notebooks\\Practical_ADS\\content\\landscape\\CH-05.ipynb)  |   [Next>](C:\\ADS\\Notebooks\\Practical_ADS\\content\\landscape\\CH-07.ipynb)  "
            ],
            "metadata": {
                "azdata_cell_guid": "8b610327-c069-4e8a-b208-f49f4c163a10"
            }
        },
        {
            "cell_type": "code",
            "source": [
                ""
            ],
            "metadata": {
                "azdata_cell_guid": "fb0685df-9f84-4399-b4b8-a9586f76df81"
            },
            "outputs": [],
            "execution_count": null
        }
    ]
}
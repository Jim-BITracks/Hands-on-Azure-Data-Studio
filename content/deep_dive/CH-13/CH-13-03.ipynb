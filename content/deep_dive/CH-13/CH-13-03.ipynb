{
    "metadata": {
        "kernelspec": {
            "name": "SQL",
            "display_name": "SQL",
            "language": "sql"
        },
        "language_info": {
            "name": "sql",
            "version": ""
        }
    },
    "nbformat_minor": 2,
    "nbformat": 4,
    "cells": [
        {
            "cell_type": "markdown",
            "source": [
                "# Stage, Commit, and Sync\r\n",
                "\r\n",
                "[<Back](readme.md)"
            ],
            "metadata": {
                "azdata_cell_guid": "464845c0-bcb8-4cf6-a639-f7b3ae742c01"
            }
        },
        {
            "cell_type": "markdown",
            "source": [
                "[<Previous](CH-13-02.ipynb)    |   [Next>](../CH-14/readme.md)"
            ],
            "metadata": {
                "azdata_cell_guid": "25c0b1dc-299d-4a4e-b256-20c2cb2a1434"
            }
        }
    ]
}
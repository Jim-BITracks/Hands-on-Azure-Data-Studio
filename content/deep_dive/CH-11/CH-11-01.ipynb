{
    "metadata": {
        "kernelspec": {
            "name": "SQL",
            "display_name": "SQL",
            "language": "sql"
        },
        "language_info": {
            "name": "sql",
            "version": ""
        }
    },
    "nbformat_minor": 2,
    "nbformat": 4,
    "cells": [
        {
            "cell_type": "markdown",
            "source": [
                "# Feels Like a Book, Built on Json\r\n",
                "\r\n",
                "[<Back](readme.md)\r\n",
                ""
            ],
            "metadata": {
                "azdata_cell_guid": "2ff45897-6649-453f-bb4d-b97febb9879c"
            }
        },
        {
            "cell_type": "markdown",
            "source": [
                "[![Video Link](http://img.youtube.com/vi/Mv-5O8yGTvQ/0.jpg)](https://www.youtube.com/watch?v=Mv-5O8yGTvQ \"Link to Azure Data Studio - Notebook Organization Video\")"
            ],
            "metadata": {
                "azdata_cell_guid": "cbae392f-9d11-48d5-8d2c-5e227466c254"
            }
        },
        {
            "cell_type": "markdown",
            "source": [
                " [<Previous](../CH-10/readme.md)   |   [Next>](CH-11-02.ipynb)"
            ],
            "metadata": {
                "azdata_cell_guid": "689786ac-b556-4ff2-a13e-751cdcb01835"
            }
        }
    ]
}
{
    "metadata": {
        "kernelspec": {
            "name": "SQL",
            "display_name": "SQL",
            "language": "sql"
        },
        "language_info": {
            "name": "sql",
            "version": ""
        }
    },
    "nbformat_minor": 2,
    "nbformat": 4,
    "cells": [
        {
            "cell_type": "markdown",
            "source": [
                "# Options for Parameters and Drop-downs\r\n",
                "\r\n",
                "[<Back](readme.md)\r\n",
                "\r\n",
                "We can customize the snippets we create with parameters and drop-down options.  \r\n",
                "The variables can be indicated by a **${n:defaultValue}** so they are highlighted when you insert their values in your code. \r\n",
                "In the following example, Schema Name and Table name are the variables.   \r\n",
                "JSON code for the snippet :\r\n",
                "```JSON\r\n",
                "\"Projects Info\": {\r\n",
                "\t\"prefix\": \"sqlProjectsInfoParameter\",\r\n",
                "\t\"body\": [\r\n",
                "\t\t\"  SELECT *\",\r\n",
                "\t\t\"  FROM ${1:SchemaName}.${2:Tablename}\",\r\n",
                "\t\t\"  GO\"\r\n",
                "\t]\r\n",
                "\t}\r\n",
                "```\r\n",
                "\r\n",
                "\r\n",
                "\r\n",
                "<img src=\"https://user-images.githubusercontent.com/61198055/76110379-729b1080-5fac-11ea-8590-92a9eb8aec0d.png\" width=\"70%\" height=\"auto\">\r\n",
                "\r\n",
                "To test the custom code snippet that we just created, as with the default snippets, just open a new query window and type sql, the new snippet should show up in the list :\r\n",
                "\r\n",
                "<img src=\"https://user-images.githubusercontent.com/61198055/76114760-d45f7880-5fb4-11ea-89bf-cfc74534fe85.png\" width=\"60%\" height=\"auto\">\r\n",
                "\r\n",
                "Select it to see the code loaded in our environment. Update the highlighted fields with your specific values.,namely, 1:SchemaName and 2:TableName. If the field you want to change is no longer highlighted (this happens when moving the cursor around the editor), right-click the word you want to change, and select Change all occurrences.\r\n",
                "\r\n",
                "<img src=\"https://user-images.githubusercontent.com/61198055/76114938-2f916b00-5fb5-11ea-953a-8a5b881b25e9.png\" width=\"70%\" height=\"auto\">\r\n",
                "\r\n",
                "## Another way to customize our code snippets is drop down listing of options for our variables :\r\n",
                "JSON code for the snippet :\r\n",
                "\r\n",
                "```json\r\n",
                "\"Packages Info\": {\r\n",
                "\t\t\"prefix\": \"sqlPackageInfo\",\r\n",
                "\t\t\"body\": \" SELECT Top ${1|5,10,15|} * FROM elt.project_package\"\t\t\r\n",
                "}\r\n",
                "```\r\n",
                "\r\n",
                "The **${1|5,10,15|}** allows you to choose between the two values of 5, 10 or 15 when inserted, to specify more values, you must separate it by commas.\r\n",
                "To test, Select the snippet to see the code loaded in our environment. It show the **drop down list of options** to choose from :\r\n",
                "\r\n",
                "<img src=\"https://user-images.githubusercontent.com/61198055/76117214-69fd0700-5fb9-11ea-8c54-bace9392d913.png\" width=\"70%\" height=\"auto\">\r\n",
                "\r\n",
                "\r\n",
                "\r\n",
                "\r\n",
                "\r\n",
                ""
            ],
            "metadata": {
                "azdata_cell_guid": "cebae2e3-ae67-4bd0-bfe5-fcc4cafd01e3"
            }
        },
        {
            "cell_type": "markdown",
            "source": [
                " [<Previous](CH-09-01.ipynb)    |   [Next>](CH-09-03.ipynb)"
            ],
            "metadata": {
                "azdata_cell_guid": "482201ac-94d7-48bc-b4ce-07f33ca1752d"
            }
        }
    ]
}
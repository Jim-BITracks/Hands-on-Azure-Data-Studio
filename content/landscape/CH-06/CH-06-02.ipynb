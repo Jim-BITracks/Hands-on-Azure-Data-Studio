{
    "metadata": {
        "kernelspec": {
            "name": "SQL",
            "display_name": "SQL",
            "language": "sql"
        },
        "language_info": {
            "name": "sql",
            "version": ""
        }
    },
    "nbformat_minor": 2,
    "nbformat": 4,
    "cells": [
        {
            "cell_type": "markdown",
            "source": [
                "# Contributions from the Community – PowerShell’s dbatools\r\n",
                "\r\n",
                "[<Back](readme.md)\r\n",
                ""
            ],
            "metadata": {
                "azdata_cell_guid": "288bf8f0-599a-48b7-bc9d-c7db0f5116ef"
            }
        },
        {
            "cell_type": "markdown",
            "source": [
                "[<Previous](CH-06-01.ipynb)  |   [Next>](CH-06-03.ipynb)  "
            ],
            "metadata": {
                "azdata_cell_guid": "33b10d9c-7274-4ad6-8d64-fb957365f693"
            }
        }
    ]
}
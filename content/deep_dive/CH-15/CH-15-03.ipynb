{
    "metadata": {
        "kernelspec": {
            "name": "SQL",
            "display_name": "SQL",
            "language": "sql"
        },
        "language_info": {
            "name": "sql",
            "version": ""
        }
    },
    "nbformat_minor": 2,
    "nbformat": 4,
    "cells": [
        {
            "cell_type": "markdown",
            "source": [
                "# Working with Datasets\r\n",
                "\r\n",
                "[<Back](readme.md)"
            ],
            "metadata": {
                "azdata_cell_guid": "7cb13027-1f66-48bd-a0a3-266662d90c47"
            }
        },
        {
            "cell_type": "markdown",
            "source": [
                "[<Previous](CH-15-02.ipynb)    |   [Next>](CH-15-04.ipynb)"
            ],
            "metadata": {
                "azdata_cell_guid": "a3aa3ca3-1cdf-4bd5-aac2-6905579ba664"
            }
        }
    ]
}
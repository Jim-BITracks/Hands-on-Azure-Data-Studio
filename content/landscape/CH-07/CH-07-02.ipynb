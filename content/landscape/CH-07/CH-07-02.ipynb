{
    "metadata": {
        "kernelspec": {
            "name": "SQL",
            "display_name": "SQL",
            "language": "sql"
        },
        "language_info": {
            "name": "sql",
            "version": ""
        }
    },
    "nbformat_minor": 2,
    "nbformat": 4,
    "cells": [
        {
            "cell_type": "markdown",
            "source": [
                "# What are the Options with ADS Source Control?\r\n",
                "\r\n",
                "[<Back](readme.md)\r\n",
                "\r\n",
                "Source control is a vital part of IT work, it is used to track changes over software and documents. It helps in having a centralized, up-to-date copy of all your applications and utilities, and to be able to rollback to a previous version in case of a failed deployment.  \r\n",
                "Azure Data Studio supports **Git** for version/source control. \r\n",
                "Azure Data Studio comes with a Git source control manager (SCM), but you still need to install Git (version 2.0.0 or later) before these features are available.\r\n",
                "\r\n",
                "## Open an existing Git repository\r\n",
                "\r\n",
                "1. Under the **File menu**, select **Open Folder**  \r\n",
                "2. Browse to the folder that contains your files tracked by git, and click **Select Folder**. Subfolders in your local repository are okay to select here.\r\n",
                "\r\n",
                "## Initialize a new git repository\r\n",
                "\r\n",
                "### 1. Select **Source Control**.\r\n",
                "\r\n",
                "<img src=\"https://user-images.githubusercontent.com/61198055/75811318-2ce70980-5d5a-11ea-9627-bb593d6cb3c6.png\" width=\"30%\" height=\"auto\">\r\n",
                "\r\n",
                "### 2. Enter the path to the **folder to initialize as a Git repository** and press Enter.\r\n",
                "\r\n",
                "<img src=\"https://user-images.githubusercontent.com/61198055/75812291-f7432000-5d5b-11ea-8de7-6c405a50ead2.png\" width=\"50%\" height=\"auto\">\r\n",
                ""
            ],
            "metadata": {
                "azdata_cell_guid": "3c49ab89-778d-4db3-ad2b-c679e7076625"
            }
        },
        {
            "cell_type": "markdown",
            "source": [
                "[<Previous](CH-07-01.ipynb)  |   [Next>](CH-07-03.ipynb)"
            ],
            "metadata": {
                "azdata_cell_guid": "0067041a-9b18-4a44-bc44-61def8ef08b4"
            }
        }
    ]
}
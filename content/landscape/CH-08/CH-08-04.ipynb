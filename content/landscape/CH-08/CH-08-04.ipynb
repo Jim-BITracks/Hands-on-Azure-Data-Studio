{
    "metadata": {
        "kernelspec": {
            "name": "SQL",
            "display_name": "SQL",
            "language": "sql"
        },
        "language_info": {
            "name": "sql",
            "version": ""
        }
    },
    "nbformat_minor": 2,
    "nbformat": 4,
    "cells": [
        {
            "cell_type": "markdown",
            "source": [
                "# PowerShell for ADS\r\n",
                "\r\n",
                "[<Back](readme.md)"
            ],
            "metadata": {
                "azdata_cell_guid": "50e616d5-7c90-421f-b19d-2cd6e346ea49"
            }
        },
        {
            "cell_type": "markdown",
            "source": [
                "[<Previous](CH-08-03.ipynb)  |  [Next>](CH-08-05.ipynb)"
            ],
            "metadata": {
                "azdata_cell_guid": "a1e32a45-3c18-42f8-9e53-b369b5325fd2"
            }
        }
    ]
}
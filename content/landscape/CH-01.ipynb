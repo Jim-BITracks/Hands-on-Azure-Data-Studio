{
    "metadata": {
        "kernelspec": {
            "name": "SQL",
            "display_name": "SQL",
            "language": "sql"
        },
        "language_info": {
            "name": "sql",
            "version": ""
        }
    },
    "nbformat_minor": 2,
    "nbformat": 4,
    "cells": [
        {
            "cell_type": "markdown",
            "source": [
                "# Open Source, Cross-Platform, Multi-Database\r\n",
                "\r\n",
                "[<Back](readme.md)\r\n",
                "\r\n",
                "I’ve had many strange looks after mentioning “Open Source” and “Microsoft” within the same sentence. However, that is only the beginning when it comes to Azure Data Studio (ADS), which offers both Cross-Platform and Multi-Database capabilities. This is not the Microsoft from the years of Steve Ballmer, who once referred to the free software Linux kernel as \"communism\". (Full disclosure: Mr. Ballmer has a new and open perspective today)\r\n",
                "\r\n",
                "1.\tWhat “Open Source” means for this new breed of Microsoft Software\r\n",
                "2.\tThe new options provided by “Cross-Platform” computing\r\n",
                "3.\tWhat “Multi-Database” means for your SQL experience"
            ],
            "metadata": {
                "azdata_cell_guid": "352a45b4-e36d-4e8c-92c9-5b6e54dfa69d"
            }
        },
        {
            "cell_type": "markdown",
            "source": [
                "[![Video Link](http://img.youtube.com/vi/6xE3YYjmU-Y/0.jpg)](https://www.youtube.com/watch?v=6xE3YYjmU-Y \"Link to Top Azure Data Studio Features Review video\")"
            ],
            "metadata": {
                "azdata_cell_guid": "3be84954-802e-4e08-a8e4-4f4f85a6b932"
            }
        },
        {
            "cell_type": "markdown",
            "source": [
                "   [Next>](C:\\ADS\\Notebooks\\Practical_ADS\\content\\landscape\\CH-02.ipynb)  "
            ],
            "metadata": {
                "azdata_cell_guid": "8b638309-c2ca-40d1-a362-a11e96e5d424"
            }
        }
    ]
}
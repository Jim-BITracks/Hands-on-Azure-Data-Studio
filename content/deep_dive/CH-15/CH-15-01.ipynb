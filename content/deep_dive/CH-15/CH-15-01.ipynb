{
    "metadata": {
        "kernelspec": {
            "name": "SQL",
            "display_name": "SQL",
            "language": "sql"
        },
        "language_info": {
            "name": "sql",
            "version": ""
        }
    },
    "nbformat_minor": 2,
    "nbformat": 4,
    "cells": [
        {
            "cell_type": "markdown",
            "source": [
                "# The AZ PowerShell Module\r\n",
                "\r\n",
                "[<Back](readme.md)\r\n",
                ""
            ],
            "metadata": {
                "azdata_cell_guid": "2ff45897-6649-453f-bb4d-b97febb9879c"
            }
        },
        {
            "cell_type": "markdown",
            "source": [
                " [<Previous](../CH-14/readme.md)    |   [Next>](CH-15-02.ipynb)"
            ],
            "metadata": {
                "azdata_cell_guid": "9dfbbb9a-7a89-4945-a120-4d904ad74794"
            }
        }
    ]
}
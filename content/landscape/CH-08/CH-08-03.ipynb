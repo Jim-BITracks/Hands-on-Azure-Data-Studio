{
    "metadata": {
        "kernelspec": {
            "name": "SQL",
            "display_name": "SQL",
            "language": "sql"
        },
        "language_info": {
            "name": "sql",
            "version": ""
        }
    },
    "nbformat_minor": 2,
    "nbformat": 4,
    "cells": [
        {
            "cell_type": "markdown",
            "source": [
                "# SQL Server Schema Compare\r\n",
                "\r\n",
                "[<Back](readme.md)"
            ],
            "metadata": {
                "azdata_cell_guid": "3a425382-0ae1-47c0-bf78-b5e7c29c391d"
            }
        },
        {
            "cell_type": "markdown",
            "source": [
                "[<Previous](CH-08-02.ipynb)  |  [Next>](CH-08-04.ipynb)"
            ],
            "metadata": {
                "azdata_cell_guid": "1356144a-d0a5-421a-b84c-dffc04e6e771"
            }
        }
    ]
}
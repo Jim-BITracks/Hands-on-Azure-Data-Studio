{
    "metadata": {
        "kernelspec": {
            "name": "SQL",
            "display_name": "SQL",
            "language": "sql"
        },
        "language_info": {
            "name": "sql",
            "version": ""
        }
    },
    "nbformat_minor": 2,
    "nbformat": 4,
    "cells": [
        {
            "cell_type": "markdown",
            "source": [
                "# Open Source, Cross-Platform, Multi-Database\r\n",
                "\r\n",
                "[<Back](readme.md)\r\n",
                "\r\n",
                "I’ve had many strange looks after mentioning “Open Source” and “Microsoft” within the same sentence. However, that is only the beginning when it comes to Azure Data Studio (ADS), which offers both Cross-Platform and Multi-Database capabilities. This is not the Microsoft from the years of Steve Ballmer, who once referred to the free software Linux kernel as \"communism\". (Full disclosure: Mr. Ballmer has a new and open perspective today)\r\n",
                "\r\n",
                "1.  \t*What “Open Source” means for this new breed of Microsoft Software*\r\n",
                "\r\n",
                "    The source code for Azure Data Studio and its data providers is available on GitHub. The source code for the front-end Azure Data Studio (which is based on Visual Studio Code) is available under a source code EULA that provides rights to modify and use the software, but not to redistribute it or host it in a cloud service. The source code for the data providers is available under the MIT license at https://github.com/Microsoft/sqltoolsservice.\r\n",
                "\r\n",
                "2.\t    *The new options provided by “Cross-Platform” computing*\r\n",
                "\r\n",
                "    Azure Data Studio is a cross-platform database tool for data professionals using the Microsoft family of on-premises and cloud data platforms on Windows, MacOS, and Linux. On each platform, when you start Azure Data Studio, it checks itself and all your extensions and gives you the option to update them, regardless of your platform.\r\n",
                "\r\n",
                "3.\t    *What “Multi-Database” means for your SQL experience*\r\n",
                "\r\n",
                "    Azure Data Studio offers a modern editor experience for managing data across multiple sources with fast intellisense, code snippets, source control integration, and an integrated terminal. Azure Data Studio is engineered with the data platform user in mind, with built-in charting of query result-sets and customizable dashboards. In Azure Data Studio, you can connect to multiple data systems, not just SQL Server, like Apache Hadoop HDFS,  Apache Spark™, and others. And if you don’t find what you need, you can make more.\r\n",
                "\r\n",
                "    The elastic query feature (in preview) enables you to run a Transact-SQL query that spans multiple databases in Azure SQL Database. It allows you to perform cross-database queries to access remote tables, and to connect Microsoft and third-party tools (Excel, Power BI, Tableau, etc.) to query across data tiers with multiple databases."
            ],
            "metadata": {
                "azdata_cell_guid": "352a45b4-e36d-4e8c-92c9-5b6e54dfa69d"
            }
        },
        {
            "cell_type": "markdown",
            "source": [
                "! (http://img.youtube.com/vi/6xE3YYjmU-Y/0.jpg)(https://youtu.be/6xE3YYjmU-Y \"Link to Top Azure Data Studio Features Review video\")"
            ],
            "metadata": {
                "azdata_cell_guid": "3be84954-802e-4e08-a8e4-4f4f85a6b932"
            }
        },
        {
            "cell_type": "markdown",
            "source": [
                "<a href=\"http://www.youtube.com/watch?feature=player_embedded&v=6xE3YYjmU-Y\" target=\"_blank\"><img src=\"http://img.youtube.com/vi/6xE3YYjmU-Y/0.jpg\" alt=\"Azure Data Studio - Part 1\" width=\"240\" height=\"180\" border=\"10\" /></a>"
            ],
            "metadata": {
                "azdata_cell_guid": "e164e229-d7b6-4b7f-b966-6a384d0ac58c"
            }
        },
        {
            "cell_type": "markdown",
            "source": [
                "[![Azure Data Studio - Part 1](http://img.youtube.com/vi/6xE3YYjmU-Y/0.jpg)(http://www.youtube.com/watch?v=6xE3YYjmU-Y)"
            ],
            "metadata": {
                "azdata_cell_guid": "ca75c95c-9731-4ecc-b069-dfda28c71633"
            }
        },
        {
            "cell_type": "markdown",
            "source": [
                "[I'm an inline-style link](https://www.google.com)"
            ],
            "metadata": {
                "azdata_cell_guid": "6cb12473-2185-4500-aa14-6e915e8e27e6"
            }
        },
        {
            "cell_type": "markdown",
            "source": [
                "<img src=\"https://user-images.githubusercontent.com/61198055/75062556-04852280-54b1-11ea-9e5e-45f80ea175cc.png\" width=\"40%\" height=\"auto\">\r\n",
                "\r\n",
                "\r\n",
                "[Link to Top Azure Data Studio Features Review video](http://img.youtube.com/vi/6xE3YYjmU-Y/0.jpg \"youtube\")"
            ],
            "metadata": {
                "azdata_cell_guid": "7ca149ac-3217-4273-b36e-7acf04882123"
            }
        },
        {
            "cell_type": "markdown",
            "source": [
                "   [Next>](CH-02.ipynb)  "
            ],
            "metadata": {
                "azdata_cell_guid": "8b638309-c2ca-40d1-a362-a11e96e5d424"
            }
        }
    ]
}
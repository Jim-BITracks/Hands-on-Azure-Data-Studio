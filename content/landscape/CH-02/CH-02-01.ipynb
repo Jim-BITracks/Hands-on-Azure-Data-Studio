{
    "metadata": {
        "kernelspec": {
            "name": "SQL",
            "display_name": "SQL",
            "language": "sql"
        },
        "language_info": {
            "name": "sql",
            "version": ""
        }
    },
    "nbformat_minor": 2,
    "nbformat": 4,
    "cells": [
        {
            "cell_type": "markdown",
            "source": [
                "\r\n",
                "\r\n",
                "\r\n",
                "\r\n",
                "# Creating, Using, and Managing Connections\r\n",
                "\r\n",
                "[<Back](readme.md)  \r\n",
                "\r\n",
                "When you open Azure Data Studio, the Welcome page opens up to assist you in getting started with ADS :\r\n",
                "\r\n",
                "<img src=\"https://user-images.githubusercontent.com/61198055/76969907-6f374b80-6901-11ea-9053-da603f4cbc7a.png\" width=\"50%\" height=\"auto\">\r\n",
                "\r\n",
                "The opening screen places you automatically in the context of *Connections* :\r\n",
                "\r\n",
                "<img src=\"https://user-images.githubusercontent.com/61198055/76970674-99d5d400-6902-11ea-8992-29f0dbb33401.PNG\">\r\n",
                "\r\n",
                "## **Connecting to SQL Server using Azure Data Studio**\r\n",
                "For this you would need to:\r\n",
                " + Windows - Download SQL Server 2017 Developer Edition\r\n",
                " + macOS - Download SQL Server 2017 on Docker\r\n",
                " + Linux - Download SQL Server 2017 Developer Edition \r\n",
                "\r\n",
                "### 1. Start Azure Data Studio and Select **New Connection** to open the Connection pane:\r\n",
                "\r\n",
                "  <img src=\"https://user-images.githubusercontent.com/61198055/76971236-4d3ec880-6903-11ea-803e-e293618efcb3.PNG\" width=\"50%\" height=\"auto\">\r\n",
                "\r\n",
                "   Or You could also, open the ‘Servers’ container located in the ‘Side Bar’, and click on the **‘Add connection’** mini icon :\r\n",
                "\r\n",
                "   <img src=\"https://user-images.githubusercontent.com/61198055/76971524-ae669c00-6903-11ea-8dbe-425df6c73acd.PNG\" width=\"50%\" height=\"auto\">\r\n",
                "\r\n",
                "### 2. A form will appear on the right side of the ADS application, allowing you to provide the specifics for your connection :\r\n",
                "\r\n",
                " <img src=\"https://user-images.githubusercontent.com/61198055/76971758-fe456300-6903-11ea-981c-3450a215952e.PNG\" width=\"50%\" height=\"auto\">\r\n",
                "\r\n",
                "### 3. Fill in the fields and Select **Connect** :\r\n",
                "\r\n",
                " * Server Name : Enter server name here. For example, localhost.\r\n",
                " * Authentication Type : **SQL Login** or Windows Authentication or Azure Active Directory. The choice of ‘Authentication types’ are highlighted in the following image:\r\n",
                "\r\n",
                "  <img src=\"https://user-images.githubusercontent.com/61198055/76981204-a2350b80-6910-11ea-8faf-1716ac2d7403.PNG\" width=\"50%\" height=\"auto\">\r\n",
                "\r\n",
                " * User name : User name for the SQL Server\r\n",
                " * Password : Password for the SQL Server\r\n",
                " * Database Name : Select your database name\r\n",
                " * Server Group : \\<Default>\r\n",
                "\r\n",
                "\r\n",
                "\r\n",
                "\r\n",
                "## **Connecting to Azure SQL Database using Azure Data Studio**\r\n",
                "\r\n",
                "For this you would need to: \r\n",
                "  + Install Azure SQL Database server\r\n",
                "\r\n",
                "### 1. Start Azure Data Studio and Click the **New Connection icon** in the SERVERS page.\r\n",
                "\r\n",
                "<img src=\"https://user-images.githubusercontent.com/61198055/76982240-f987ab80-6911-11ea-8c9f-646924d6eeb8.PNG\" width=\"50%\" height=\"auto\">\r\n",
                "\r\n",
                "### 2. Fill in the fields as follows:  \r\n",
                "\r\n",
                "+ Server Name : Enter server name here. Something like: **servername.database.windows.net**. \r\n",
                "\r\n",
                "  **Azure Container in ADS** : You can also use the ‘Azure’ container found in ADS ‘Side Bar’ to browse all your Azure based Servers and Databases. To take advantage of this ‘Azure database browsing’ feature be sure that you have authenticated with Azure Active Directory for your current ‘desktop’ session:  \r\n",
                "  <img src=\"https://user-images.githubusercontent.com/61198055/76984521-59338600-6915-11ea-81ee-22a9c7c12d8f.PNG\" width=\"40%\" height=\"auto\">\r\n",
                "\r\n",
                "+ Authentication Type : SQL Login or Azure Active Directory\r\n",
                "+ User name : User name for the Server.\r\n",
                "+ Password : Password for the account.\r\n",
                "+ Database Name : Select your database name to connect to\r\n",
                "+ Server Group : < Default >\r\n",
                "\r\n",
                "### 3. Select **Connect**. After successfully connecting, your server opens in the SERVERS sidebar.\r\n",
                "\r\n",
                "<img src=\"https://user-images.githubusercontent.com/61198055/76439374-b027e100-6392-11ea-9f64-a7b6d7a868db.png\" width=\"50%\" height=\"auto\">\r\n",
                "\r\n",
                "\r\n",
                "## **Connecting to PostgreSQL using Azure Data Studio**\r\n",
                "\r\n",
                "For this you would need to:\r\n",
                " + Install PostgreSQL   \r\n",
                " + Install the PostgreSQL extension for Azure Data Studio:  \r\n",
                "\r\n",
                " <img src=\"https://user-images.githubusercontent.com/61198055/76987019-de6c6a00-6918-11ea-954a-35843e1f2048.PNG\" width=\"30%\" height=\"auto\">  \r\n",
                "\r\n",
                "   \r\n",
                " \r\n",
                "### 1. Click the **New Connection icon** in the SERVERS page. In the form that pops up, go to Connection type and **select PostgreSQL** from the drop-down :\r\n",
                "\r\n",
                "<img src=\"https://user-images.githubusercontent.com/61198055/76987442-8b46e700-6919-11ea-9ebd-bc2b0a4e47f6.PNG\" width=\"50%\" height=\"auto\">\r\n",
                "\r\n",
                "### 2. Fill in the fields and **Connect** : \r\n",
                "\r\n",
                " + Connection Type : **PostgreSQL**\r\n",
                " + Server Name : Enter server name here. You could alternatively ‘browse’ your PostgreSQL servers and databases via the previously mentioned ‘Azure container’ in ADS. \r\n",
                " + User name : User name for the Server. For example, postgres.  \r\n",
                " + Password : Password for the Server  \r\n",
                " + Database Name : Select database name if you want the connection to specify a database\r\n",
                " + Server Group : < Default > \r\n",
                "\r\n",
                "### 3. After successfully connecting, your server opens in the SERVERS sidebar :\r\n",
                "\r\n",
                "<img src=\"https://user-images.githubusercontent.com/61198055/76322138-64553900-62b9-11ea-805b-7a4376c3c723.png\" width=\"60%\" height=\"auto\">\r\n",
                "\r\n",
                ""
            ],
            "metadata": {
                "azdata_cell_guid": "3f6afb08-24ad-4e8e-a82a-2781a0126747"
            }
        },
        {
            "cell_type": "markdown",
            "source": [
                "[<Previous](../CH-01/readme.md)  | [Next>](CH-02-02.ipynb)  "
            ],
            "metadata": {
                "azdata_cell_guid": "87a59e60-633b-4f5b-b6df-73b96a4395aa"
            }
        },
        {
            "cell_type": "code",
            "source": [
                ""
            ],
            "metadata": {
                "azdata_cell_guid": "099c731c-58de-4121-b830-9bf230946ed6"
            },
            "outputs": [],
            "execution_count": null
        }
    ]
}
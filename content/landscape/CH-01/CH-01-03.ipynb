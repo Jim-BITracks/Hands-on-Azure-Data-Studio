{
    "metadata": {
        "kernelspec": {
            "name": "SQL",
            "display_name": "SQL",
            "language": "sql"
        },
        "language_info": {
            "name": "sql",
            "version": ""
        }
    },
    "nbformat_minor": 2,
    "nbformat": 4,
    "cells": [
        {
            "cell_type": "markdown",
            "source": [
                "# What “Multi-Database” means for your SQL experience\r\n",
                "\r\n",
                "[<Back](readme.md)\r\n",
                "\r\n",
                "Azure Data Studio offers a modern editor experience for managing data across multiple sources with fast intellisense, code snippets, source control integration, and an integrated terminal. Azure Data Studio is engineered with the data platform user in mind, with built-in charting of query result-sets and customizable dashboards. In Azure Data Studio, you can connect to multiple data systems, not just SQL Server, like Apache Hadoop HDFS,  Apache Spark™, and others. And if you don’t find what you need, you can make more. It supports SQL Server, PostgreSQL, Azure SQL DB, Azure SQL DW.\r\n",
                "\r\n",
                "The elastic query feature (in preview) enables you to run a Transact-SQL query that spans multiple databases in Azure SQL Database. It allows you to perform cross-database queries to access remote tables, and to connect Microsoft and third-party tools (Excel, Power BI, Tableau, etc.) to query across data tiers with multiple databases."
            ],
            "metadata": {
                "azdata_cell_guid": "a52c50b4-2a69-480c-84ac-cd93517de7b3"
            }
        },
        {
            "cell_type": "markdown",
            "source": [
                "[<Previous](CH-01-02.ipynb)  |   [Next>](../CH-02/readme.md)"
            ],
            "metadata": {
                "azdata_cell_guid": "f43bc782-fd9b-4992-99c5-d902d8a99580"
            }
        }
    ]
}
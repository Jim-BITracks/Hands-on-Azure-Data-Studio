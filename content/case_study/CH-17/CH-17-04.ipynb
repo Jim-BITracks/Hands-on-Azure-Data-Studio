{
    "metadata": {
        "kernelspec": {
            "name": "SQL",
            "display_name": "SQL",
            "language": "sql"
        },
        "language_info": {
            "name": "sql",
            "version": ""
        }
    },
    "nbformat_minor": 2,
    "nbformat": 4,
    "cells": [
        {
            "cell_type": "markdown",
            "source": [
                "# Leveraging all the SQL Editor Features\r\n",
                "\r\n",
                "[<Back](readme.md)"
            ],
            "metadata": {
                "azdata_cell_guid": "64e8ec65-ba04-4952-a5b8-962bb02492e5"
            }
        },
        {
            "cell_type": "markdown",
            "source": [
                " [<Previous](CH-17-03.ipynb)    |   [Next>](CH-17-05.ipynb)"
            ],
            "metadata": {
                "azdata_cell_guid": "06b74167-8982-426f-9247-1705ae2766bd"
            }
        }
    ]
}
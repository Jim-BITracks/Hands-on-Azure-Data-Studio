{
    "metadata": {
        "kernelspec": {
            "name": "powershell",
            "display_name": "PowerShell"
        },
        "language_info": {
            "name": "powershell",
            "codemirror_mode": "shell",
            "mimetype": "text/x-sh",
            "file_extension": ".ps1"
        }
    },
    "nbformat_minor": 2,
    "nbformat": 4,
    "cells": [
        {
            "cell_type": "code",
            "source": [
                "$src_conn = \"Server=localhost;Database=car_crash;Integrated Security=True;\"\r\n",
                "$dest_conn = \"Server=localhost;Database=car_crash;Integrated Security=True;\"\r\n",
                "$src_sql_command = \"SELECT * FROM [edw].[D_TIME]\"\r\n",
                "$dst_schema = \"edw\"\r\n",
                "$dst_table = \"D_TIME_copy\"\r\n",
                "$dest_truncate = \"Y\"\r\n",
                "\r\n",
                "#new method for BulkCopy\r\n",
                "$source = 'namespace System.Data.SqlClient\r\n",
                "{\r\n",
                "\tusing Reflection;\r\n",
                "\r\n",
                "\tpublic static class SqlBulkCopyExtension\r\n",
                "\t{\r\n",
                "\t\tconst String _rowsCopiedFieldName = \"_rowsCopied\";\r\n",
                "\t\tstatic FieldInfo _rowsCopiedField = null;\r\n",
                "\r\n",
                "\t\tpublic static int RowsCopiedCount(this SqlBulkCopy bulkCopy)\r\n",
                "\t\t{\r\n",
                "\t\t\tif (_rowsCopiedField == null) _rowsCopiedField = typeof(SqlBulkCopy).GetField(_rowsCopiedFieldName, BindingFlags.NonPublic | BindingFlags.GetField | BindingFlags.Instance);\r\n",
                "\t\t\treturn (int)_rowsCopiedField.GetValue(bulkCopy);\r\n",
                "\t\t}\r\n",
                "\t}\r\n",
                "}\r\n",
                "'\r\n",
                "Add-Type -WarningAction Ignore -IgnoreWarnings -ReferencedAssemblies System.Runtime, System.Data, System.Data.SqlClient -TypeDefinition $source\r\n",
                "$null= [Reflection.Assembly]::LoadWithPartialName(\"System.Data\")\r\n",
                "\r\n",
                "\r\n",
                "# truncate destination table\r\n",
                "if ($dest_truncate -eq \"Y\")\r\n",
                "{\r\n",
                "    $dest_conn_ = New-Object System.Data.SqlClient.SqlConnection\r\n",
                "    $dest_conn_.ConnectionString = $dest_conn\r\n",
                "    $dest_cmd_ = New-Object System.Data.SqlClient.SqlCommand\r\n",
                "    $dest_cmd_.Connection = $dest_conn_\r\n",
                "    $dest_cmd_.CommandText = \"TRUNCATE TABLE [$dst_schema].[$dst_table]\"\r\n",
                "    Write-Output \"destination truncated\"\r\n",
                "    try\r\n",
                "    {\r\n",
                "        $dest_conn_.Open()\r\n",
                "        $dest_cmd_.ExecuteNonQuery()\r\n",
                "        $dest_conn_.Close()\r\n",
                "\r\n",
                "    }\r\n",
                "    catch\r\n",
                "    {\r\n",
                "        $dest_conn_.Close()\r\n",
                "        Write-Output 'Error: Truncate destination table failed!'\r\n",
                "\t\treturn\r\n",
                "    }\r\n",
                "}\r\n",
                "\r\n",
                "# set-up source connection\r\n",
                "$src_conn_ = New-Object System.Data.SqlClient.SqlConnection\r\n",
                "$src_conn_.ConnectionString = $src_conn\r\n",
                "$src_cmd = New-Object System.Data.SqlClient.SqlCommand\r\n",
                "$src_cmd.Connection = $src_conn_\r\n",
                "$src_cmd.CommandText = $src_sql_command\r\n",
                "\r\n",
                "\r\n",
                "# bulk copy\r\n",
                "\r\n",
                "try\r\n",
                "{\r\n",
                "    $src_conn_.Open()\r\n",
                "\r\n",
                "    [System.Data.SqlClient.SqlDataReader] $SqlTable = $src_cmd.ExecuteReader()\r\n",
                "    $columns = $SqlTable.GetColumnSchema().ForEach({$_.ColumnName}).Split(\",\").Trim()\r\n",
                "\r\n",
                "    $dst_bulkCopy = New-Object System.Data.SqlClient.SqlBulkCopy($dest_conn,[System.Data.SqlClient.SqlBulkCopyOptions]::Default)\r\n",
                "    $dst_bulkCopy.DestinationTableName = \"[$dst_schema].[$dst_table]\"\r\n",
                "\r\n",
                "    foreach ($column in $columns) { $dst_bulkCopy.ColumnMappings.Add($column, $column)}\r\n",
                "\r\n",
                "    $dst_bulkCopy.BatchSize = $batch_size\r\n",
                "    $dst_bulkCopy.BulkCopyTimeout = 3600 #in seconds = 1 hour\r\n",
                "    $dst_bulkCopy.Add_SqlRowscopied({Write-Host \"$($args[1].RowsCopied) rows copied\" })\r\n",
                "    $dst_bulkCopy.WriteToServer($SqlTable)\r\n",
                "    $src_conn_.Close()\r\n",
                "    $rowcount_end = [System.Data.SqlClient.SqlBulkCopyExtension]::RowsCopiedCount($dst_bulkCopy)\r\n",
                "\r\n",
                "    Write-Output \"Row Count $rowcount_end\"\r\n",
                "\r\n",
                "}\r\n",
                "catch\r\n",
                "{\r\n",
                "    $src_conn_.Close()\r\n",
                "    Write-Output 'Error: Bulk Copy failed!'  $_.Exception.Message\r\n",
                "}\r\n",
                ""
            ],
            "metadata": {
                "azdata_cell_guid": "1e51a49f-0cbe-4002-9588-61da775ece32",
                "tags": []
            },
            "outputs": [
                {
                    "output_type": "stream",
                    "name": "stdout",
                    "text": "Add-Type : (0) : Metadata file 'System.Data.SqlClient.dll' could not be found\n(1) : namespace System.Data.SqlClient\nAt line:24 char:1\n+ Add-Type -WarningAction Ignore -IgnoreWarnings -ReferencedAssemblies  ...\n+ ~~~~~~~~~~~~~~~~~~~~~~~~~~~~~~~~~~~~~~~~~~~~~~~~~~~~~~~~~~~~~~~~~~~~~\n    + CategoryInfo          : InvalidData: (Microsoft.Power...peCompilerError:AddTypeCompilerError) [Add-Type], Except \n   ion\n    + FullyQualifiedErrorId : SOURCE_CODE_ERROR,Microsoft.PowerShell.Commands.AddTypeCommand\n \nAdd-Type : Cannot add type. Compilation errors occurred.\nAt line:24 char:1\n+ Add-Type -WarningAction Ignore -IgnoreWarnings -ReferencedAssemblies  ...\n+ ~~~~~~~~~~~~~~~~~~~~~~~~~~~~~~~~~~~~~~~~~~~~~~~~~~~~~~~~~~~~~~~~~~~~~\n    + CategoryInfo          : InvalidData: (:) [Add-Type], InvalidOperationException\n    + FullyQualifiedErrorId : COMPILER_ERRORS,Microsoft.PowerShell.Commands.AddTypeCommand\n \ndestination truncated\n-1\nError: Bulk Copy failed!\nMethod invocation failed because [System.Data.Common.DataRecordInternal] does not contain a method named 'GetColumnSchema'.\n"
                }
            ],
            "execution_count": 1
        },
        {
            "cell_type": "code",
            "source": [
                "$PSVersionTable\r\n",
                ""
            ],
            "metadata": {
                "azdata_cell_guid": "400568bd-732e-43a4-9bf9-5493c41418f0",
                "tags": [
                    "hide_input"
                ]
            },
            "outputs": [
                {
                    "name": "stdout",
                    "text": "\nName                           Value                                                                                   \n----                           -----                                                                                   \nPSVersion                      5.1.18362.752                                                                           \nPSEdition                      Desktop                                                                                 \nPSCompatibleVersions           {1.0, 2.0, 3.0, 4.0...}                                                                 \nBuildVersion                   10.0.18362.752                                                                          \nCLRVersion                     4.0.30319.42000                                                                         \nWSManStackVersion              3.0                                                                                     \nPSRemotingProtocolVersion      2.3                                                                                     \nSerializationVersion           1.1.0.1                                                                                 \n\n\n",
                    "output_type": "stream"
                }
            ],
            "execution_count": 9
        }
    ]
}
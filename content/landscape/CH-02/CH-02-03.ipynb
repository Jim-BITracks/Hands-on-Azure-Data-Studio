{
    "metadata": {
        "kernelspec": {
            "name": "SQL",
            "display_name": "SQL",
            "language": "sql"
        },
        "language_info": {
            "name": "sql",
            "version": ""
        }
    },
    "nbformat_minor": 2,
    "nbformat": 4,
    "cells": [
        {
            "cell_type": "markdown",
            "source": [
                "# Central Management Servers Extension\n",
                "\n",
                "[<Back](readme.md)\n",
                "\n",
                "Azure Data Studio has an extension called ‘Central Management Servers’ which may also be used to group server level connections. This extension allows users to store a list of instances of SQL Server that is organized into one or more groups. Actions that are taken using a CMS group act on all servers in the server group.  \n",
                "\n",
                "### **Installing the SQL Server Central Management Servers extension:**\n",
                "  Step 1. Select the extensions icon, or select Extensions in the View menu.  \n",
                "  Step 2. Select the extension you want (SQL Server Central Management Servers) and Install it.\n",
                "\n",
                "<img src=\"https://user-images.githubusercontent.com/61198055/76995756-b84dc680-6926-11ea-9672-ecf8e91bb1fe.PNG\" width=\"60%\" height=\"auto\">\n",
                "\n",
                "### **Using Central Management Servers :**\n",
                "\n",
                " Central Management Servers can be viewed by clicking on the **Connections icon (Ctrl/Cmd + G)**. The first time you download the extension, the CMS view will be minimized, and you can open it by click on Central Management Servers and add a central management server using the **Add button** :\n",
                "\n",
                " <img src=\"https://user-images.githubusercontent.com/61198055/76343812-07687b80-62d7-11ea-925c-458cd7324707.png\" width=\"40%\" height=\"auto\">\n",
                "\n",
                "\n",
                " After adding a central management server, you can add one or more **server groups to the central management server**  \n",
                " Now after creating groups of servers, you can perform actions on all the servers under a group at the same time.  \n",
                "   For example, if you wanted to execute the SQL command: **SELECT @@VERSION** on multiple servers, you could run this query against an entire ‘Server Group’ - ‘OnPremise’. The result set is from multiple servers :\n",
                "\n",
                " <img src=\"https://user-images.githubusercontent.com/61198055/76995787-c56ab580-6926-11ea-9093-149d921f0d8a.PNG\" width=\"60%\" height=\"auto\">\n",
                "\n",
                " It should be mentioned that at the time of this writing the ‘Central Management Servers’ extension for ADS is in ‘preview’ mode, and not 100% functional. As an temporary fix, this feature is available and working in SQL Server Management Studio."
            ],
            "metadata": {
                "azdata_cell_guid": "f0173988-67fd-4d26-8c6f-68388d9c19cf"
            }
        },
        {
            "cell_type": "markdown",
            "source": [
                "  [<Previous](CH-02-02.ipynb)  "
            ],
            "metadata": {
                "azdata_cell_guid": "3cb89b9c-8254-4564-9b1c-80bac704bb87"
            }
        }
    ]
}
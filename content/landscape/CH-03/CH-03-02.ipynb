{
    "metadata": {
        "kernelspec": {
            "name": "SQL",
            "display_name": "SQL",
            "language": "sql"
        },
        "language_info": {
            "name": "sql",
            "version": ""
        }
    },
    "nbformat_minor": 2,
    "nbformat": 4,
    "cells": [
        {
            "cell_type": "markdown",
            "source": [
                "# Saving Queries and Snippets\r\n",
                "\r\n",
                "[<Back](readme.md)\r\n",
                "\r\n",
                "A Transact-SQL.code snippet is a template containing the basic structure of a Transact-SQL statement or block. You can use snippets as a starting point when adding statements in the Query Editor. You can insert the pre-defined snippets supplied with Azure Data Studio, or create your own.\r\n",
                "\r\n",
                "## Creating SQL code snippets\r\n",
                "\r\n",
                "### **1. Open the Command Palette (Shift+Ctrl+P), and type snip, and select Preferences: Configure User Snippets:**\r\n",
                "\r\n",
                "<img src=\"https://user-images.githubusercontent.com/61198055/75582918-9bfeee00-5a3a-11ea-957a-d7b354d259c5.png\" width=\"70%\" height=\"auto\">\r\n",
                "\r\n",
                "### **2. Selecting sql(json) will open a new sql.json window, if you don't have any custom snippets defined, or an existing one.**\r\n",
                "\r\n",
                "<img src=\"https://user-images.githubusercontent.com/61198055/76221540-9f8b3580-61ef-11ea-9a8c-4b62a84ad523.png\" width=\"75%\" height=\"auto\">\r\n",
                "\r\n",
                "### **3. Basic template for a snippet :**  \r\n",
                "You can add any number of snippets you want separating each by a comma.\r\n",
                "```json\r\n",
                "\"<name of the snippet>\": {\r\n",
                "\"prefix\":\"<sqlNameOfthePrefix>\",\r\n",
                "\"body\":[\r\n",
                "\"<T-SQL code line 1 ${1:DefaultValue1}>\",\r\n",
                "\"<T-SQL code line 2 ${2:DefaultValue2}>\"\r\n",
                "\"<T-SQL code line N>\"\r\n",
                "],\r\n",
                "\"description\":\"<Snippet description>\"\r\n",
                "}\r\n",
                "```\r\n",
                "\r\n",
                "### **4. Save your snippet using Ctrl+S or File menu -> Save**  \r\n",
                "   Your saved custom snippet, in our example **sqlProjectDetail**, is now available for use. \r\n",
                "\r\n",
                "   <img src=\"https://user-images.githubusercontent.com/61198055/76556594-39611580-6470-11ea-943f-4e9e23a25fb6.png\" width=\"50%\" height=\"auto\">\r\n",
                "\r\n",
                "### **To test the custom code snippet that we just created :**\r\n",
                "### 1. It is available to use in both Query file and notebook code cells :\r\n",
                "+ Either Open a new **query window** and type sql, the new snippet should show up in the list :\r\n",
                "\r\n",
                "<img src=\"https://user-images.githubusercontent.com/61198055/76558400-a32eee80-6473-11ea-8fe2-83bf81a88290.png\" width=\"65%\" height=\"auto\">\r\n",
                "\r\n",
                "\r\n",
                "+ OR Open a **Notebook -> open a Code cell** and type sql, the new snippet should show up in the list :\r\n",
                "\r\n",
                "<img src=\"https://user-images.githubusercontent.com/61198055/76566254-bd23fd80-6482-11ea-8c9a-cad406ac4c41.png\" width=\"70%\" height=\"auto\">\r\n",
                "\r\n",
                "### 2. Select the snippet name and the query loads into the window. Select **Run** to execute it :\r\n",
                "\r\n",
                "<img src=\"https://user-images.githubusercontent.com/61198055/76564973-045cbf00-6480-11ea-9a09-b3c7b1d45037.png\" width=\"50%\" height=\"auto\">\r\n",
                "\r\n",
                "\r\n",
                "\r\n",
                ""
            ],
            "metadata": {
                "azdata_cell_guid": "c129ef41-0bba-4e6c-8a67-830b8a2be93c"
            }
        },
        {
            "cell_type": "markdown",
            "source": [
                "[<Previous](CH-03-01.ipynb)  |   [Next>](CH-03-03.ipynb) "
            ],
            "metadata": {
                "azdata_cell_guid": "36396bd2-8e03-479e-b1db-a343b47df936"
            }
        }
    ]
}
{
    "metadata": {
        "kernelspec": {
            "name": "SQL",
            "display_name": "SQL",
            "language": "sql"
        },
        "language_info": {
            "name": "sql",
            "version": ""
        }
    },
    "nbformat_minor": 2,
    "nbformat": 4,
    "cells": [
        {
            "cell_type": "markdown",
            "source": [
                "# Getting Things Done with Notebooks\r\n",
                "\r\n",
                "[<Back](C:\\ADS\\Notebooks\\Practical_ADS\\content\\landscape\\readme.md)\r\n",
                "\r\n",
                "Notebooks are a sleeping giant, poised to change about everything we do with data, analysis, and related processes. The ability to store Rich Text, Queries and Results in a tidy reusable package is groundbreaking enough. However, the broader impact of what can be accomplished using Jupyter Notebooks is truly stunning…\r\n",
                "\r\n",
                "1.\tNotebook Building Blocks\r\n",
                "2.\tThe SQL Kernel Experience\r\n",
                "3.\tAdditional Kernel Options\r\n",
                "4.\tInnovative Possibilities with Notebooks\r\n",
                "5.\tSharing your Notebooks and Narratives"
            ],
            "metadata": {
                "azdata_cell_guid": "3f6afb08-24ad-4e8e-a82a-2781a0126747"
            }
        },
        {
            "cell_type": "markdown",
            "source": [
                "[![Video Link](http://img.youtube.com/vi/4eT8JZxVh3o.jpg)](https://www.youtube.com/watch?v=4eT8JZxVh3o \"Link to Azure Data Studio - Notebooks Video\")  "
            ],
            "metadata": {
                "azdata_cell_guid": "9c9b705c-b101-48fd-8d34-17b26b055dd9"
            }
        },
        {
            "cell_type": "markdown",
            "source": [
                "  [<Previous](C:\\ADS\\Notebooks\\Practical_ADS\\content\\landscape\\CH-04.ipynb)  |   [Next>](C:\\ADS\\Notebooks\\Practical_ADS\\content\\landscape\\CH-06.ipynb)  "
            ],
            "metadata": {
                "azdata_cell_guid": "7966e233-4c66-446e-9415-fb01a82fd48d"
            }
        },
        {
            "cell_type": "code",
            "source": [
                ""
            ],
            "metadata": {
                "azdata_cell_guid": "fb0685df-9f84-4399-b4b8-a9586f76df81"
            },
            "outputs": [],
            "execution_count": null
        }
    ]
}
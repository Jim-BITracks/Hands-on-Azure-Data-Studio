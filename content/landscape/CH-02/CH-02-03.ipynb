{
    "metadata": {
        "kernelspec": {
            "name": "SQL",
            "display_name": "SQL",
            "language": "sql"
        },
        "language_info": {
            "name": "sql",
            "version": ""
        }
    },
    "nbformat_minor": 2,
    "nbformat": 4,
    "cells": [
        {
            "cell_type": "markdown",
            "source": [
                "# Central Management Servers Extension\n",
                "\n",
                "[<Back](readme.md)\n",
                "\n",
                "Azure Data Studio has an extension called ‘Central Management Servers’ which may also be used to group server level connections. This extension is found by typing ‘central’ in the Extensions Marketplace. [Full text available at leanpub.com](https://leanpub.com/hands-on-ads)\n",
                "\n",
                "> No code samples in this section"
            ],
            "metadata": {
                "azdata_cell_guid": "f0173988-67fd-4d26-8c6f-68388d9c19cf"
            }
        },
        {
            "cell_type": "markdown",
            "source": [
                "  [<Previous](CH-02-02.ipynb)  "
            ],
            "metadata": {
                "azdata_cell_guid": "3cb89b9c-8254-4564-9b1c-80bac704bb87"
            }
        }
    ]
}
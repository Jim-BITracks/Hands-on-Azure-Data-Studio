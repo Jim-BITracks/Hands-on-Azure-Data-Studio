{
    "metadata": {
        "kernelspec": {
            "name": "SQL",
            "display_name": "SQL",
            "language": "sql"
        },
        "language_info": {
            "name": "sql",
            "version": ""
        }
    },
    "nbformat_minor": 2,
    "nbformat": 4,
    "cells": [
        {
            "cell_type": "markdown",
            "source": [
                "# Installing and Managing your Extensions\r\n",
                "\r\n",
                "[<Back](readme.md)\r\n",
                "\r\n",
                ""
            ],
            "metadata": {
                "azdata_cell_guid": "3f6afb08-24ad-4e8e-a82a-2781a0126747"
            }
        },
        {
            "cell_type": "markdown",
            "source": [
                "  [<Previous](../CH-07/readme.md)  |  [Next>](CH-08-02.ipynb)"
            ],
            "metadata": {
                "azdata_cell_guid": "dc18ee44-3263-402c-8b2f-f86048b7b163"
            }
        },
        {
            "cell_type": "code",
            "source": [
                ""
            ],
            "metadata": {
                "azdata_cell_guid": "fb0685df-9f84-4399-b4b8-a9586f76df81"
            },
            "outputs": [],
            "execution_count": null
        }
    ]
}
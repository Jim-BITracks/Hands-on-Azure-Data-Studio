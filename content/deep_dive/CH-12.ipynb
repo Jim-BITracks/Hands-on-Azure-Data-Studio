{
    "metadata": {
        "kernelspec": {
            "name": "SQL",
            "display_name": "SQL",
            "language": "sql"
        },
        "language_info": {
            "name": "sql",
            "version": ""
        }
    },
    "nbformat_minor": 2,
    "nbformat": 4,
    "cells": [
        {
            "cell_type": "markdown",
            "source": [
                "# The Fully Integrated Terminal Window\r\n",
                "Today the command-line interface is resurgent, expedient, and powerful. So why require a busy data professional to click around for a supplemental Terminal application? Azure Data Studio bakes-in a Terminal based user experience for both convenience and versatility…\r\n",
                "1.\tMulti-Session and Multi-Lingual\r\n",
                "2.\tKey Bindings – Mouse Optional\r\n",
                "3.\tPowerShell Core and Living Cross-Platform"
            ],
            "metadata": {
                "azdata_cell_guid": "2ff45897-6649-453f-bb4d-b97febb9879c"
            }
        },
        {
            "cell_type": "markdown",
            "source": [
                " [<Previous](C:\\ADS\\Notebooks\\Practical_ADS\\content\\deep_dive\\CH-11.ipynb)    |   [Next>](C:\\ADS\\Notebooks\\Practical_ADS\\content\\deep_dive\\CH-13.ipynb)"
            ],
            "metadata": {
                "azdata_cell_guid": "8b2d29e8-bb6e-4d71-b3e2-f7b26497479a"
            }
        }
    ]
}
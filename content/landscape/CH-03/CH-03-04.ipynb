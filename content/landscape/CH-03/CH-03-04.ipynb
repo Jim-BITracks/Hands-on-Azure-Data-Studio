{
    "metadata": {
        "kernelspec": {
            "name": "SQL",
            "display_name": "SQL",
            "language": "sql"
        },
        "language_info": {
            "name": "sql",
            "version": ""
        }
    },
    "nbformat_minor": 2,
    "nbformat": 4,
    "cells": [
        {
            "cell_type": "markdown",
            "source": [
                "# SQL Queries via the Command Terminal\r\n",
                "\r\n",
                "[<Back](readme.md)\r\n",
                "\r\n",
                "In Azure Data Studio, you can open an integrated terminal to perform a quick command-line task. initially starting at the root of your workspace. This can be convenient as you don't have to switch windows or alter the state of an existing terminal \r\n",
                "\r\n",
                "## 1. To open the terminal:\r\n",
                "\r\n",
                "* **Use the Ctrl+` keyboard shortcut with the backtick character.**\r\n",
                "\r\n",
                "* **Use the View | Terminal menu command.**\r\n",
                "\r\n",
                "* **From the Command Palette (Ctrl+Shift+P), use the View:Toggle Integrated Terminal command.**\r\n",
                "\r\n",
                "<img src=\"https://user-images.githubusercontent.com/61198055/75689314-fda79e00-5c6e-11ea-9ec5-05b9eb8a6bf6.png\" width=\"30%\" height=\"auto\">\r\n",
                "\r\n",
                "### **This opens command terminal at the bottom, initially starting at the root of your workspace :**\r\n",
                "\r\n",
                "<img src=\"https://user-images.githubusercontent.com/61198055/75689648-832b4e00-5c6f-11ea-9187-84aa9d6a5841.png\" width=\"30%\" height=\"auto\">\r\n",
                "\r\n",
                "## 2. Typing in Sqlcmd allows executing queries, T-SQL sentences and SQL Server scripts at the command line.  :\r\n",
                "\r\n",
                "<img src=\"https://user-images.githubusercontent.com/61198055/75691847-a1df1400-5c72-11ea-999e-c8bba8fb5e1b.png\" width=\"30%\" height=\"auto\">\r\n",
                "\r\n",
                "\r\n",
                "### **When you connect, you will see the number 1> which means that it is connected and ready to receive queries to execute:**\r\n",
                "<img src=\"https://user-images.githubusercontent.com/61198055/75692622-d1425080-5c73-11ea-9695-5e7fe3e69778.png\" width=\"20%\" height=\"auto\">\r\n",
                "\r\n",
                ""
            ],
            "metadata": {
                "azdata_cell_guid": "9530faca-e6af-4743-a379-43ce14d301e5"
            }
        },
        {
            "cell_type": "markdown",
            "source": [
                "[<Previous](CH-03-03.ipynb)  |   [Next>](../CH-04/readme.md) "
            ],
            "metadata": {
                "azdata_cell_guid": "cf9376cd-e558-4031-80cd-a7a843798cb7"
            }
        }
    ]
}
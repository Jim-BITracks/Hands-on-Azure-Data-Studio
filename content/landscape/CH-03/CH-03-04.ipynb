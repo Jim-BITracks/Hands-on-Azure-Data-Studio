{
    "metadata": {
        "kernelspec": {
            "name": "SQL",
            "display_name": "SQL",
            "language": "sql"
        },
        "language_info": {
            "name": "sql",
            "version": ""
        }
    },
    "nbformat_minor": 2,
    "nbformat": 4,
    "cells": [
        {
            "cell_type": "markdown",
            "source": [
                "# SQL Queries via the Command Terminal\r\n",
                "\r\n",
                "[<Back](readme.md)"
            ],
            "metadata": {
                "azdata_cell_guid": "9530faca-e6af-4743-a379-43ce14d301e5"
            }
        },
        {
            "cell_type": "markdown",
            "source": [
                "[<Previous](CH-03-03.ipynb)  |   [Next>](CH-04/readme.md) "
            ],
            "metadata": {
                "azdata_cell_guid": "cf9376cd-e558-4031-80cd-a7a843798cb7"
            }
        }
    ]
}
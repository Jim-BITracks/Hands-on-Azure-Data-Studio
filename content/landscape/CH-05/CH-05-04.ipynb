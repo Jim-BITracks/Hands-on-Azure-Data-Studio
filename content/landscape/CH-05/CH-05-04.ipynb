{
    "metadata": {
        "kernelspec": {
            "name": "SQL",
            "display_name": "SQL",
            "language": "sql"
        },
        "language_info": {
            "name": "sql",
            "version": ""
        }
    },
    "nbformat_minor": 2,
    "nbformat": 4,
    "cells": [
        {
            "cell_type": "markdown",
            "source": [
                "# Innovative Possibilities with Notebooks\r\n",
                "\r\n",
                "[<Back](readme.md)"
            ],
            "metadata": {
                "azdata_cell_guid": "9a580637-6de2-4d1f-a65f-e029a7fbdc82"
            }
        },
        {
            "cell_type": "markdown",
            "source": [
                "[<Previous](CH-05-03.ipynb)  |   [Next>](CH-05-05.ipynb)"
            ],
            "metadata": {
                "azdata_cell_guid": "667274c9-f0c5-411e-b200-818025e6ff38"
            }
        }
    ]
}
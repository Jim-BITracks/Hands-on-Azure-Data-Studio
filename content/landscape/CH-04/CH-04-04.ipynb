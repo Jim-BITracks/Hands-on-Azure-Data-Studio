{
    "metadata": {
        "kernelspec": {
            "name": "SQL",
            "display_name": "SQL",
            "language": "sql"
        },
        "language_info": {
            "name": "sql",
            "version": ""
        }
    },
    "nbformat_minor": 2,
    "nbformat": 4,
    "cells": [
        {
            "cell_type": "markdown",
            "source": [
                "# Sharing your Results\r\n",
                "\r\n",
                "[<Back](readme.md)"
            ],
            "metadata": {
                "azdata_cell_guid": "8bb17ba5-60bc-4e26-a691-5895ac733bd7"
            }
        },
        {
            "cell_type": "markdown",
            "source": [
                "[<Previous](CH-04-03.ipynb)  | [Next>](../CH-05/readme.md)"
            ],
            "metadata": {
                "azdata_cell_guid": "25ad4c43-ab94-4e85-92f3-7a96b2260699"
            }
        }
    ]
}
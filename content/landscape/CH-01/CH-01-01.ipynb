{
    "metadata": {
        "kernelspec": {
            "name": "SQL",
            "display_name": "SQL",
            "language": "sql"
        },
        "language_info": {
            "name": "sql",
            "version": ""
        }
    },
    "nbformat_minor": 2,
    "nbformat": 4,
    "cells": [
        {
            "cell_type": "markdown",
            "source": [
                "# Open Source, Cross-Platform, Multi-Database\r\n",
                "\r\n",
                "[<Back](readme.md)\r\n",
                "\r\n",
                "## What “Open Source” means for this new breed of Microsoft Software\r\n",
                "Azure Data Studio provides for a happy convergence of ‘free’, ‘powerful’, and ‘open source’. In today's world of software, ‘free’ and ‘powerful’ can often be a winning combination, as demonstrated with popular desktop products such as Notepad++ and web-based applications like Gmail. Adding ‘open source’ to a product is even a greater ‘win’ and has to potential to shift an entire software market. [Full text available at leanpub.com](https://leanpub.com/hands-on-ads)\r\n",
                "\r\n",
                "> No code samples in this section\r\n",
                "\r\n",
                "\r\n",
                ""
            ],
            "metadata": {
                "azdata_cell_guid": "352a45b4-e36d-4e8c-92c9-5b6e54dfa69d"
            }
        },
        {
            "cell_type": "markdown",
            "source": [
                "\r\n",
                "\r\n",
                "\r\n",
                "[Top Azure Data Studio Features Review video](https://youtu.be/6xE3YYjmU-Y \"Open in YouTube\")"
            ],
            "metadata": {
                "azdata_cell_guid": "7ca149ac-3217-4273-b36e-7acf04882123"
            }
        },
        {
            "cell_type": "markdown",
            "source": [
                "[Next>](CH-01-02.ipynb)"
            ],
            "metadata": {
                "azdata_cell_guid": "8b638309-c2ca-40d1-a362-a11e96e5d424"
            }
        }
    ]
}
{
    "metadata": {
        "kernelspec": {
            "name": "SQL",
            "display_name": "SQL",
            "language": "sql"
        },
        "language_info": {
            "name": "sql",
            "version": ""
        }
    },
    "nbformat_minor": 2,
    "nbformat": 4,
    "cells": [
        {
            "cell_type": "markdown",
            "source": [
                "# Notebooks Gone Wild\r\n",
                "As discussed in Chapter 5, Notebooks have many uses and will likely proliferate in your world. This chapter goes undercover to see why and how Juypter Notebooks rock…\r\n",
                "1.\tFeels Like a Book, Build on Json\r\n",
                "2.\tOrganizing, Navigating, Sharing and Trusting\r\n",
                "3.\tGetting at Big Data with Spark\r\n",
                "4.\tNotebooks creating Notebooks – Say What?"
            ],
            "metadata": {
                "azdata_cell_guid": "2ff45897-6649-453f-bb4d-b97febb9879c"
            }
        }
    ]
}
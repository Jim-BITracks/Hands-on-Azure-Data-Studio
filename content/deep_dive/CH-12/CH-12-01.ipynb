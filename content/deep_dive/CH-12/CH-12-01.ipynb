{
    "metadata": {
        "kernelspec": {
            "name": "SQL",
            "display_name": "SQL",
            "language": "sql"
        },
        "language_info": {
            "name": "sql",
            "version": ""
        }
    },
    "nbformat_minor": 2,
    "nbformat": 4,
    "cells": [
        {
            "cell_type": "markdown",
            "source": [
                "# Multi-Session and Multi-Lingual\r\n",
                "\r\n",
                "[<Back](readme.md)\r\n",
                "\r\n",
                ""
            ],
            "metadata": {
                "azdata_cell_guid": "2ff45897-6649-453f-bb4d-b97febb9879c"
            }
        },
        {
            "cell_type": "markdown",
            "source": [
                " [<Previous](../CH-11/readme.md)    |   [Next>](CH-12-02.ipynb)"
            ],
            "metadata": {
                "azdata_cell_guid": "8b2d29e8-bb6e-4d71-b3e2-f7b26497479a"
            }
        }
    ]
}
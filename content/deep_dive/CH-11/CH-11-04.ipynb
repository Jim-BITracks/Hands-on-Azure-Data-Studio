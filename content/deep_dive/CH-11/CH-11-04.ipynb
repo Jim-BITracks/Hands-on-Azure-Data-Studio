{
    "metadata": {
        "kernelspec": {
            "name": "SQL",
            "display_name": "SQL",
            "language": "sql"
        },
        "language_info": {
            "name": "sql",
            "version": ""
        }
    },
    "nbformat_minor": 2,
    "nbformat": 4,
    "cells": [
        {
            "cell_type": "markdown",
            "source": [
                "# Notebooks creating Notebooks – Say What?\r\n",
                "\r\n",
                "[<Back](readme.md)"
            ],
            "metadata": {
                "azdata_cell_guid": "14ae15c7-c3ce-4756-9f6a-d9cd6a04c498"
            }
        },
        {
            "cell_type": "markdown",
            "source": [
                "[<Previous](CH-11-03.ipynb)   |   [Next>](../CH-12/readme.md)"
            ],
            "metadata": {
                "azdata_cell_guid": "1280db33-8b33-4428-b6c3-1c5362ce1cfa"
            }
        }
    ]
}
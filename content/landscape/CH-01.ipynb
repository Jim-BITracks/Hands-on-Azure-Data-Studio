{
    "metadata": {
        "kernelspec": {
            "name": "SQL",
            "display_name": "SQL",
            "language": "sql"
        },
        "language_info": {
            "name": "sql",
            "version": ""
        }
    },
    "nbformat_minor": 2,
    "nbformat": 4,
    "cells": [
        {
            "cell_type": "markdown",
            "source": [
                "# Open Source, Cross-Platform, Multi-Database\r\n",
                "\r\n",
                "[<Back](readme.md)\r\n",
                "\r\n",
                "I’ve had many strange looks after mentioning “Open Source” and “Microsoft” within the same sentence. However, that is only the beginning when it comes to Azure Data Studio (ADS), which offers both Cross-Platform and Multi-Database capabilities. This is not the Microsoft from the years of Steve Ballmer, who once referred to the free software Linux kernel as \"communism\". (Full disclosure: Mr. Ballmer has a new and open perspective today)\r\n",
                "\r\n",
                "1.  \t*What “Open Source” means for this new breed of Microsoft Software*\r\n",
                "\r\n",
                "    The source code for Azure Data Studio and its data providers is available on GitHub. The source code for the front-end Azure Data Studio (which is based on Visual Studio Code) is available under a source code EULA that provides rights to modify and use the software, but not to redistribute it or host it in a cloud service. The source code for the data providers is available under the MIT license at https://github.com/Microsoft/sqltoolsservice.\r\n",
                "\r\n",
                "2.\t    *The new options provided by “Cross-Platform” computing*\r\n",
                "\r\n",
                "    Azure Data Studio is a cross-platform database tool for data professionals using the Microsoft family of on-premises and cloud data platforms on Windows, MacOS, and Linux. On each platform, when you start Azure Data Studio, it checks itself and all your extensions and gives you the option to update them, regardless of your platform.\r\n",
                "\r\n",
                "3.\t    *What “Multi-Database” means for your SQL experience*\r\n",
                "\r\n",
                "    Azure Data Studio offers a modern editor experience for managing data across multiple sources with fast intellisense, code snippets, source control integration, and an integrated terminal. Azure Data Studio is engineered with the data platform user in mind, with built-in charting of query result-sets and customizable dashboards. In Azure Data Studio, you can connect to multiple data systems, not just SQL Server, like Apache Hadoop HDFS,  Apache Spark™, and others. And if you don’t find what you need, you can make more.\r\n",
                "\r\n",
                "    The elastic query feature (in preview) enables you to run a Transact-SQL query that spans multiple databases in Azure SQL Database. It allows you to perform cross-database queries to access remote tables, and to connect Microsoft and third-party tools (Excel, Power BI, Tableau, etc.) to query across data tiers with multiple databases."
            ],
            "metadata": {
                "azdata_cell_guid": "352a45b4-e36d-4e8c-92c9-5b6e54dfa69d"
            }
        },
        {
            "cell_type": "markdown",
            "source": [
                "[![Video Link](http://img.youtube.com/vi/6xE3YYjmU-Y/0.jpg)](https://www.youtube.com/watch?v=6xE3YYjmU-Y \"Link to Top Azure Data Studio Features Review video\")"
            ],
            "metadata": {
                "azdata_cell_guid": "3be84954-802e-4e08-a8e4-4f4f85a6b932"
            }
        },
        {
            "cell_type": "markdown",
            "source": [
                "   [Next>](CH-02.ipynb)  "
            ],
            "metadata": {
                "azdata_cell_guid": "8b638309-c2ca-40d1-a362-a11e96e5d424"
            }
        }
    ]
}
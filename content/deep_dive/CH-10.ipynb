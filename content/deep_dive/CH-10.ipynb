{
    "metadata": {
        "kernelspec": {
            "name": "SQL",
            "display_name": "SQL",
            "language": "sql"
        },
        "language_info": {
            "name": "sql",
            "version": ""
        }
    },
    "nbformat_minor": 2,
    "nbformat": 4,
    "cells": [
        {
            "cell_type": "markdown",
            "source": [
                "# Customizing your Dashboards\r\n",
                "Everyone loves dashboards. They provide compact, strategic visuals which can be informative, reassuring, and even actionable. However, despite their popularity, dashboards and visualizations can be difficult stand-up, and keep relevant. Azure Data Studio is here to help…\r\n",
                "1.\tDashboards and Widgets\r\n",
                "2.\tSQL Queries and your Widgets\r\n",
                "3.\tDrill-in with Insight Detail Pages"
            ],
            "metadata": {
                "azdata_cell_guid": "2ff45897-6649-453f-bb4d-b97febb9879c"
            }
        },
        {
            "cell_type": "markdown",
            "source": [
                " [<Previous](C:\\ADS\\Notebooks\\Practical_ADS\\content\\deep_dive\\CH-09.ipynb)    |   [Next>](C:\\ADS\\Notebooks\\Practical_ADS\\content\\deep_dive\\CH-11.ipynb)"
            ],
            "metadata": {
                "azdata_cell_guid": "66d21f10-7885-4391-98ab-5d7643a9a4c8"
            }
        }
    ]
}
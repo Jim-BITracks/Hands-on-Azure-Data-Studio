{
    "metadata": {
        "kernelspec": {
            "name": "SQL",
            "display_name": "SQL",
            "language": "sql"
        },
        "language_info": {
            "name": "sql",
            "version": ""
        }
    },
    "nbformat_minor": 2,
    "nbformat": 4,
    "cells": [
        {
            "cell_type": "markdown",
            "source": [
                "# The SQL Kernel Experience\r\n",
                "\r\n",
                "[<Back](readme.md)"
            ],
            "metadata": {
                "azdata_cell_guid": "1ba64a74-3eb7-4f2d-91ec-7fcb9a771bdc"
            }
        },
        {
            "cell_type": "markdown",
            "source": [
                "[<Previous](CH-05-01.ipynb)  |   [Next>](CH-05-03.ipynb)"
            ],
            "metadata": {
                "azdata_cell_guid": "c94aa8a3-321d-4db9-8ed4-8f7d90a5a9de"
            }
        }
    ]
}
{
    "metadata": {
        "kernelspec": {
            "name": "SQL",
            "display_name": "SQL",
            "language": "sql"
        },
        "language_info": {
            "name": "sql",
            "version": ""
        }
    },
    "nbformat_minor": 2,
    "nbformat": 4,
    "cells": [
        {
            "cell_type": "markdown",
            "source": [
                "# Getting at Big Data with Spark\r\n",
                "\r\n",
                "[<Back](readme.md)"
            ],
            "metadata": {
                "azdata_cell_guid": "ce5dd23e-cb1e-4296-8c09-a92191ba997d"
            }
        },
        {
            "cell_type": "markdown",
            "source": [
                "[<Previous](CH-11-02.ipynb)   |   [Next>](CH-11-04.ipynb)"
            ],
            "metadata": {
                "azdata_cell_guid": "01dea29d-a7be-4b24-8d2d-23b808b97136"
            }
        }
    ]
}
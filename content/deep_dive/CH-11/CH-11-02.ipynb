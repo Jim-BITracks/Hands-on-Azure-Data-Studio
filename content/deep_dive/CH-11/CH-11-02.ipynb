{
    "metadata": {
        "kernelspec": {
            "name": "SQL",
            "display_name": "SQL",
            "language": "sql"
        },
        "language_info": {
            "name": "sql",
            "version": ""
        }
    },
    "nbformat_minor": 2,
    "nbformat": 4,
    "cells": [
        {
            "cell_type": "markdown",
            "source": [
                "# Organizing, Navigating, Sharing and Trusting\r\n",
                "\r\n",
                "[<Back](readme.md)"
            ],
            "metadata": {
                "azdata_cell_guid": "2bffd019-0e2f-47fa-8601-2d7a87e416cb"
            }
        },
        {
            "cell_type": "markdown",
            "source": [
                "[<Previous](CH-11-01.ipynb)   |   [Next>](CH-11-03.ipynb)"
            ],
            "metadata": {
                "azdata_cell_guid": "ddd44631-6fd4-46a5-8ef2-78fc4a037061"
            }
        }
    ]
}
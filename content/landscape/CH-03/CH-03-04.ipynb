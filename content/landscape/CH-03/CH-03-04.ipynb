{
    "metadata": {
        "kernelspec": {
            "name": "SQL",
            "display_name": "SQL",
            "language": "sql"
        },
        "language_info": {
            "name": "sql",
            "version": ""
        }
    },
    "nbformat_minor": 2,
    "nbformat": 4,
    "cells": [
        {
            "cell_type": "markdown",
            "source": [
                "# SQL Queries via the Command Terminal\r\n",
                "\r\n",
                "[<Back](readme.md)\r\n",
                "\r\n",
                "An interesting capability of Azure Data Studio is the integration of a standard SQL editor with other language options. These language options are available by using *Notebooks* (introduced beginning in Chapter 5), as well as by the integrated *Terminal* window which we will introduce next. [Full text available at leanpub.com](https://leanpub.com/hands-on-ads)\r\n",
                "\r\n",
                "\r\n",
                "## SQL Queries via the Command Terminal\r\n",
                "To query your ‘local instance’ of SQL Server, enter the following command into the PowerShell command prompt\r\n",
                "```powershell\r\n",
                "Invoke-Sqlcmd -Query \"select * from INFORMATION_SCHEMA.TABLES\" -ServerInstance \"localhost\"\r\n",
                "```\r\n",
                "\r\n",
                "Since we are in PowerShell, we have many other options for our result set, such as *exporting* as a CSV file. This can be accomplished by running the following PowerShell script:\r\n",
                "```powershell\r\n",
                "Invoke-Sqlcmd -Query \"select * from INFORMATION_SCHEMA.TABLES\" -ServerInstance \"localhost\" | export-csv -Delimiter ',' -Path \"tables.csv\" -NoTypeInformation\r\n",
                "```\r\n",
                "\r\n",
                ""
            ],
            "metadata": {
                "azdata_cell_guid": "9530faca-e6af-4743-a379-43ce14d301e5"
            }
        },
        {
            "cell_type": "markdown",
            "source": [
                "[<Previous](CH-03-03.ipynb)  |   [Next>](../CH-04/readme.md) "
            ],
            "metadata": {
                "azdata_cell_guid": "cf9376cd-e558-4031-80cd-a7a843798cb7"
            }
        }
    ]
}
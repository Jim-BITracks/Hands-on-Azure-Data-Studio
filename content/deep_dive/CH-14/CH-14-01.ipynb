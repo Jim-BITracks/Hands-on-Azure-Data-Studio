{
    "metadata": {
        "kernelspec": {
            "name": "SQL",
            "display_name": "SQL",
            "language": "sql"
        },
        "language_info": {
            "name": "sql",
            "version": ""
        }
    },
    "nbformat_minor": 2,
    "nbformat": 4,
    "cells": [
        {
            "cell_type": "markdown",
            "source": [
                "# The snowflake CLI\r\n",
                "\r\n",
                "[<Back](readme.md)\r\n",
                ""
            ],
            "metadata": {
                "azdata_cell_guid": "2ff45897-6649-453f-bb4d-b97febb9879c"
            }
        },
        {
            "cell_type": "markdown",
            "source": [
                " [<Previous](../CH-13/readme.md)    |   [Next>](CH-14-02.ipynb)"
            ],
            "metadata": {
                "azdata_cell_guid": "20083a13-66dc-4da5-a452-5301e426509b"
            }
        }
    ]
}
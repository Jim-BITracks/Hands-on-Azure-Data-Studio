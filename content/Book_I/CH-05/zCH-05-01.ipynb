{
    "metadata": {
        "kernelspec": {
            "name": "SQL",
            "display_name": "SQL",
            "language": "sql"
        },
        "language_info": {
            "name": "sql",
            "version": ""
        }
    },
    "nbformat_minor": 2,
    "nbformat": 4,
    "cells": [
        {
            "cell_type": "markdown",
            "source": [
                "# Notebook Building Blocks\r\n",
                "\r\n",
                "[<Back](readme.md)\r\n",
                "\r\n",
                "Notebooks allow us to create and share documents that may contain text, code, images and query results. They are a part of an open source initiative called Project Jupyter and were implemented for sharing data insights containing code and text. \r\n",
                "\r\n",
                "## Launching a Notebook\r\n",
                "There are multiple ways to launch a new notebook.\r\n",
                "\r\n",
                "1. Go to the **File** Menu in Azure Data Studio and then click on **New Notebook**.\r\n",
                "\r\n",
                "<img src=\"https://user-images.githubusercontent.com/61198055/75797400-1b463780-5d43-11ea-85dd-d3bb53c70516.png\" width=\"50%\">\r\n",
                "\r\n",
                "2. Right click on the **SQL Server connection** and then launch **New Notebook**.\r\n",
                "\r\n",
                "<img src=\"https://user-images.githubusercontent.com/61198055/75797791-a7585f00-5d43-11ea-9755-42f474701b27.png\" width=\"50%\" height=\"auto\">\r\n",
                "\r\n",
                "3. Open the command palette (Ctrl+Shift+P)) and then type in **New Notebook**. A new file named Notebook-0.ipynb opens.\r\n",
                "\r\n",
                "<img src=\"https://user-images.githubusercontent.com/61198055/75798132-2188e380-5d44-11ea-90e8-a5a703deacba.png\" width=\"50%\" height=\"auto\">\r\n",
                "\r\n",
                "### The default notebook window looks like this:\r\n",
                "\r\n",
                "<img src=\"https://user-images.githubusercontent.com/61198055/75797136-b094fc00-5d42-11ea-8bcb-bb42be28a960.png\" width=\"75%\" height=\"auto\">\r\n",
                "\r\n",
                "### **Components of a Notebook:**\r\n",
                "\r\n",
                "+ Code: Add a code snippet.\r\n",
                "+ Text: Add a text snippet in MD language.\r\n",
                "+ Kernel: The language you write the code and the engine that will execute it.\r\n",
                "+ Attach To: The connection we want to work with, default is Localhost.\r\n",
                "+ Trusted: Since .ipynb files can be shared, you should mark it as trusted after you have reviewed it.\r\n",
                "+ Run Cells: To execute the code.\r\n",
                "+ Clear Results: Clear the output of the executed code.\r\n",
                "+ Collapse/Expand Cells: Hide/unhide the cells.\r\n",
                ""
            ],
            "metadata": {
                "azdata_cell_guid": "3f6afb08-24ad-4e8e-a82a-2781a0126747"
            }
        },
        {
            "cell_type": "markdown",
            "source": [
                "[![Video Link](http://img.youtube.com/vi/4eT8JZxVh3o.jpg)](https://www.youtube.com/watch?v=4eT8JZxVh3o \"Link to Azure Data Studio - Notebooks Video\")  "
            ],
            "metadata": {
                "azdata_cell_guid": "9c9b705c-b101-48fd-8d34-17b26b055dd9"
            }
        },
        {
            "cell_type": "markdown",
            "source": [
                "  [<Previous](../CH-04/readme.md)  |   [Next>](CH-05-02.ipynb)  "
            ],
            "metadata": {
                "azdata_cell_guid": "7966e233-4c66-446e-9415-fb01a82fd48d"
            }
        },
        {
            "cell_type": "code",
            "source": [
                ""
            ],
            "metadata": {
                "azdata_cell_guid": "fb0685df-9f84-4399-b4b8-a9586f76df81",
                "tags": []
            },
            "outputs": [],
            "execution_count": null
        }
    ]
}
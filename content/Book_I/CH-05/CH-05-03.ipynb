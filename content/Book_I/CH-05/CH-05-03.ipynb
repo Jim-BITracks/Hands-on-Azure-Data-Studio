{
    "metadata": {
        "kernelspec": {
            "name": "python3",
            "display_name": "Python 3"
        },
        "language_info": {
            "name": "python",
            "version": "3.8.5",
            "mimetype": "text/x-python",
            "codemirror_mode": {
                "name": "ipython",
                "version": 3
            },
            "pygments_lexer": "ipython3",
            "nbconvert_exporter": "python",
            "file_extension": ".py"
        }
    },
    "nbformat_minor": 2,
    "nbformat": 4,
    "cells": [
        {
            "cell_type": "markdown",
            "source": [
                "# Python Notebook\r\n",
                "## Platform Information"
            ],
            "metadata": {
                "azdata_cell_guid": "08c71ecb-8d5b-4f16-88e6-f939d082342e"
            }
        },
        {
            "cell_type": "code",
            "source": [
                "import os\r\n",
                "import platform\r\n",
                "print ('Python version: ' + platform.python_version())\r\n",
                "print (os.path.dirname(sys.executable))"
            ],
            "metadata": {
                "azdata_cell_guid": "adb27e5c-bb33-410b-85b3-4875e2bc6c43",
                "tags": []
            },
            "outputs": [],
            "execution_count": null
        },
        {
            "cell_type": "markdown",
            "source": [
                "## Find Files"
            ],
            "metadata": {
                "azdata_cell_guid": "6b67dd16-2949-490f-bfcf-edc01bc1dbd3"
            }
        },
        {
            "cell_type": "code",
            "source": [
                "import fnmatch\r\n",
                "import os\r\n",
                " \r\n",
                "rootPath = '/'\r\n",
                "pattern = '*.json'\r\n",
                " \r\n",
                "for root, dirs, files in os.walk(rootPath):\r\n",
                "    for filename in fnmatch.filter(files, pattern):\r\n",
                "        print( os.path.join(root, filename))"
            ],
            "metadata": {
                "azdata_cell_guid": "9019de02-7810-4bc3-ad63-8c240e3043fe"
            },
            "outputs": [],
            "execution_count": null
        }
    ]
}
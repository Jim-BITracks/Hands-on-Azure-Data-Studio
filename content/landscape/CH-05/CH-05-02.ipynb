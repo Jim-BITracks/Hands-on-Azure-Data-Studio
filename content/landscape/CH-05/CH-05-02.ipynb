{
    "metadata": {
        "kernelspec": {
            "name": "SQL",
            "display_name": "SQL",
            "language": "sql"
        },
        "language_info": {
            "name": "sql",
            "version": ""
        }
    },
    "nbformat_minor": 2,
    "nbformat": 4,
    "cells": [
        {
            "cell_type": "markdown",
            "source": [
                "# The SQL Kernel Experience\r\n",
                "\r\n",
                "[<Back](readme.md)\r\n",
                "\r\n",
                "Kernel is the language you write the code in and the engine that will execute it.The Notebook Installation in Azure Data Studio natively supports SQL Kernel.\r\n",
                "The code cells within the Notebook support modern SQL coding experience that makes your everyday tasks easier with built-in features such as a rich SQL editor, IntelliSense, and built-in code snippets. Code snippets allow you to generate the proper SQL syntax to create databases, tables, views, stored procedures, etc., and to update existing database objects.\r\n",
                "Click Run Cells to execute each cell.\r\n",
                "\r\n",
                "<img src=\"https://user-images.githubusercontent.com/61198055/75804578-310d2a00-5d4e-11ea-94d1-95f42f63c270.png\" width=\"65%\" height=\"auto\">\r\n",
                "\r\n",
                "### Output of running the query :\r\n",
                "\r\n",
                "<img src=\"https://user-images.githubusercontent.com/61198055/75805451-dffe3580-5d4f-11ea-9392-7242b231921a.png\" width=\"60%\" height=\"auto\">\r\n",
                "\r\n",
                "\r\n",
                "\r\n",
                "\r\n",
                ""
            ],
            "metadata": {
                "azdata_cell_guid": "1ba64a74-3eb7-4f2d-91ec-7fcb9a771bdc"
            }
        },
        {
            "cell_type": "markdown",
            "source": [
                "[<Previous](CH-05-01.ipynb)  |   [Next>](CH-05-03.ipynb)"
            ],
            "metadata": {
                "azdata_cell_guid": "c94aa8a3-321d-4db9-8ed4-8f7d90a5a9de"
            }
        }
    ]
}
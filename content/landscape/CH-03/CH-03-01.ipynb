{
    "metadata": {
        "kernelspec": {
            "name": "SQL",
            "display_name": "SQL",
            "language": "sql"
        },
        "language_info": {
            "name": "sql",
            "version": ""
        }
    },
    "nbformat_minor": 2,
    "nbformat": 4,
    "cells": [
        {
            "cell_type": "markdown",
            "source": [
                "# Entering Queries - IntelliSense, Snippets and Object Definitions\r\n",
                "\r\n",
                "[<Back](readme.md)\r\n",
                "\r\n",
                "Azure Data Studio offers a modern, keyboard-focused SQL coding experience that makes your everyday tasks easier with built-in features, such as multiple tab windows, a rich SQL editor, IntelliSense, keyword completion, code snippets, code navigation, and source control integration (Git).  \r\n",
                "\r\n",
                "## IntelliSense\r\n",
                "The editors in Azure Data Studio support Microsoft IntelliSense options that reduce typing, provide quick access to syntax information, or make it easier to view the delimiters of complex expressions. When coding, you can find the information you need, insert language elements directly into your code, and even have IntelliSense complete your typing for you.  \r\n",
                "It helps you complete the rest of an identifier after you have typed in enough of the name to get a short list of objects whose names start with the same string.\r\n",
                "\r\n",
                "<img src=\"https://user-images.githubusercontent.com/61198055/76450776-bb840800-63a4-11ea-8f7e-cc0a999b4712.png\" width=\"40%\" height=\"auto\"> \r\n",
                " \r\n",
                "**Automatic matching of syntax pairs** gives you immediate feedback on whether syntax elements that must be coded in pairs are correctly paired.Matching highlights both the lead and closing element of a pair of delimiters. This lets you visually identify code blocks and check for mismatched pairs of delimiters.\r\n",
                "\r\n",
                "## Built-in T-SQL code snippets\r\n",
                "Code snippets in Azure Data Studio are templates that make it easy to create databases and database objects.\r\n",
                "Azure Data Studio provides several T-SQL snippets to assist you with quickly generating the proper syntax.\r\n",
                "\r\n",
                "### **1. To access the available snippets, type sql in the query editor to open the list:**\r\n",
                "\r\n",
                "\r\n",
                "<img src=\"https://user-images.githubusercontent.com/61198055/75577420-ef1f7380-5a2f-11ea-9cfb-9ee5ece4b0c2.png\" width=\"60%\" height=\"auto\">\r\n",
                "\r\n",
                "### **2. Select the snippet you want to use, and it generates the T-SQL script. For example, select sqlCreateTable:**\r\n",
                "\r\n",
                "<img src=\"https://user-images.githubusercontent.com/61198055/76767811-91e62a80-6770-11ea-9fab-36b37677312f.png\" width=\"60%\" height=\"auto\">\r\n",
                "\r\n",
                "### **3. Update the highlighted fields with your specific values. Once entered, the value gets updated in all the occurrences of the field throughout the code. In this case, database name, table name, column names and types.**\r\n",
                "\r\n",
                "<img src=\"https://user-images.githubusercontent.com/61198055/76768895-0f5e6a80-6772-11ea-81e2-900ec0366191.png\" width=\"60%\" height=\"auto\">\r\n",
                "\r\n",
                "\r\n",
                ""
            ],
            "metadata": {
                "azdata_cell_guid": "3f6afb08-24ad-4e8e-a82a-2781a0126747"
            }
        },
        {
            "cell_type": "markdown",
            "source": [
                " [<Previous](../CH-02/readme.md)   |   [Next>](CH-03-02.ipynb)  "
            ],
            "metadata": {
                "azdata_cell_guid": "8145dbdc-8554-4ef6-ab86-c5842ebcb46e"
            }
        }
    ]
}
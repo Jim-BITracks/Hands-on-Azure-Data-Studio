{
    "metadata": {
        "kernelspec": {
            "name": "SQL",
            "display_name": "SQL",
            "language": "sql"
        },
        "language_info": {
            "name": "sql",
            "version": ""
        }
    },
    "nbformat_minor": 2,
    "nbformat": 4,
    "cells": [
        {
            "cell_type": "markdown",
            "source": [
                "# Options for Parameters and Drop-downs\r\n",
                "\r\n",
                "[<Back](readme.md)"
            ],
            "metadata": {
                "azdata_cell_guid": "cebae2e3-ae67-4bd0-bfe5-fcc4cafd01e3"
            }
        },
        {
            "cell_type": "markdown",
            "source": [
                " [<Previous](CH-09-01.ipynb)    |   [Next>](CH-09-03.ipynb)"
            ],
            "metadata": {
                "azdata_cell_guid": "482201ac-94d7-48bc-b4ce-07f33ca1752d"
            }
        }
    ]
}
{
    "metadata": {
        "kernelspec": {
            "name": "SQL",
            "display_name": "SQL",
            "language": "sql"
        },
        "language_info": {
            "name": "sql",
            "version": ""
        }
    },
    "nbformat_minor": 2,
    "nbformat": 4,
    "cells": [
        {
            "cell_type": "markdown",
            "source": [
                "# ‘Sand Dance’ for Azure Data Studio\r\n",
                "\r\n",
                "[<Back](readme.md)\r\n",
                "\r\n",
                "Azure Data Studio offers an extension, called Sand Dance, which can generate in-place visualizations of the data.\r\n",
                "SandDance helps you find insights about your data, which in turn help you tell stories supported by data, build cases based on evidence, test hypotheses, dig deeper into surface explanations, support decisions for purchases, or relate data into a wider, real world context.        \r\n",
                "SandDance uses unit visualizations, which apply a one-to-one mapping between rows in your database and marks on the screen. Smooth animated transitions between views help you to maintain context as you interact with your data.\r\n",
                "\r\n",
                "### 1. Access the available extensions by selecting the Extensions Icon, or by selecting Extensions in the View menu.\r\n",
                "### 2. Select **SandDance for Azure Data Studio** and **Install** it\r\n",
                " \r\n",
                "\r\n",
                "### 3. Execute a query to get a results grid. Click the **Visualizer** icon on the right side of the Results pane.\r\n",
                "\r\n",
                "<img src=\"https://user-images.githubusercontent.com/61198055/75704339-305d9080-5c87-11ea-9f05-f3803471ec50.png\" width=\"75%\" height=\"auto\">\r\n",
                "\r\n",
                "### 4. SandDance tab would open up, you can chose options for data visualizations\r\n",
                "\r\n",
                "<img src=\"https://user-images.githubusercontent.com/61198055/75705401-42d8c980-5c89-11ea-8479-1eb29336d45f.png\" width=\"75%\" height=\"auto\">\r\n",
                "\r\n",
                "\r\n",
                "\r\n",
                "\r\n",
                "\r\n",
                ""
            ],
            "metadata": {
                "azdata_cell_guid": "366eb701-d668-4b44-982a-9792666380e8"
            }
        },
        {
            "cell_type": "markdown",
            "source": [
                "[<Previous](CH-08-01.ipynb)  |  [Next>](CH-08-03.ipynb)"
            ],
            "metadata": {
                "azdata_cell_guid": "7a7202d4-efbc-4558-b79f-cff4c4c47461"
            }
        }
    ]
}
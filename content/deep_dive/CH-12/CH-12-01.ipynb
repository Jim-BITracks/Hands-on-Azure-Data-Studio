{
    "metadata": {
        "kernelspec": {
            "name": "SQL",
            "display_name": "SQL",
            "language": "sql"
        },
        "language_info": {
            "name": "sql",
            "version": ""
        }
    },
    "nbformat_minor": 2,
    "nbformat": 4,
    "cells": [
        {
            "cell_type": "markdown",
            "source": [
                "# Multi-Session and Multi-Lingual\r\n",
                "\r\n",
                "[<Back](readme.md)\r\n",
                "\r\n",
                "You can create multiple terminals open to different locations and easily navigate between them.  \r\n",
                "Terminal instances can be added by hitting the plus icon on the top-right of the TERMINAL panel or by triggering the Ctrl+Shift+` command. This creates another entry in the dropdown list that can be used to switch between them.\r\n",
                "\r\n",
                "<img src=\"https://user-images.githubusercontent.com/61198055/75916317-22924180-5e26-11ea-85d0-048f1ee776fd.png\" width=\"50%\" height=\"auto\">\r\n",
                "\r\n",
                "Remove terminal instances by pressing the trash can button\r\n",
                ""
            ],
            "metadata": {
                "azdata_cell_guid": "2ff45897-6649-453f-bb4d-b97febb9879c"
            }
        },
        {
            "cell_type": "markdown",
            "source": [
                " [<Previous](../CH-11/readme.md)    |   [Next>](CH-12-02.ipynb)"
            ],
            "metadata": {
                "azdata_cell_guid": "8b2d29e8-bb6e-4d71-b3e2-f7b26497479a"
            }
        }
    ]
}
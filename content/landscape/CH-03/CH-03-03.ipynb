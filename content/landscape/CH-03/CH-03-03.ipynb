{
    "metadata": {
        "kernelspec": {
            "name": "SQL",
            "display_name": "SQL",
            "language": "sql"
        },
        "language_info": {
            "name": "sql",
            "version": ""
        }
    },
    "nbformat_minor": 2,
    "nbformat": 4,
    "cells": [
        {
            "cell_type": "markdown",
            "source": [
                "# Top Down View with Minimap\r\n",
                "\r\n",
                "[<Back](readme.md)"
            ],
            "metadata": {
                "azdata_cell_guid": "7285402d-b31d-4883-9585-7b7da6b006dc"
            }
        },
        {
            "cell_type": "markdown",
            "source": [
                "[<Previous](CH-03-02.ipynb)  |   [Next>](CH-03-04.ipynb) "
            ],
            "metadata": {
                "azdata_cell_guid": "9a4b23cd-e4f3-4242-9399-57df6b76f9a2"
            }
        }
    ]
}
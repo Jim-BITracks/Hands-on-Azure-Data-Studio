{
    "metadata": {
        "kernelspec": {
            "name": "SQL",
            "display_name": "SQL",
            "language": "sql"
        },
        "language_info": {
            "name": "sql",
            "version": ""
        }
    },
    "nbformat_minor": 2,
    "nbformat": 4,
    "cells": [
        {
            "cell_type": "markdown",
            "source": [
                "\r\n",
                "\r\n",
                "\r\n",
                "\r\n",
                "# Creating, Using, and Managing Connections\r\n",
                "\r\n",
                "[<Back](readme.md)\r\n",
                "\r\n",
                "## **Connecting to SQL Server using Azure Data Studio**\r\n",
                "For this you would need to:\r\n",
                " + Windows - Download SQL Server 2017 Developer Edition\r\n",
                " + macOS - Download SQL Server 2017 on Docker\r\n",
                " + Linux - Download SQL Server 2017 Developer Edition \r\n",
                "\r\n",
                "### 1. Start Azure Data Studio\r\n",
                "\r\n",
                " The first time you run Azure Data Studio the Welcome page should open. If you don't see the Welcome page, select Help > Welcome.  Select New Connection to open the Connection pane:\r\n",
                "\r\n",
                "<img src=\"https://user-images.githubusercontent.com/61198055/75790698-90ad0a80-5d39-11ea-8acb-f3cc36bcb5f3.png\" width=\"50%\" height=\"auto\">\r\n",
                "\r\n",
                "### 2. Fill in the fields as follows:\r\n",
                "\r\n",
                " * Server Name : Enter server name here. For example, localhost.\r\n",
                " * Authentication Type : **SQL Login**\r\n",
                " * User name : User name for the SQL Server\r\n",
                " * Password : Password for the SQL Server\r\n",
                " * Database Name : Select your database name\r\n",
                " * Server Group : \\<Default>\r\n",
                "\r\n",
                "<img src=\"https://user-images.githubusercontent.com/61198055/75790219-dddcac80-5d38-11ea-8e03-01aa132f7520.png\" width=\"50%\" height=\"auto\">\r\n",
                "\r\n",
                "### 3. You should see your server connected. You can expand the tables in your server by clicking on the drop down in your left pane.\r\n",
                "\r\n",
                "\r\n",
                "## **Connecting to PostgreSQL using Azure Data Studio**\r\n",
                "\r\n",
                "For this you would need to: \r\n",
                " + Install the PostgreSQL extension for Azure Data Studio.\r\n",
                " + Install PostgreSQL  \r\n",
                " \r\n",
                "### 1. Start Azure Data Studio and Click the **New Connection icon** in the SERVERS page. In the form that pops up, go to Connection type and **select PostgreSQL** from the drop-down :\r\n",
                "\r\n",
                "<img src=\"https://user-images.githubusercontent.com/61198055/76320694-68805700-62b7-11ea-8f18-73c02deeda55.png\" width=\"50%\" height=\"auto\">\r\n",
                "\r\n",
                "### 2. Fill in the fields as follows : \r\n",
                "\r\n",
                " + Server Name : Enter server name here. For example, localhost.  \r\n",
                " + Authentication Type : **PostgreSQL**  \r\n",
                " + User name : User name for the Server. For example, postgres.  \r\n",
                " + Password : Password for the Server  \r\n",
                " + Database Name : Select database name if you want the connection to specify a database\r\n",
                " + Server Group : <Default> \r\n",
                "\r\n",
                "### 3. After successfully connecting, your server opens in the SERVERS sidebar :\r\n",
                "\r\n",
                "<img src=\"https://user-images.githubusercontent.com/61198055/76322138-64553900-62b9-11ea-805b-7a4376c3c723.png\" width=\"60%\" height=\"auto\">\r\n",
                "\r\n",
                "## **Connecting to Azure SQL Database using Azure Data Studio**\r\n",
                "\r\n",
                "For this you would need to: \r\n",
                "  + Install Azure SQL Database server\r\n",
                "\r\n",
                "\r\n",
                "\r\n",
                "\r\n",
                "\r\n",
                ""
            ],
            "metadata": {
                "azdata_cell_guid": "3f6afb08-24ad-4e8e-a82a-2781a0126747"
            }
        },
        {
            "cell_type": "markdown",
            "source": [
                "[<Previous](../CH-01/readme.md)  | [Next>](CH-02-02.ipynb)  "
            ],
            "metadata": {
                "azdata_cell_guid": "87a59e60-633b-4f5b-b6df-73b96a4395aa"
            }
        },
        {
            "cell_type": "code",
            "source": [
                ""
            ],
            "metadata": {
                "azdata_cell_guid": "099c731c-58de-4121-b830-9bf230946ed6"
            },
            "outputs": [],
            "execution_count": null
        }
    ]
}
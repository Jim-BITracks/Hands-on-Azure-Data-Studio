{
    "metadata": {
        "kernelspec": {
            "name": "SQL",
            "display_name": "SQL",
            "language": "sql"
        },
        "language_info": {
            "name": "sql",
            "version": ""
        }
    },
    "nbformat_minor": 2,
    "nbformat": 4,
    "cells": [
        {
            "cell_type": "markdown",
            "source": [
                "# PowerShell Core and Living Cross-Platform\r\n",
                "\r\n",
                "[<Back](readme.md)"
            ],
            "metadata": {
                "azdata_cell_guid": "db9facc0-eb92-486f-af73-5044a09b3a04"
            }
        },
        {
            "cell_type": "markdown",
            "source": [
                "[<Previous](CH-12-02.ipynb)    |   [Next>](../CH-13/readme.md)"
            ],
            "metadata": {
                "azdata_cell_guid": "1c8bd26c-0fc0-4d38-8c5e-c6dbad87062a"
            }
        }
    ]
}
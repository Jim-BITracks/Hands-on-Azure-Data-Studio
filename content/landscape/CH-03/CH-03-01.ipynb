{
    "metadata": {
        "kernelspec": {
            "name": "SQL",
            "display_name": "SQL",
            "language": "sql"
        },
        "language_info": {
            "name": "sql",
            "version": ""
        }
    },
    "nbformat_minor": 2,
    "nbformat": 4,
    "cells": [
        {
            "cell_type": "markdown",
            "source": [
                "# Entering Queries - IntelliSense, Snippets and Object Definitions\r\n",
                "\r\n",
                "[<Back](readme.md)\r\n",
                "\r\n",
                "To get started with entering SQL queries, you can either click on **New query** from the Welcome page, or for more context specificity, right click on your target Database in the ‘Side Bar’, and choose **New Query**  \r\n",
                "\r\n",
                "<img src=\"https://user-images.githubusercontent.com/61198055/77344565-b494b800-6d09-11ea-9eb1-8f9ce4bc69fe.png\" width=\"60%\" height=\"auto\">  \r\n",
                "\r\n",
                "## IntelliSense\r\n",
                "\r\n",
                " As you type, each keystroke may pop-up with IntelliSense suggestions. Notice that the FROM keyword is highlighted in the sorted pop-up list indicating that you only need to hit the ‘tab’ key to accept the substitution.\r\n",
                "\r\n",
                " <img src=\"https://user-images.githubusercontent.com/61198055/77346029-ead33700-6d0b-11ea-8356-4132ca811de0.png\" width=\"60%\" height=\"auto\">\r\n",
                "\r\n",
                " The up and down arrows provide navigation within this pop-up list, or you can use a mouse-click on the desired keyword. \r\n",
                " \r\n",
                "## Built-in code snippets\r\n",
                " Code snippets in Azure Data Studio are templates that make it easy to create databases and database objects and are fully integrated into the IntelliSense user experience.\r\n",
                " Azure Data Studio provides several code snippets to assist you with quickly generating the proper syntax.\r\n",
                "\r\n",
                "### **1. To access the available snippets, type sql in the query editor to open the list:**\r\n",
                "\r\n",
                "\r\n",
                "<img src=\"https://user-images.githubusercontent.com/61198055/75577420-ef1f7380-5a2f-11ea-9cfb-9ee5ece4b0c2.png\" width=\"60%\" height=\"auto\">\r\n",
                "\r\n",
                "### **2. Select the snippet you want to use, and it generates the T-SQL script. For example, select sqlCreateTable:**\r\n",
                "\r\n",
                "<img src=\"https://user-images.githubusercontent.com/61198055/76767811-91e62a80-6770-11ea-9fab-36b37677312f.png\" width=\"60%\" height=\"auto\">\r\n",
                "\r\n",
                "### **3. Update the highlighted variables with your specific values.**\r\n",
                "You are automatically placed in the process of completing the pre-defined variable placeholders. In our example, the reason you have 4 blinking cursors is because the first ‘placeholder’ (TableName) has a total of 4 instances. If you were to next type ‘product’, the variable replacement would occur 4 times\r\n",
                "\r\n",
                "<img src=\"https://user-images.githubusercontent.com/61198055/77348600-1eb05b80-6d10-11ea-9cf8-863564438e1c.png\" width=\"60%\" height=\"auto\">\r\n",
                "\r\n",
                "## Object Definitions\r\n",
                "\r\n",
                " ADS provides direct access to object definitions, without leaving the editor window. Simply ‘right click’ on any table name in your query, and a couple options will pop-up. The following image captures this pop-up when drilling into the table name oledb_connection: \r\n",
                "\r\n",
                " <img src=\"https://user-images.githubusercontent.com/61198055/77350154-7780f380-6d12-11ea-8665-184270236fef.png\" width=\"60%\" height=\"auto\">\r\n",
                "\r\n",
                " The first **Go to Definition** will open a new editor window with the table definition in the form of an official table create statement. \r\n",
                " The second option **Peek Definition**, will furnish you with the same definition, but in this case rendered in the existing editor window as following :\r\n",
                "\r\n",
                " <img src=\"https://user-images.githubusercontent.com/61198055/77363696-8de67980-6d29-11ea-86cd-aaa4d6478478.png\" width=\"60%\" height=\"auto\">\r\n",
                "\r\n",
                " The **Search Control** located on the right side of the screen,allows you to search for a ‘specific’ column definition.\r\n",
                "\r\n",
                "### **Creating a Snippet for Column Definitions**\r\n",
                "\r\n",
                "A good place to start when creating a snippet is to write the base query, which for our case will employ the INFORMATION_SCHEMA.COLUMNS system view, run initially against the msdb ‘system’ database. In the query, we will be searching for all definitions of the plan_name column in this database:\r\n",
                "```sql\r\n",
                "SELECT * FROM msdb.INFORMATION_SCHEMA.COLUMNS WHERE COLUMN_NAME = 'plan_name'\r\n",
                "```\r\n",
                "A subset of the columns returned from running the above query :\r\n",
                "\r\n",
                " <img src=\"https://user-images.githubusercontent.com/61198055/77364095-43b1c800-6d2a-11ea-9eec-fae597da39fc.png\" width=\"70%\" height=\"auto\">\r\n",
                "\r\n",
                "The result set above reveals that the column plan_name is found in 3 tables within the msdb database. We discover that the column is defined with a consistent data type but varies in terms of ‘nullability’ as well as ‘default’ values."
            ],
            "metadata": {
                "azdata_cell_guid": "3f6afb08-24ad-4e8e-a82a-2781a0126747"
            }
        },
        {
            "cell_type": "markdown",
            "source": [
                " [<Previous](../CH-02/readme.md)   |   [Next>](CH-03-02.ipynb)  "
            ],
            "metadata": {
                "azdata_cell_guid": "8145dbdc-8554-4ef6-ab86-c5842ebcb46e"
            }
        }
    ]
}
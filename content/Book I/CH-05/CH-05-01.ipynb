{
    "metadata": {
        "kernelspec": {
            "name": "SQL",
            "display_name": "SQL",
            "language": "sql"
        },
        "language_info": {
            "name": "sql",
            "version": ""
        }
    },
    "nbformat_minor": 2,
    "nbformat": 4,
    "cells": [
        {
            "cell_type": "markdown",
            "source": [
                "# NYC Car Accidents\r\n",
                "> Supplement to the Book: [Hands-on Azure Data Studio](https://leanpub.com/hands-on-ads)\r\n",
                "## To/From Dates\r\n",
                ""
            ],
            "metadata": {
                "azdata_cell_guid": "d737a79e-73c7-4f13-bc41-6272e392ca90"
            }
        },
        {
            "cell_type": "code",
            "source": [
                "SELECT MIN([DATE_KEY]) AS [MIN_DATE]\r\n",
                "\t , MAX([DATE_KEY]) AS [MAX_DATE]\r\n",
                "\t , DATEDIFF(YEAR, MIN([DATE_KEY]), MAX([DATE_KEY])) [SPAN_IN_YEARS]\r\n",
                "  FROM [EDW].[F_COLLISIONS]"
            ],
            "metadata": {
                "azdata_cell_guid": "b01313b1-1cfa-4ce1-a578-86908ebfe422",
                "tags": []
            },
            "outputs": [
                {
                    "output_type": "display_data",
                    "data": {
                        "text/html": "(1 row affected)"
                    },
                    "metadata": {}
                },
                {
                    "output_type": "display_data",
                    "data": {
                        "text/html": "Total execution time: 00:00:00.360"
                    },
                    "metadata": {}
                },
                {
                    "output_type": "execute_result",
                    "execution_count": 1,
                    "data": {
                        "application/vnd.dataresource+json": {
                            "schema": {
                                "fields": [
                                    {
                                        "name": "MIN_DATE"
                                    },
                                    {
                                        "name": "MAX_DATE"
                                    },
                                    {
                                        "name": "SPAN_IN_YEARS"
                                    }
                                ]
                            },
                            "data": [
                                {
                                    "0": "2012-07-01",
                                    "1": "2020-03-03",
                                    "2": "8"
                                }
                            ]
                        },
                        "text/html": "<table><tr><th>MIN_DATE</th><th>MAX_DATE</th><th>SPAN_IN_YEARS</th></tr><tr><td>2012-07-01</td><td>2020-03-03</td><td>8</td></tr></table>"
                    },
                    "metadata": {}
                }
            ],
            "execution_count": 1
        },
        {
            "cell_type": "markdown",
            "source": [
                "## Car Accidents Grouped By Hour"
            ],
            "metadata": {
                "azdata_cell_guid": "6f15a6d6-792f-4999-bbdf-19b3f301fb6a"
            }
        },
        {
            "cell_type": "code",
            "source": [
                "SELECT DATEPART(HH,[TIME_KEY]) AS [HOUR OF THE DAY]\r\n",
                "     , COUNT(*) AS [NUMBER OF ACCIDENTS]   \r\n",
                "  FROM [EDW].[F_COLLISIONS]\r\n",
                " GROUP BY DATEPART(HH,[TIME_KEY]) \r\n",
                " ORDER BY [HOUR OF THE DAY]"
            ],
            "metadata": {
                "azdata_cell_guid": "336c34d7-3151-423d-bad8-87180e625e3d",
                "tags": []
            },
            "outputs": [
                {
                    "output_type": "display_data",
                    "data": {
                        "text/html": "(24 rows affected)"
                    },
                    "metadata": {}
                },
                {
                    "output_type": "display_data",
                    "data": {
                        "text/html": "Total execution time: 00:00:00.456"
                    },
                    "metadata": {}
                },
                {
                    "output_type": "execute_result",
                    "execution_count": 2,
                    "data": {
                        "application/vnd.dataresource+json": {
                            "schema": {
                                "fields": [
                                    {
                                        "name": "HOUR OF THE DAY"
                                    },
                                    {
                                        "name": "NUMBER OF ACCIDENTS"
                                    }
                                ]
                            },
                            "data": [
                                {
                                    "0": "0",
                                    "1": "48331"
                                },
                                {
                                    "0": "1",
                                    "1": "26041"
                                },
                                {
                                    "0": "2",
                                    "1": "19719"
                                },
                                {
                                    "0": "3",
                                    "1": "17120"
                                },
                                {
                                    "0": "4",
                                    "1": "19949"
                                },
                                {
                                    "0": "5",
                                    "1": "22039"
                                },
                                {
                                    "0": "6",
                                    "1": "35389"
                                },
                                {
                                    "0": "7",
                                    "1": "49053"
                                },
                                {
                                    "0": "8",
                                    "1": "93716"
                                },
                                {
                                    "0": "9",
                                    "1": "91477"
                                },
                                {
                                    "0": "10",
                                    "1": "84504"
                                },
                                {
                                    "0": "11",
                                    "1": "87796"
                                },
                                {
                                    "0": "12",
                                    "1": "92998"
                                },
                                {
                                    "0": "13",
                                    "1": "98065"
                                },
                                {
                                    "0": "14",
                                    "1": "113650"
                                },
                                {
                                    "0": "15",
                                    "1": "104528"
                                },
                                {
                                    "0": "16",
                                    "1": "122903"
                                },
                                {
                                    "0": "17",
                                    "1": "119806"
                                },
                                {
                                    "0": "18",
                                    "1": "104616"
                                },
                                {
                                    "0": "19",
                                    "1": "84953"
                                },
                                {
                                    "0": "20",
                                    "1": "70079"
                                },
                                {
                                    "0": "21",
                                    "1": "58456"
                                },
                                {
                                    "0": "22",
                                    "1": "52649"
                                },
                                {
                                    "0": "23",
                                    "1": "43120"
                                }
                            ]
                        },
                        "text/html": "<table><tr><th>HOUR OF THE DAY</th><th>NUMBER OF ACCIDENTS</th></tr><tr><td>0</td><td>48331</td></tr><tr><td>1</td><td>26041</td></tr><tr><td>2</td><td>19719</td></tr><tr><td>3</td><td>17120</td></tr><tr><td>4</td><td>19949</td></tr><tr><td>5</td><td>22039</td></tr><tr><td>6</td><td>35389</td></tr><tr><td>7</td><td>49053</td></tr><tr><td>8</td><td>93716</td></tr><tr><td>9</td><td>91477</td></tr><tr><td>10</td><td>84504</td></tr><tr><td>11</td><td>87796</td></tr><tr><td>12</td><td>92998</td></tr><tr><td>13</td><td>98065</td></tr><tr><td>14</td><td>113650</td></tr><tr><td>15</td><td>104528</td></tr><tr><td>16</td><td>122903</td></tr><tr><td>17</td><td>119806</td></tr><tr><td>18</td><td>104616</td></tr><tr><td>19</td><td>84953</td></tr><tr><td>20</td><td>70079</td></tr><tr><td>21</td><td>58456</td></tr><tr><td>22</td><td>52649</td></tr><tr><td>23</td><td>43120</td></tr></table>"
                    },
                    "metadata": {
                        "azdata_chartOptions": {
                            "type": "bar",
                            "dataDirection": "horizontal",
                            "columnsAsLabels": true,
                            "labelFirstColumn": true,
                            "legendPosition": "top"
                        }
                    }
                }
            ],
            "execution_count": 2
        },
        {
            "cell_type": "markdown",
            "source": [
                "## Car Accidents with Fatalities, Grouped by Hour"
            ],
            "metadata": {
                "azdata_cell_guid": "6f8b97c4-1010-43c0-9c84-1f5c86a84bd8"
            }
        },
        {
            "cell_type": "code",
            "source": [
                "SELECT DATEPART(HH,[TIME_KEY]) AS [HOUR OF THE DAY]\r\n",
                "     , COUNT(*) AS [ACCIDENTS WITH FATALITIES]\r\n",
                "  FROM [EDW].[F_COLLISIONS]\r\n",
                " WHERE [NUMBER_OF_PERSONS_KILLED] > 0\r\n",
                " GROUP BY DATEPART(HH,[TIME_KEY]) \r\n",
                " ORDER BY [HOUR OF THE DAY]"
            ],
            "metadata": {
                "azdata_cell_guid": "787baae5-c9ec-4d1a-8464-942bc02ac9e0"
            },
            "outputs": [
                {
                    "output_type": "display_data",
                    "data": {
                        "text/html": "(24 rows affected)"
                    },
                    "metadata": {}
                },
                {
                    "output_type": "display_data",
                    "data": {
                        "text/html": "Total execution time: 00:00:00.145"
                    },
                    "metadata": {}
                },
                {
                    "output_type": "execute_result",
                    "metadata": {
                        "azdata_chartOptions": {
                            "type": "bar",
                            "dataDirection": "horizontal",
                            "columnsAsLabels": true,
                            "labelFirstColumn": true,
                            "legendPosition": "top"
                        }
                    },
                    "execution_count": 1,
                    "data": {
                        "application/vnd.dataresource+json": {
                            "schema": {
                                "fields": [
                                    {
                                        "name": "HOUR OF THE DAY"
                                    },
                                    {
                                        "name": "ACCIDENTS WITH FATALITIES"
                                    }
                                ]
                            },
                            "data": [
                                {
                                    "0": "0",
                                    "1": "78"
                                },
                                {
                                    "0": "1",
                                    "1": "69"
                                },
                                {
                                    "0": "2",
                                    "1": "63"
                                },
                                {
                                    "0": "3",
                                    "1": "69"
                                },
                                {
                                    "0": "4",
                                    "1": "104"
                                },
                                {
                                    "0": "5",
                                    "1": "76"
                                },
                                {
                                    "0": "6",
                                    "1": "84"
                                },
                                {
                                    "0": "7",
                                    "1": "51"
                                },
                                {
                                    "0": "8",
                                    "1": "50"
                                },
                                {
                                    "0": "9",
                                    "1": "61"
                                },
                                {
                                    "0": "10",
                                    "1": "68"
                                },
                                {
                                    "0": "11",
                                    "1": "66"
                                },
                                {
                                    "0": "12",
                                    "1": "73"
                                },
                                {
                                    "0": "13",
                                    "1": "62"
                                },
                                {
                                    "0": "14",
                                    "1": "68"
                                },
                                {
                                    "0": "15",
                                    "1": "67"
                                },
                                {
                                    "0": "16",
                                    "1": "85"
                                },
                                {
                                    "0": "17",
                                    "1": "114"
                                },
                                {
                                    "0": "18",
                                    "1": "104"
                                },
                                {
                                    "0": "19",
                                    "1": "91"
                                },
                                {
                                    "0": "20",
                                    "1": "95"
                                },
                                {
                                    "0": "21",
                                    "1": "103"
                                },
                                {
                                    "0": "22",
                                    "1": "85"
                                },
                                {
                                    "0": "23",
                                    "1": "99"
                                }
                            ]
                        },
                        "text/html": [
                            "<table>",
                            "<tr><th>HOUR OF THE DAY</th><th>ACCIDENTS WITH FATALITIES</th></tr>",
                            "<tr><td>0</td><td>78</td></tr>",
                            "<tr><td>1</td><td>69</td></tr>",
                            "<tr><td>2</td><td>63</td></tr>",
                            "<tr><td>3</td><td>69</td></tr>",
                            "<tr><td>4</td><td>104</td></tr>",
                            "<tr><td>5</td><td>76</td></tr>",
                            "<tr><td>6</td><td>84</td></tr>",
                            "<tr><td>7</td><td>51</td></tr>",
                            "<tr><td>8</td><td>50</td></tr>",
                            "<tr><td>9</td><td>61</td></tr>",
                            "<tr><td>10</td><td>68</td></tr>",
                            "<tr><td>11</td><td>66</td></tr>",
                            "<tr><td>12</td><td>73</td></tr>",
                            "<tr><td>13</td><td>62</td></tr>",
                            "<tr><td>14</td><td>68</td></tr>",
                            "<tr><td>15</td><td>67</td></tr>",
                            "<tr><td>16</td><td>85</td></tr>",
                            "<tr><td>17</td><td>114</td></tr>",
                            "<tr><td>18</td><td>104</td></tr>",
                            "<tr><td>19</td><td>91</td></tr>",
                            "<tr><td>20</td><td>95</td></tr>",
                            "<tr><td>21</td><td>103</td></tr>",
                            "<tr><td>22</td><td>85</td></tr>",
                            "<tr><td>23</td><td>99</td></tr>",
                            "</table>"
                        ]
                    }
                }
            ],
            "execution_count": 1
        },
        {
            "cell_type": "markdown",
            "source": [
                "## Car Accidents with Fatalities as a percentage, Grouped by Hour"
            ],
            "metadata": {
                "azdata_cell_guid": "99de27aa-9feb-4460-aaa5-3c890862d767"
            }
        },
        {
            "cell_type": "code",
            "source": [
                "WITH [count_fatalities] AS\r\n",
                "(\r\n",
                "SELECT DATEPART(HH,[TIME_KEY]) AS [HOUR OF THE DAY]\r\n",
                "     , COUNT(*) AS [ACCIDENTS WITH FATALITIES]\r\n",
                "  FROM [EDW].[F_COLLISIONS]\r\n",
                " WHERE [NUMBER_OF_PERSONS_KILLED] > 0\r\n",
                " GROUP BY DATEPART(HH,[TIME_KEY]) \r\n",
                ")\r\n",
                ", [count_accidents] as\r\n",
                "(\r\n",
                "SELECT DATEPART(HH,[TIME_KEY]) AS [HOUR OF THE DAY]\r\n",
                "     , COUNT(*) AS [NUMBER OF ACCIDENTS]   \r\n",
                "  FROM [EDW].[F_COLLISIONS]\r\n",
                " GROUP BY DATEPART(HH,[TIME_KEY]) \r\n",
                ")\r\n",
                "SELECT a.[HOUR OF THE DAY]\r\n",
                "\t , (( 0. + f.[ACCIDENTS WITH FATALITIES] ) / a.[NUMBER OF ACCIDENTS]) * 100 AS [PERCENT WITH FATALITIES]\r\n",
                "  FROM [count_accidents] a\r\n",
                "  JOIN [count_fatalities] f\r\n",
                "    ON f.[HOUR OF THE DAY] = a.[HOUR OF THE DAY]\r\n",
                " ORDER BY [HOUR OF THE DAY];"
            ],
            "metadata": {
                "azdata_cell_guid": "eeb942a8-f282-4403-9d67-180ca7528d7c"
            },
            "outputs": [
                {
                    "output_type": "display_data",
                    "data": {
                        "text/html": "(24 rows affected)"
                    },
                    "metadata": {}
                },
                {
                    "output_type": "display_data",
                    "data": {
                        "text/html": "Total execution time: 00:00:00.546"
                    },
                    "metadata": {}
                },
                {
                    "output_type": "execute_result",
                    "metadata": {
                        "azdata_chartOptions": {
                            "type": "bar",
                            "dataDirection": "horizontal",
                            "columnsAsLabels": true,
                            "labelFirstColumn": true,
                            "legendPosition": "top"
                        }
                    },
                    "execution_count": 2,
                    "data": {
                        "application/vnd.dataresource+json": {
                            "schema": {
                                "fields": [
                                    {
                                        "name": "HOUR OF THE DAY"
                                    },
                                    {
                                        "name": "PERCENT WITH FATALITIES"
                                    }
                                ]
                            },
                            "data": [
                                {
                                    "0": "0",
                                    "1": "0.161387101400"
                                },
                                {
                                    "0": "1",
                                    "1": "0.264966783100"
                                },
                                {
                                    "0": "2",
                                    "1": "0.319488817800"
                                },
                                {
                                    "0": "3",
                                    "1": "0.403037383100"
                                },
                                {
                                    "0": "4",
                                    "1": "0.521329389900"
                                },
                                {
                                    "0": "5",
                                    "1": "0.344843232400"
                                },
                                {
                                    "0": "6",
                                    "1": "0.237361892100"
                                },
                                {
                                    "0": "7",
                                    "1": "0.103969176100"
                                },
                                {
                                    "0": "8",
                                    "1": "0.053352682500"
                                },
                                {
                                    "0": "9",
                                    "1": "0.066683428600"
                                },
                                {
                                    "0": "10",
                                    "1": "0.080469563500"
                                },
                                {
                                    "0": "11",
                                    "1": "0.075174267600"
                                },
                                {
                                    "0": "12",
                                    "1": "0.078496311700"
                                },
                                {
                                    "0": "13",
                                    "1": "0.063223372200"
                                },
                                {
                                    "0": "14",
                                    "1": "0.059832820000"
                                },
                                {
                                    "0": "15",
                                    "1": "0.064097658000"
                                },
                                {
                                    "0": "16",
                                    "1": "0.069160232000"
                                },
                                {
                                    "0": "17",
                                    "1": "0.095153832000"
                                },
                                {
                                    "0": "18",
                                    "1": "0.099411179900"
                                },
                                {
                                    "0": "19",
                                    "1": "0.107118053500"
                                },
                                {
                                    "0": "20",
                                    "1": "0.135561295100"
                                },
                                {
                                    "0": "21",
                                    "1": "0.176200903200"
                                },
                                {
                                    "0": "22",
                                    "1": "0.161446561100"
                                },
                                {
                                    "0": "23",
                                    "1": "0.229591836700"
                                }
                            ]
                        },
                        "text/html": [
                            "<table>",
                            "<tr><th>HOUR OF THE DAY</th><th>PERCENT WITH FATALITIES</th></tr>",
                            "<tr><td>0</td><td>0.161387101400</td></tr>",
                            "<tr><td>1</td><td>0.264966783100</td></tr>",
                            "<tr><td>2</td><td>0.319488817800</td></tr>",
                            "<tr><td>3</td><td>0.403037383100</td></tr>",
                            "<tr><td>4</td><td>0.521329389900</td></tr>",
                            "<tr><td>5</td><td>0.344843232400</td></tr>",
                            "<tr><td>6</td><td>0.237361892100</td></tr>",
                            "<tr><td>7</td><td>0.103969176100</td></tr>",
                            "<tr><td>8</td><td>0.053352682500</td></tr>",
                            "<tr><td>9</td><td>0.066683428600</td></tr>",
                            "<tr><td>10</td><td>0.080469563500</td></tr>",
                            "<tr><td>11</td><td>0.075174267600</td></tr>",
                            "<tr><td>12</td><td>0.078496311700</td></tr>",
                            "<tr><td>13</td><td>0.063223372200</td></tr>",
                            "<tr><td>14</td><td>0.059832820000</td></tr>",
                            "<tr><td>15</td><td>0.064097658000</td></tr>",
                            "<tr><td>16</td><td>0.069160232000</td></tr>",
                            "<tr><td>17</td><td>0.095153832000</td></tr>",
                            "<tr><td>18</td><td>0.099411179900</td></tr>",
                            "<tr><td>19</td><td>0.107118053500</td></tr>",
                            "<tr><td>20</td><td>0.135561295100</td></tr>",
                            "<tr><td>21</td><td>0.176200903200</td></tr>",
                            "<tr><td>22</td><td>0.161446561100</td></tr>",
                            "<tr><td>23</td><td>0.229591836700</td></tr>",
                            "</table>"
                        ]
                    }
                }
            ],
            "execution_count": 2
        }
    ]
}
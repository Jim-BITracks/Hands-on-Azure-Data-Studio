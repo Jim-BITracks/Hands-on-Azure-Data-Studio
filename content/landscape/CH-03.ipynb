{
    "metadata": {
        "kernelspec": {
            "name": "SQL",
            "display_name": "SQL",
            "language": "sql"
        },
        "language_info": {
            "name": "sql",
            "version": ""
        }
    },
    "nbformat_minor": 2,
    "nbformat": 4,
    "cells": [
        {
            "cell_type": "markdown",
            "source": [
                "# SQL Editing Reimagined\r\n",
                "As database professionals, we tend to spend a great deal of time in coding SQL statements. ADS provides a rich environment for this universal database task, encouraging bug-free code, reusability, parametrization, and more.\r\n",
                "\r\n",
                "1.\tEntering Queries - IntelliSense, Snippets and Object Definitions\r\n",
                "2.\tSaving Queries and Snippets\r\n",
                "3.\tTop Down View with Minimap\r\n",
                "4.\tSQL Queries via the Command Terminal"
            ],
            "metadata": {
                "azdata_cell_guid": "3f6afb08-24ad-4e8e-a82a-2781a0126747"
            }
        }
    ]
}
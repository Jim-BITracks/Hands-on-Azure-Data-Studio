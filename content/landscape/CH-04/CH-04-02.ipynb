{
    "metadata": {
        "kernelspec": {
            "name": "SQL",
            "display_name": "SQL",
            "language": "sql"
        },
        "language_info": {
            "name": "sql",
            "version": ""
        }
    },
    "nbformat_minor": 2,
    "nbformat": 4,
    "cells": [
        {
            "cell_type": "markdown",
            "source": [
                "# Querying for Easy Visuals\r\n",
                "\r\n",
                "[<Back](readme.md)\r\n",
                "\r\n",
                ""
            ],
            "metadata": {
                "azdata_cell_guid": "46805def-aaa6-4528-8ffa-c37dd75cd8f9"
            }
        },
        {
            "cell_type": "markdown",
            "source": [
                "[<Previous](CH-04-01.ipynb)  | [Next>](CH-04-03.ipynb)"
            ],
            "metadata": {
                "azdata_cell_guid": "16baacc9-3ad4-4d6c-ab7d-1cdce6f5c9fc"
            }
        }
    ]
}
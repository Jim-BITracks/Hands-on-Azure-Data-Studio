{
    "metadata": {
        "kernelspec": {
            "name": "SQL",
            "display_name": "SQL",
            "language": "sql"
        },
        "language_info": {
            "name": "sql",
            "version": ""
        }
    },
    "nbformat_minor": 2,
    "nbformat": 4,
    "cells": [
        {
            "cell_type": "markdown",
            "source": [
                "# Management of Verbose and Numerous Snippets\r\n",
                "\r\n",
                "[<Back](readme.md)"
            ],
            "metadata": {
                "azdata_cell_guid": "6787bf88-7d56-44b5-b300-b865d5b2f60d"
            }
        },
        {
            "cell_type": "markdown",
            "source": [
                " [<Previous](CH-09-02.ipynb)    |   [Next>](../CH-10/readme.md)"
            ],
            "metadata": {
                "azdata_cell_guid": "9924ff39-ce07-41d9-82a8-d9293141c63b"
            }
        }
    ]
}
{
    "metadata": {
        "kernelspec": {
            "name": "SQL",
            "display_name": "SQL",
            "language": "sql"
        },
        "language_info": {
            "name": "sql",
            "version": ""
        }
    },
    "nbformat_minor": 2,
    "nbformat": 4,
    "cells": [
        {
            "cell_type": "markdown",
            "source": [
                "# Invoking a Pipeline to Copy Data\r\n",
                "\r\n",
                "[<Back](readme.md)"
            ],
            "metadata": {
                "azdata_cell_guid": "ba33bcc5-c436-477c-b416-fb8ee5bbc76f"
            }
        },
        {
            "cell_type": "markdown",
            "source": [
                "[<Previous](CH-15-03.ipynb)    |   [Next>](../CH-16/readme.md)"
            ],
            "metadata": {
                "azdata_cell_guid": "116e229d-73dc-4a45-9dd2-ec99c8141804"
            }
        }
    ]
}
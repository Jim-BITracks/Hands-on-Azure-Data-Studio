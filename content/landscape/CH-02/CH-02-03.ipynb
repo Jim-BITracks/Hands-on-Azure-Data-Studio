{
    "metadata": {
        "kernelspec": {
            "name": "SQL",
            "display_name": "SQL",
            "language": "sql"
        },
        "language_info": {
            "name": "sql",
            "version": ""
        }
    },
    "nbformat_minor": 2,
    "nbformat": 4,
    "cells": [
        {
            "cell_type": "markdown",
            "source": [
                "# Central Management Servers Extension\n",
                "\n",
                "[<Back](readme.md)\n",
                "\n",
                "The Central Management Servers extension allows users to store a list of instances of SQL Server that is organized into one or more groups. Actions that are taken using a CMS group act on all servers in the server group.  \n",
                "\n",
                "+ It is basically a central repository of your managed servers.  \n",
                "+ It allows you to categorize your servers into groups.\n",
                "+ It allows you to query multiple servers at once.\n",
                "+ It allows you to create and modify objects accross multiple servers.\n",
                "+ Being able to manage multiple servers at the same time is an extremely useful and time saving tool.\n",
                "\n",
                "\n",
                "### **Installing the SQL Server Central Management Servers extension:**\n",
                "  Step 1. Select the extensions icon, or select Extensions in the View menu.  \n",
                "  Step 2. Select the extension you want (SQL Server Central Management Servers) and Install it.\n",
                "\n",
                "<img src=\"https://user-images.githubusercontent.com/61198055/76995756-b84dc680-6926-11ea-9672-ecf8e91bb1fe.PNG\" width=\"70%\" height=\"auto\">\n",
                "\n",
                "### **Starting Central Management Servers :**\n",
                "\n",
                "1. Central Management Servers can be viewed by clicking on the **Connections icon (Ctrl/Cmd + G)**. The first time you download the extension, the CMS view will be minimized, and you can open it by click on Central Management Servers and add a central management server using the **Add button** :\n",
                "\n",
                " <img src=\"https://user-images.githubusercontent.com/61198055/76343812-07687b80-62d7-11ea-925c-458cd7324707.png\" width=\"50%\" height=\"auto\">\n",
                "\n",
                "\n",
                "2. After adding a central management server, Right-click the instance of SQL Server added and select **New Server Group** and add one or more **server groups to the central management server** :\n",
                "\n",
                " <img src=\"https://user-images.githubusercontent.com/61198055/76544985-55a88680-645f-11ea-945f-9b77a992ff00.png\" width=\"65%\" height=\"auto\">\n",
                "\n",
                "3. Right-click the server group and click **New Server Registration** and add one or more registered servers to the server group :\n",
                "\n",
                " <img src=\"https://user-images.githubusercontent.com/61198055/76547725-0f095b00-6464-11ea-8490-c7fc3dd785d7.png\" width=\"60%\" height=\"auto\">\n",
                "\n",
                "4. Now after creating groups of servers, you can perform actions on all the servers under a group at the same time. For example, any command executed on group Dev will apply to both server-3 and server-4 in that group :\n",
                "\n",
                " <img src=\"https://user-images.githubusercontent.com/61198055/76548607-65c36480-6465-11ea-9fea-12eac9c09f7f.png\" width=\"50%\" height=\"auto\">\n",
                "\n",
                "This feature allows ADS to query and execute commands at the same time against server groups.  \n",
                "For example, if you wanted to execute the SQL command: **SELECT @@VERSION** on multiple servers, you could run this query against an entire ‘Server Group’ - ‘OnPremise’. The result set is from multiple servers :\n",
                "\n",
                " <img src=\"https://user-images.githubusercontent.com/61198055/76995787-c56ab580-6926-11ea-9093-149d921f0d8a.PNG\" width=\"70%\" height=\"auto\">"
            ],
            "metadata": {
                "azdata_cell_guid": "f0173988-67fd-4d26-8c6f-68388d9c19cf"
            }
        },
        {
            "cell_type": "markdown",
            "source": [
                "  [<Previous](CH-02-02.ipynb)  "
            ],
            "metadata": {
                "azdata_cell_guid": "3cb89b9c-8254-4564-9b1c-80bac704bb87"
            }
        }
    ]
}
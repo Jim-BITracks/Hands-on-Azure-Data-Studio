{
    "metadata": {
        "kernelspec": {
            "name": "SQL",
            "display_name": "SQL",
            "language": "sql"
        },
        "language_info": {
            "name": "sql",
            "version": ""
        }
    },
    "nbformat_minor": 2,
    "nbformat": 4,
    "cells": [
        {
            "cell_type": "markdown",
            "source": [
                "# The Anatomy of an ADS Extension\r\n",
                "\r\n",
                "[<Back](readme.md)"
            ],
            "metadata": {
                "azdata_cell_guid": "e7e4fa3f-5a88-4fe7-b3c1-ed920f833ce8"
            }
        },
        {
            "cell_type": "markdown",
            "source": [
                " [<Previous](CH-17-01.ipynb)    |   [Next>](CH-17-03.ipynb)"
            ],
            "metadata": {
                "azdata_cell_guid": "0ae060b1-47e6-4390-b773-fa4f214c14d4"
            }
        }
    ]
}
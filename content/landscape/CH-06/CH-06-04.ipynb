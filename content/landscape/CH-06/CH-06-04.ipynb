{
    "metadata": {
        "kernelspec": {
            "name": "SQL",
            "display_name": "SQL",
            "language": "sql"
        },
        "language_info": {
            "name": "sql",
            "version": ""
        }
    },
    "nbformat_minor": 2,
    "nbformat": 4,
    "cells": [
        {
            "cell_type": "markdown",
            "source": [
                "# Python and Machine Learning\r\n",
                "\r\n",
                "[<Back](readme.md)\r\n",
                ""
            ],
            "metadata": {
                "azdata_cell_guid": "7b0c8cd5-f89b-4a14-bbbc-93f1637c0c9a"
            }
        },
        {
            "cell_type": "markdown",
            "source": [
                "[<Previous](CH-06-03.ipynb)  |   [Next>](../CH-07/readme.md)  "
            ],
            "metadata": {
                "azdata_cell_guid": "5af50271-df2d-4748-b291-1713f03dfaf5"
            }
        }
    ]
}
{
    "metadata": {
        "kernelspec": {
            "name": "SQL",
            "display_name": "SQL",
            "language": "sql"
        },
        "language_info": {
            "name": "sql",
            "version": ""
        }
    },
    "nbformat_minor": 2,
    "nbformat": 4,
    "cells": [
        {
            "cell_type": "markdown",
            "source": [
                "# Creating and Managing Snippets\r\n",
                "\r\n",
                "[<Back](readme.md)\r\n",
                "\r\n",
                "## Creating Code Snippets\r\n",
                "\r\n",
                "1. Go to **View menu-> Command Palette** OR  \r\n",
                "Select **Settings icon -> Command Palette**\r\n",
                "\r\n",
                "2. Type snippet, and **select Preferences: Configure User Snippets**\r\n",
                "\r\n",
                " <img src=\"https://user-images.githubusercontent.com/61198055/76002649-eec22500-5ed4-11ea-9a95-4d7299a67593.png\" width=\"60%\" height=\"auto\">\r\n",
                "\r\n",
                "3. Type or locate **SQL** and click on it :\r\n",
                "\r\n",
                " <img src=\"https://user-images.githubusercontent.com/61198055/76004314-482b5380-5ed7-11ea-8303-08efdabdfdc1.png\" width=\"60%\" height=\"auto\">\r\n",
                "\r\n",
                "4. If you don’t have custom snippets defined, a new **sql.json window** will open with commented code that you can edit :\r\n",
                "\r\n",
                " <img src=\"https://user-images.githubusercontent.com/61198055/76005603-42367200-5ed9-11ea-8cb9-b22e37718214.png\" width=\"70%\" height=\"auto\">\r\n",
                "\r\n",
                " ### **Basic template to add a snippet is :**  \r\n",
                "    ```json \r\n",
                "    \"<name of the snippet>\": {   \r\n",
                "    \"prefix\":\"<sqlNameOfthePrefix>\",  \r\n",
                "    \"body\":[  \r\n",
                "    \"<T-SQL code line 1 ${1:Default_Value1}>\",  \r\n",
                "    \"<T-SQL code line 2 ${2:Default_Value2}>\"  \r\n",
                "    \"< T-SQL code line N>\"  \r\n",
                "    ],  \r\n",
                "    \"description\":\"<Snippet description>\"  \r\n",
                "    }\r\n",
                "    ```\r\n",
                "\r\n",
                "## **Adding a custom snippet :**\r\n",
                "\r\n",
                "+ For our first snippet we will get details of our projects.  \r\n",
                "The **SQL.JSON file** will look like this :\r\n",
                "\r\n",
                "<img src=\"https://user-images.githubusercontent.com/61198055/76117636-28209080-5fba-11ea-9bac-bf1691fb2de9.png\" width=\"70%\" height=\"auto\">\r\n",
                "\r\n",
                "+ Save it and it is ready to be tested.  \r\n",
                "To test the custom code snippet that we just created, as with the default snippets, just open a new query window and type sql, the new snippet should show up in the list :\r\n",
                "\r\n",
                "<img src=\"https://user-images.githubusercontent.com/61198055/76012412-3b612c80-5ee4-11ea-947a-f49691caa3b8.png\" width=\"70%\" height=\"auto\">\r\n",
                "\r\n",
                "+ Select it to see the code loaded in our environment :\r\n",
                "\r\n",
                "<img src=\"https://user-images.githubusercontent.com/61198055/76108488-b429bc80-5fa8-11ea-8b76-15ad6fda14bb.png\" width=\"70%\" height=\"auto\">\r\n",
                "\r\n",
                "\r\n",
                "\r\n",
                "\r\n",
                "\r\n",
                "\r\n",
                "\r\n",
                ""
            ],
            "metadata": {
                "azdata_cell_guid": "2ff45897-6649-453f-bb4d-b97febb9879c"
            }
        },
        {
            "cell_type": "markdown",
            "source": [
                "  [<Previous](../../landscape/CH-08/readme.md)    |   [Next>](CH-09-02.ipynb)  "
            ],
            "metadata": {
                "azdata_cell_guid": "27c3f146-63f5-4758-a282-34952a443af3"
            }
        }
    ]
}
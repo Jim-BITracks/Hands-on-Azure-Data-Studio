{
    "metadata": {
        "kernelspec": {
            "name": "SQL",
            "display_name": "SQL",
            "language": "sql"
        },
        "language_info": {
            "name": "sql",
            "version": ""
        }
    },
    "nbformat_minor": 2,
    "nbformat": 4,
    "cells": [
        {
            "cell_type": "markdown",
            "source": [
                "# Building an Official Extension\r\n",
                "Yes, you can build an extension for ADF. Whether your aspirations are grand or modest, Microsoft makes this possible for mere mortals. Here’s how…\r\n",
                "1.\tInstalling Prerequisites - Node.js and Visual Studio Code\r\n",
                "2.\tChoosing your Type – Extension Categories\r\n",
                "3.\tTesting, Creating and Sharing your Extension\r\n",
                "4.\tExpanding your vision"
            ],
            "metadata": {
                "azdata_cell_guid": "2ff45897-6649-453f-bb4d-b97febb9879c"
            }
        }
    ]
}
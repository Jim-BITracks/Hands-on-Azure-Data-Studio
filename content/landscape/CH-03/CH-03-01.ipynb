{
    "metadata": {
        "kernelspec": {
            "name": "SQL",
            "display_name": "SQL",
            "language": "sql"
        },
        "language_info": {
            "name": "sql",
            "version": ""
        }
    },
    "nbformat_minor": 2,
    "nbformat": 4,
    "cells": [
        {
            "cell_type": "markdown",
            "source": [
                "# Entering Queries - IntelliSense, Snippets and Object Definitions\r\n",
                "\r\n",
                "[<Back](readme.md)\r\n",
                "\r\n",
                "Azure Data Studio offers a modern, keyboard-focused SQL coding experience that makes your everyday tasks easier with built-in features, such as multiple tab windows, a rich SQL editor, IntelliSense, keyword completion, code snippets, code navigation, and source control integration (Git).\r\n",
                "\r\n",
                "\r\n",
                ""
            ],
            "metadata": {
                "azdata_cell_guid": "3f6afb08-24ad-4e8e-a82a-2781a0126747"
            }
        },
        {
            "cell_type": "markdown",
            "source": [
                " [<Previous](../CH-02/readme.md)   |   [Next>](CH-03-02.ipynb)  "
            ],
            "metadata": {
                "azdata_cell_guid": "8145dbdc-8554-4ef6-ab86-c5842ebcb46e"
            }
        }
    ]
}
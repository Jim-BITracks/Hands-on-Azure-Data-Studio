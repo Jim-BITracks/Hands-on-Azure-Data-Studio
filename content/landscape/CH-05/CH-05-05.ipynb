{
    "metadata": {
        "kernelspec": {
            "name": "SQL",
            "display_name": "SQL",
            "language": "sql"
        },
        "language_info": {
            "name": "sql",
            "version": ""
        }
    },
    "nbformat_minor": 2,
    "nbformat": 4,
    "cells": [
        {
            "cell_type": "markdown",
            "source": [
                "# Sharing your Notebooks and Narratives\r\n",
                "\r\n",
                "[<Back](readme.md)"
            ],
            "metadata": {
                "azdata_cell_guid": "acfd6ed2-fa6e-4cd2-80b8-74ca4e70366b"
            }
        },
        {
            "cell_type": "markdown",
            "source": [
                "[<Previous](CH-05-04.ipynb)  |   [Next>](../CH-06/readme.md)"
            ],
            "metadata": {
                "azdata_cell_guid": "46fbb45c-79f9-468c-8797-062a61e8a198"
            }
        }
    ]
}
{
    "metadata": {
        "kernelspec": {
            "name": "SQL",
            "display_name": "SQL",
            "language": "sql"
        },
        "language_info": {
            "name": "sql",
            "version": ""
        }
    },
    "nbformat_minor": 2,
    "nbformat": 4,
    "cells": [
        {
            "cell_type": "markdown",
            "source": [
                "# Redgate SQL Search\r\n",
                "\r\n",
                "[<Back](readme.md)"
            ],
            "metadata": {
                "azdata_cell_guid": "bf3cd149-51d1-4453-a722-ae68e048057b"
            }
        },
        {
            "cell_type": "markdown",
            "source": [
                "[<Previous](CH-08-04.ipynb)  |  [Next>](../deep_dive/readme.md)"
            ],
            "metadata": {
                "azdata_cell_guid": "a049c858-74a0-43d9-940f-2ad7ff3dd058"
            }
        }
    ]
}
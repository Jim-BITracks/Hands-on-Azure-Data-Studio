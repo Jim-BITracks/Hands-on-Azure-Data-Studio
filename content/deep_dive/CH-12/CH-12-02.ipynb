{
    "metadata": {
        "kernelspec": {
            "name": "SQL",
            "display_name": "SQL",
            "language": "sql"
        },
        "language_info": {
            "name": "sql",
            "version": ""
        }
    },
    "nbformat_minor": 2,
    "nbformat": 4,
    "cells": [
        {
            "cell_type": "markdown",
            "source": [
                "# Key Bindings – Mouse Optional\r\n",
                "\r\n",
                "[<Back](readme.md)"
            ],
            "metadata": {
                "azdata_cell_guid": "ed565be7-e41f-48e2-be78-9d4927c22d35"
            }
        },
        {
            "cell_type": "markdown",
            "source": [
                "[<Previous](CH-12-01.ipynb)    |   [Next>](CH-12-03.ipynb)"
            ],
            "metadata": {
                "azdata_cell_guid": "671008db-d4f6-429f-a225-937cb038805a"
            }
        }
    ]
}
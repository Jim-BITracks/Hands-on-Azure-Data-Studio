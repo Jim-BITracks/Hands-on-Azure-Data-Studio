{
    "metadata": {
        "kernelspec": {
            "name": "SQL",
            "display_name": "SQL",
            "language": "sql"
        },
        "language_info": {
            "name": "sql",
            "version": ""
        }
    },
    "nbformat_minor": 2,
    "nbformat": 4,
    "cells": [
        {
            "cell_type": "markdown",
            "source": [
                "# Choosing your Type – Extension Categories\r\n",
                "\r\n",
                "[<Back](readme.md)"
            ],
            "metadata": {
                "azdata_cell_guid": "f0dccd16-0e66-4a70-9cf4-7f4d976eee8f"
            }
        },
        {
            "cell_type": "markdown",
            "source": [
                " [<Previous](CH-16-01.ipynb)    |   [Next>](CH-16-03.ipynb)"
            ],
            "metadata": {
                "azdata_cell_guid": "3a555b96-3c0b-44ce-af23-d4e90e813bdc"
            }
        }
    ]
}
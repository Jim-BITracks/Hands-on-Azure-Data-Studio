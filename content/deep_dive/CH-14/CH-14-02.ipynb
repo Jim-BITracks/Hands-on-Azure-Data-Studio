{
    "metadata": {
        "kernelspec": {
            "name": "SQL",
            "display_name": "SQL",
            "language": "sql"
        },
        "language_info": {
            "name": "sql",
            "version": ""
        }
    },
    "nbformat_minor": 2,
    "nbformat": 4,
    "cells": [
        {
            "cell_type": "markdown",
            "source": [
                "# Python and the first-class snowflake connector\r\n",
                "\r\n",
                "[<Back](readme.md)"
            ],
            "metadata": {
                "azdata_cell_guid": "1d9bbec5-f875-4329-ba08-f4b43a5bb890"
            }
        },
        {
            "cell_type": "markdown",
            "source": [
                "[<Previous](CH-14-01.ipynb)    |   [Next>](CH-14-03.ipynb)"
            ],
            "metadata": {
                "azdata_cell_guid": "c8d6aca2-84b1-4299-b4de-5fe476529f57"
            }
        }
    ]
}
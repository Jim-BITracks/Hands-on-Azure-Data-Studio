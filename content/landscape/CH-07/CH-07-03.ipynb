{
    "metadata": {
        "kernelspec": {
            "name": "SQL",
            "display_name": "SQL",
            "language": "sql"
        },
        "language_info": {
            "name": "sql",
            "version": ""
        }
    },
    "nbformat_minor": 2,
    "nbformat": 4,
    "cells": [
        {
            "cell_type": "markdown",
            "source": [
                "# Configuring your Machine for Git\r\n",
                "\r\n",
                "[<Back](readme.md)"
            ],
            "metadata": {
                "azdata_cell_guid": "39bd3cab-778c-42e6-8a84-8019745331b6"
            }
        },
        {
            "cell_type": "markdown",
            "source": [
                "[<Previous](CH-07-02.ipynb)  |   [Next>](../CH-08/readme.md)"
            ],
            "metadata": {
                "azdata_cell_guid": "fde11ce9-b584-430a-af5b-5f9dfa02e6f8"
            }
        }
    ]
}
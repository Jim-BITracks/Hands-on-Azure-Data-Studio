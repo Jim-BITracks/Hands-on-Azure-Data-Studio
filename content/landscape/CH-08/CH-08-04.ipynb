{
    "metadata": {
        "kernelspec": {
            "name": "SQL",
            "display_name": "SQL",
            "language": "sql"
        },
        "language_info": {
            "name": "sql",
            "version": ""
        }
    },
    "nbformat_minor": 2,
    "nbformat": 4,
    "cells": [
        {
            "cell_type": "markdown",
            "source": [
                "# PowerShell for ADS\r\n",
                "\r\n",
                "[<Back](readme.md)\r\n",
                "\r\n",
                "This extension provides rich PowerShell language support for Azure Data Studio. You can write and run PowerShell scripts using IDE-like interface that Azure Data Studio provides.\r\n",
                "\r\n",
                "## Installing the Extension\r\n",
                "1. Select the **Extensions** Icon to view the available extensions.  \r\n",
                "2. Search for the **PowerShell** extension and Click **Install** to add the extension. \r\n",
                "\r\n",
                " <img src=\"https://user-images.githubusercontent.com/61198055/75893696-34152280-5e01-11ea-9705-681ef1e6c81b.png\" width=\"40%\" height=\"auto\">\r\n",
                "\r\n",
                " If you are running Azure Data Studio on MacOS or Linux, you may also need to install PowerShell Core.\r\n",
                "PowerShell Core is an Open Source project on GitHub.\r\n",
                "\r\n",
                "\r\n",
                "\r\n",
                ""
            ],
            "metadata": {
                "azdata_cell_guid": "50e616d5-7c90-421f-b19d-2cd6e346ea49"
            }
        },
        {
            "cell_type": "markdown",
            "source": [
                "[<Previous](CH-08-03.ipynb)  |  [Next>](CH-08-05.ipynb)"
            ],
            "metadata": {
                "azdata_cell_guid": "a1e32a45-3c18-42f8-9e53-b369b5325fd2"
            }
        }
    ]
}
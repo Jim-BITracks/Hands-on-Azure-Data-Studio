{
    "metadata": {
        "kernelspec": {
            "name": "SQL",
            "display_name": "SQL",
            "language": "sql"
        },
        "language_info": {
            "name": "sql",
            "version": ""
        }
    },
    "nbformat_minor": 2,
    "nbformat": 4,
    "cells": [
        {
            "cell_type": "markdown",
            "source": [
                "# Redefining Agile\r\n",
                "\r\n",
                "[<Back](readme.md)"
            ],
            "metadata": {
                "azdata_cell_guid": "528cfc70-ed97-4b74-a914-16ef8deabbc1"
            }
        },
        {
            "cell_type": "markdown",
            "source": [
                " [<Previous](CH-17-02.ipynb)    |   [Next>](CH-17-04.ipynb)"
            ],
            "metadata": {
                "azdata_cell_guid": "aead7189-9414-4e21-a944-e8f68e7135c0"
            }
        }
    ]
}
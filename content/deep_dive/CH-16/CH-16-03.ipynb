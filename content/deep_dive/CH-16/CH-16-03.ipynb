{
    "metadata": {
        "kernelspec": {
            "name": "SQL",
            "display_name": "SQL",
            "language": "sql"
        },
        "language_info": {
            "name": "sql",
            "version": ""
        }
    },
    "nbformat_minor": 2,
    "nbformat": 4,
    "cells": [
        {
            "cell_type": "markdown",
            "source": [
                "# Testing, Creating and Sharing your Extension\r\n",
                "\r\n",
                "[<Back](readme.md)"
            ],
            "metadata": {
                "azdata_cell_guid": "132690d3-7b37-41c6-a001-7ee85b046571"
            }
        },
        {
            "cell_type": "markdown",
            "source": [
                " [<Previous](CH-16-02.ipynb)    |   [Next>](CH-16-04.ipynb)"
            ],
            "metadata": {
                "azdata_cell_guid": "535aa2d8-110c-4334-9a3c-483f30c87db0"
            }
        }
    ]
}
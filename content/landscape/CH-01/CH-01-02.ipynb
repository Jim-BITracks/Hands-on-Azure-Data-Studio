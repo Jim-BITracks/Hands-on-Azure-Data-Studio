{
    "metadata": {
        "kernelspec": {
            "name": "SQL",
            "display_name": "SQL",
            "language": "sql"
        },
        "language_info": {
            "name": "sql",
            "version": ""
        }
    },
    "nbformat_minor": 2,
    "nbformat": 4,
    "cells": [
        {
            "cell_type": "markdown",
            "source": [
                "# The new options provided by “Cross-Platform” computing\r\n",
                "\r\n",
                "[<Back](readme.md)\r\n",
                "\r\n",
                "Azure Data Studio is a cross-platform database tool for data professionals using the Microsoft family of on-premises and cloud data platforms on Windows, MacOS, and Linux. On each platform, when you start Azure Data Studio, it checks itself and all your extensions and gives you the option to update them, regardless of your platform.\r\n",
                ""
            ],
            "metadata": {
                "azdata_cell_guid": "e3008f8b-9372-47a5-9494-f97e6162cf99"
            }
        },
        {
            "cell_type": "markdown",
            "source": [
                "[<Previous](CH-01-01.ipynb)  |   [Next>](CH-01-03.ipynb)"
            ],
            "metadata": {
                "azdata_cell_guid": "4264eac0-e645-4ec6-a505-f46f71cf04dc"
            }
        }
    ]
}
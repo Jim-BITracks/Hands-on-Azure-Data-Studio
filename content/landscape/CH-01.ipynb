{
    "metadata": {
        "kernelspec": {
            "name": "SQL",
            "display_name": "SQL",
            "language": "sql"
        },
        "language_info": {
            "name": "sql",
            "version": ""
        }
    },
    "nbformat_minor": 2,
    "nbformat": 4,
    "cells": [
        {
            "cell_type": "markdown",
            "source": [
                "# Open Source, Cross-Platform, Multi-Database\r\n",
                "I’ve had many strange looks after mentioning “Open Source” and “Microsoft” within the same sentence. However, that is only the beginning when it comes to Azure Data Studio (ADS), which offers both Cross-Platform and Multi-Database capabilities. This is not the Microsoft from the years of Steve Ballmer, who once referred to the free software Linux kernel as \"communism\". (Full disclosure: Mr. Ballmer has a new and open perspective today)\r\n",
                "\r\n",
                "1.\tWhat “Open Source” means for this new breed of Microsoft Software\r\n",
                "2.\tThe new options provided by “Cross-Platform” computing\r\n",
                "3.\tWhat “Multi-Database” means for your SQL experience"
            ],
            "metadata": {
                "azdata_cell_guid": "352a45b4-e36d-4e8c-92c9-5b6e54dfa69d"
            }
        }
    ]
}
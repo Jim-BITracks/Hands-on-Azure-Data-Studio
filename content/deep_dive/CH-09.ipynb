{
    "metadata": {
        "kernelspec": {
            "name": "SQL",
            "display_name": "SQL",
            "language": "sql"
        },
        "language_info": {
            "name": "sql",
            "version": ""
        }
    },
    "nbformat_minor": 2,
    "nbformat": 4,
    "cells": [
        {
            "cell_type": "markdown",
            "source": [
                "# Creating Snippets\r\n",
                "All too repetitive typing of SQL is the mother of all things now baked into ‘Snippets’. As developers, we of course have created ways to mitigate the unfortunate circumstance of time eating keystrokes, but is there a better way?\r\n",
                "1.\tCreating and Managing Snippets\r\n",
                "2.\tOptions for Parameters and Drop-downs\r\n",
                "3.\tManagement of Verbose and Numerous Snippets"
            ],
            "metadata": {
                "azdata_cell_guid": "2ff45897-6649-453f-bb4d-b97febb9879c"
            }
        }
    ]
}
{
    "metadata": {
        "kernelspec": {
            "name": "SQL",
            "display_name": "SQL",
            "language": "sql"
        },
        "language_info": {
            "name": "sql",
            "version": ""
        }
    },
    "nbformat_minor": 2,
    "nbformat": 4,
    "cells": [
        {
            "cell_type": "markdown",
            "source": [
                "# Using PowerShell to Integrate with Azure Data Factory"
            ],
            "metadata": {
                "azdata_cell_guid": "2ff45897-6649-453f-bb4d-b97febb9879c"
            }
        }
    ]
}
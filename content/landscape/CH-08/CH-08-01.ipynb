{
    "metadata": {
        "kernelspec": {
            "name": "SQL",
            "display_name": "SQL",
            "language": "sql"
        },
        "language_info": {
            "name": "sql",
            "version": ""
        }
    },
    "nbformat_minor": 2,
    "nbformat": 4,
    "cells": [
        {
            "cell_type": "markdown",
            "source": [
                "# Installing and Managing your Extensions\n",
                "\n",
                "[<Back](readme.md)\n",
                "\n",
                "Extensions in Azure Data Studio provide an easy way to add more functionality to the base Azure Data Studio installation. Extensions are provided by the Azure Data Studio team (Microsoft), as well as the 3rd party community. If you want, you can create your own extension and publish it to the extension gallery.\n",
                "\n",
                "## Adding Azure Data Studio extensions\n",
                "\n",
                "### 1. Access the available extensions by selecting the Extensions Icon, or by selecting **View menu-> Extensions** .\n",
                " *You can also quickly access the extensions manager by pressing Ctrl+Shift+X (Windows/Linux) or Command+Shift+X (Mac).*\n",
                "\n",
                " <img src=\"https://user-images.githubusercontent.com/61198055/75698722-377fa100-5c7d-11ea-876d-6b4605096157.png\" width=\"25%\" height=\"auto\">\n",
                "\n",
                "### 2. Select any extension to view its details and select **Install**.\n",
                "\n",
                "\n",
                "<img src=\"https://user-images.githubusercontent.com/61198055/75699190-0c498180-5c7e-11ea-8d07-502639aa9278.png\" width=\"75%\" height=\"auto\">\n",
                "\n",
                "### 3. Once installed, Reload to enable the extension in Azure Data Studio (only required when installing an extension for the first time).\n",
                "All installed extensions will appear under the **Enabled** Extensions :\n",
                "\n",
                "<img src=\"https://user-images.githubusercontent.com/61198055/75702620-cee7f280-5c83-11ea-8cc7-8345a99e8eb1.png\" width=\"25%\" height=\"auto\">\n",
                "\n",
                "\n",
                "\n",
                ""
            ],
            "metadata": {
                "azdata_cell_guid": "3f6afb08-24ad-4e8e-a82a-2781a0126747"
            }
        },
        {
            "cell_type": "markdown",
            "source": [
                "  [<Previous](../CH-07/readme.md)  |  [Next>](CH-08-02.ipynb)"
            ],
            "metadata": {
                "azdata_cell_guid": "dc18ee44-3263-402c-8b2f-f86048b7b163"
            }
        },
        {
            "cell_type": "code",
            "source": [
                ""
            ],
            "metadata": {
                "azdata_cell_guid": "fb0685df-9f84-4399-b4b8-a9586f76df81"
            },
            "outputs": [],
            "execution_count": null
        }
    ]
}
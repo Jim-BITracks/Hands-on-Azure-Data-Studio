{
    "metadata": {
        "kernelspec": {
            "name": "SQL",
            "display_name": "SQL",
            "language": "sql"
        },
        "language_info": {
            "name": "sql",
            "version": ""
        }
    },
    "nbformat_minor": 2,
    "nbformat": 4,
    "cells": [
        {
            "cell_type": "markdown",
            "source": [
                "## Grouping and Color Coding your Connections\n",
                "\n",
                "[<Back](readme.md)\n",
                "\n",
                "Azure Data Studio allows you to organize your connections into groups which can optionally be ‘color coded’, both on the ‘Side Bar’, and at the top of the tabbed SQL editor windows. You have complete flexibility with grouping your connections, which might be based on:\n",
                "+\tServer Names\n",
                "+\tFunctional Names (e.g., Dev/Test/Prod)\n",
                "+\tPhysical Locations\n",
                "+\tRoles (e.g., Admin/Execute/Read Only)  \n",
                "\n",
                " Or any other grouping that facilitates your ‘connection’ navigation. The following is an example of grouping and color coding based on development environments:\n",
                "\n",
                " <img src=\"https://user-images.githubusercontent.com/61198055/76990489-6739d480-691e-11ea-995b-efa948d2bbe8.PNG\" width=\"40%\" height=\"auto\">\n",
                "\n",
                " *Figure 2-11. Sample Connection Groupings*\n",
                "\n",
                "This organization can be performed within the Connections menu. The three icons to the right of the word SERVERS are shortcuts to actions the user can perform.  \n",
                "+ First, we can define a **New connection** to associate with group.  \n",
                "+ Second, we can define a **New server group** to organize our connections.  \n",
                "+ Third, we can **Show active connections**.\n",
                "\n",
                " <img src=\"https://user-images.githubusercontent.com/61198055/76992691-feecf200-6921-11ea-9a37-a5ce3af63326.png\" width=\"40%\" height=\"auto\">\n",
                "\n",
                " *Figure 2-12. Sample Connection Groupings*\n",
                "\n",
                "## **Create a new Server Group**\n",
                "### Step 1. Click New Server Group icon at the top of the SERVERS sidebar.This provides access to the ‘Add server group’ form :\n",
                "\n",
                "\n",
                "<img src=\"https://user-images.githubusercontent.com/61198055/76996758-74f45780-6928-11ea-81b8-023782204c69.png\" width=\"55%\" height=\"auto%\">\n",
                "\n",
                "### Step 2. Enter a group name and select a color for the group for identifying. Optionally, add a description.\n",
                "The image below shows an add server group dialog box.\n",
                "\n",
                "<img src=\"https://user-images.githubusercontent.com/61198055/76994710-3315e200-6925-11ea-816c-150238169a09.PNG\" width=\"60%\" height=\"auto\">\n",
                "\n",
                "*Figure 2-13. Sample Connection Groupings*\n",
                "\n",
                "## **Color Coding Groups**\n",
                "\n",
                "The following figure renders the palette of colors you can select for your groups. A selected group color is not only used in the connections ‘Side Bar’ but can also be extended to the tabbed SQL editor windows. For this option, click on the ‘Manage’ (gear) Icon located at the bottom of the ‘Activity Bar’, choose ‘Settings’, and finally select a *‘Sql: Tab Color Mode’* (i.e.change to border, or fill)\n",
                "\n",
                "<img src=\"https://user-images.githubusercontent.com/61198055/76995142-cd762580-6925-11ea-8dd1-878232f4dfd6.PNG\" width=\"60%\" height=\"auto\">\n",
                "\n",
                "*Figure 2-14. Sample Connection Groupings*\n",
                "\n",
                "Once the color mode is set, your query editor windows will reflect its group 'color coding' :\n",
                "\n",
                "<img src=\"https://user-images.githubusercontent.com/61198055/76995493-52f9d580-6926-11ea-85c2-a46ee6d613e0.PNG\" width=\"60%\" height=\"auto\">\n",
                "\n",
                "*Figure 2-15. Color Coded SQL Editor Windows*\n",
                "\n",
                "### *To help you get started with creating and organizing connections, we have created an associated YouTube video located at:* **https://youtu.be/lJRg4SzmEU8**\n",
                "\n",
                "\n",
                ""
            ],
            "metadata": {
                "azdata_cell_guid": "db31f30f-37ac-4741-ae7e-03bbc54d669d"
            }
        },
        {
            "cell_type": "markdown",
            "source": [
                "  [<Previous](CH-02-01.ipynb)  |   [Next>](CH-02-03.ipynb)  "
            ],
            "metadata": {
                "azdata_cell_guid": "55e18432-2bcb-47e2-8dfa-f5c19c96e7c7"
            }
        }
    ]
}
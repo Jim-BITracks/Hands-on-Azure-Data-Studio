{
    "metadata": {
        "kernelspec": {
            "name": "SQL",
            "display_name": "SQL",
            "language": "sql"
        },
        "language_info": {
            "name": "sql",
            "version": ""
        }
    },
    "nbformat_minor": 2,
    "nbformat": 4,
    "cells": [
        {
            "cell_type": "markdown",
            "source": [
                "# Entering Queries - IntelliSense, Snippets and Object Definitions\r\n",
                "\r\n",
                "[<Back](readme.md)\r\n",
                "\r\n",
                "To get started with entering SQL queries, you can either click on ‘New query’ from the Welcome page, or for more context specificity, right click on your target Database in the ‘Side Bar’, and choose ‘New Query’...  [Full text available at leanpub.com](https://leanpub.com/hands-on-ads)\r\n",
                "\r\n",
                "> No code samples in this section\r\n",
                ""
            ],
            "metadata": {
                "azdata_cell_guid": "3f6afb08-24ad-4e8e-a82a-2781a0126747"
            }
        },
        {
            "cell_type": "markdown",
            "source": [
                " [<Previous](../CH-02/readme.md)   |   [Next>](CH-03-02.ipynb)  "
            ],
            "metadata": {
                "azdata_cell_guid": "8145dbdc-8554-4ef6-ab86-c5842ebcb46e"
            }
        }
    ]
}
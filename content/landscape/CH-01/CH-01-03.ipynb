{
    "metadata": {
        "kernelspec": {
            "name": "SQL",
            "display_name": "SQL",
            "language": "sql"
        },
        "language_info": {
            "name": "sql",
            "version": ""
        }
    },
    "nbformat_minor": 2,
    "nbformat": 4,
    "cells": [
        {
            "cell_type": "markdown",
            "source": [
                "# What “Multi-Database” means for your SQL experience\r\n",
                "\r\n",
                "[<Back](readme.md)\r\n",
                "\r\n",
                "Not content to simply be cross-platform, ADS is designed to connect beyond SQL Server. At the time of this writing, ADS directly supports ‘SQL Server’ and ‘PostgreSQL’ as *first class* citizens. This is the case whether your target Database System is on-premise, in the cloud, in a container, or on bare metal. Soon (most likely by the time you read this), two additional Databases should be added to this list: ‘MySQL’, and ‘MariaDB’. [Full text available at leanpub.com](https://leanpub.com/hands-on-ads)\r\n",
                "\r\n",
                "> No code samples in this section"
            ],
            "metadata": {
                "azdata_cell_guid": "a52c50b4-2a69-480c-84ac-cd93517de7b3"
            }
        },
        {
            "cell_type": "markdown",
            "source": [
                "[<Previous](CH-01-02.ipynb)  |   [Next>](../CH-02/readme.md)"
            ],
            "metadata": {
                "azdata_cell_guid": "f43bc782-fd9b-4992-99c5-d902d8a99580"
            }
        }
    ]
}
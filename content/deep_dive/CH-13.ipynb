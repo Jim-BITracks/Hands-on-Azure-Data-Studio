{
    "metadata": {
        "kernelspec": {
            "name": "SQL",
            "display_name": "SQL",
            "language": "sql"
        },
        "language_info": {
            "name": "sql",
            "version": ""
        }
    },
    "nbformat_minor": 2,
    "nbformat": 4,
    "cells": [
        {
            "cell_type": "markdown",
            "source": [
                "# Protect, Version, and Collaborate with Git\r\n",
                "ADS is “source controlled”, and you can see it right here: https://github.com/microsoft/azuredatastudio. Why not follow the lead from Microsoft and get real with Git and GitHub. It’s all built-in, it’s free (within limits), and now it’s even easy…\r\n",
                "1.\tStart with a GitHub account\r\n",
                "2.\tSource Repositories, Cloning and Sharing\r\n",
                "3.\tStage, Commit, and Sync"
            ],
            "metadata": {
                "azdata_cell_guid": "2ff45897-6649-453f-bb4d-b97febb9879c"
            }
        },
        {
            "cell_type": "markdown",
            "source": [
                " [<Previous](C:\\ADS\\Notebooks\\Practical_ADS\\content\\deep_dive\\CH-12.ipynb)    |   [Next>](C:\\ADS\\Notebooks\\Practical_ADS\\content\\deep_dive\\CH-14.ipynb)"
            ],
            "metadata": {
                "azdata_cell_guid": "373dcbdb-388e-4552-9a5e-54f2a2c28b18"
            }
        }
    ]
}
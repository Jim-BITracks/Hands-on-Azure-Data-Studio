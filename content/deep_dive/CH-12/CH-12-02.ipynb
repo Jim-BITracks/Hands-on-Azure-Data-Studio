{
    "metadata": {
        "kernelspec": {
            "name": "SQL",
            "display_name": "SQL",
            "language": "sql"
        },
        "language_info": {
            "name": "sql",
            "version": ""
        }
    },
    "nbformat_minor": 2,
    "nbformat": 4,
    "cells": [
        {
            "cell_type": "markdown",
            "source": [
                "# Key Bindings – Mouse Optional\r\n",
                "\r\n",
                "[<Back](readme.md)\r\n",
                "\r\n",
                "**View: Toggle Integrated Terminal** command or **Ctrl+`** can be used to quickly toggle the integrated terminal panel in and out of view.\r\n",
                "\r\n",
                "Below are the keyboard shortcuts to quickly navigate within the integrated terminal:\r\n",
                "\r\n",
                "\r\n",
                "## Key  \tCommand\r\n",
                "Ctrl+`\t Show integrated terminal\r\n",
                "\r\n",
                "Ctrl+Shift+` Create new terminal\r\n",
                "\r\n",
                "Ctrl+Up\t     Scroll up\r\n",
                "Ctrl+Down\tScroll down\r\n",
                "\r\n",
                "Ctrl+PageUp\tScroll page up\r\n",
                "\r\n",
                "Ctrl+PageDown\tScroll page down\r\n",
                "\r\n",
                "Ctrl+Home\tScroll to top\r\n",
                "\r\n",
                "Ctrl+End\tScroll to bottom\r\n",
                "\r\n",
                "Ctrl+K\tClear the terminal\r\n",
                "\r\n",
                "Other terminal commands are available and can be bound to your preferred keyboard shortcuts.\r\n",
                "\r\n",
                "They are:\r\n",
                "\r\n",
                "+ workbench.action.terminal.focus: Focus the terminal. This is like toggle but focuses the terminal instead of hiding it, if it is visible.  \r\n",
                "+ workbench.action.terminal.focusNext: Focuses the next terminal instance.\r\n",
                "+ workbench.action.terminal.focusPrevious: Focuses the previous terminal instance.\r\n",
                "+ workbench.action.terminal.kill: Remove the current terminal instance.\r\n",
                "+ workbench.action.terminal.runSelectedText: Run the selected text in the terminal instance.\r\n",
                "+ workbench.action.terminal.runActiveFile: Run the active file in the terminal instance."
            ],
            "metadata": {
                "azdata_cell_guid": "ed565be7-e41f-48e2-be78-9d4927c22d35"
            }
        },
        {
            "cell_type": "markdown",
            "source": [
                "[<Previous](CH-12-01.ipynb)    |   [Next>](CH-12-03.ipynb)"
            ],
            "metadata": {
                "azdata_cell_guid": "671008db-d4f6-429f-a225-937cb038805a"
            }
        }
    ]
}
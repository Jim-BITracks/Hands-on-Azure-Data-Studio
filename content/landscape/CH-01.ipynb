{
    "metadata": {
        "kernelspec": {
            "name": "SQL",
            "display_name": "SQL",
            "language": "sql"
        },
        "language_info": {
            "name": "sql",
            "version": ""
        }
    },
    "nbformat_minor": 2,
    "nbformat": 4,
    "cells": [
        {
            "cell_type": "markdown",
            "source": [
                "# Open Source, Cross-Platform, Multi-Database"
            ],
            "metadata": {
                "azdata_cell_guid": "352a45b4-e36d-4e8c-92c9-5b6e54dfa69d"
            }
        }
    ]
}
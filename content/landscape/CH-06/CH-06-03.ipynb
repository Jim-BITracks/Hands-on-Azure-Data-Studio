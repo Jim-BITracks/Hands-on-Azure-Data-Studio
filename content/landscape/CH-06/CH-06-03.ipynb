{
    "metadata": {
        "kernelspec": {
            "name": "SQL",
            "display_name": "SQL",
            "language": "sql"
        },
        "language_info": {
            "name": "sql",
            "version": ""
        }
    },
    "nbformat_minor": 2,
    "nbformat": 4,
    "cells": [
        {
            "cell_type": "markdown",
            "source": [
                "# Python as your Portal to More Databases\r\n",
                "\r\n",
                "[<Back](readme.md)\r\n",
                ""
            ],
            "metadata": {
                "azdata_cell_guid": "5f59a3f2-b070-4da9-843f-923f5d86f3d9"
            }
        },
        {
            "cell_type": "markdown",
            "source": [
                "[<Previous](CH-06-02.ipynb)  |   [Next>](CH-06-04.ipynb)  "
            ],
            "metadata": {
                "azdata_cell_guid": "a9ee7b4e-5c11-49db-a494-2bfb1d6e0f6a"
            }
        }
    ]
}
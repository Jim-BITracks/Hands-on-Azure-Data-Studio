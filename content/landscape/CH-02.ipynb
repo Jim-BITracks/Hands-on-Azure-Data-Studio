{
    "metadata": {
        "kernelspec": {
            "name": "SQL",
            "display_name": "SQL",
            "language": "sql"
        },
        "language_info": {
            "name": "sql",
            "version": ""
        }
    },
    "nbformat_minor": 2,
    "nbformat": 4,
    "cells": [
        {
            "cell_type": "markdown",
            "source": [
                "# Everything Starts with a Connection\r\n",
                "\r\n",
                "[<Back](readme.md)\r\n",
                "\r\n",
                "Most of what you do in Azure Data Studio will start with a connection. This ADS experience has some nice surprises compared to its older sibling: SQL Server Management Studio.\r\n",
                "\r\n",
                "## Creating, Using, and Managing Connections\r\n",
                "\r\n",
                "      1-Start Azure Data Studio.\r\n",
                "      2-The first time you run Azure Data Studio the Welcome page should open. If you don't see the Welcome page, select Help > Welcome.  Select New Connection to open the Connection pane:\r\n",
                "\r\n",
                "      ![image](https://user-images.githubusercontent.com/61198055/75061668-2ed5e080-54af-11ea-89f9-5e6b095eda73.png)\r\n",
                "\r\n",
                "      3-Fill in the fields as follows:\r\n",
                "\r\n",
                "          Server Name: Enter server name here. For example, localhost.\r\n",
                "          Authentication Type: SQL Login\r\n",
                "          User name: User name for the SQL Server\r\n",
                "          Password: Password for the SQL Server\r\n",
                "          Database Name: Select your database name\r\n",
                "          Server Group: <Default>\r\n",
                "       ![image](https://user-images.githubusercontent.com/61198055/75062556-04852280-54b1-11ea-9e5e-45f80ea175cc.png)  \r\n",
                "\r\n",
                "      4-You should see your server connected. You can expand the tables in your server by clicking on the drop down in your left pane.\r\n",
                "        \r\n",
                "\r\n",
                "**2.\tGrouping and Color Coding your Connections**\r\n",
                "\r\n",
                "    Server groups provide a way to organize your connections to the servers and databases you work with. When you create server groups, the configuration details are saved into User Settings.\r\n",
                "    Given the different platforms this tool can connect to, it is important to be able to organize connections into groups.This organization can be performed within the Connections menu. The image below reflects a new ADS install with no pre-existing servers defined.  The three icons to the right of the word SERVERS are shortcuts to actions the user can perform.  First, we can define a new connection to associated with group.  Second, we can define a new server group to organize our connections.  Third, we can show active connections. \r\n",
                "    ![image](https://user-images.githubusercontent.com/61198055/75070699-c9d7b600-54c1-11ea-971e-dc8cd52b5b60.png)\r\n",
                "\r\n",
                "    To create a new server group\r\n",
                "\r\n",
                "      1-Click New Server Group at the top of the SERVERS sidebar.\r\n",
                "\r\n",
                "      2-Enter a group name and select a color for the group for identifying. Optionally, add a description.\r\n",
                "     The image below shows an add server group dialog box.\r\n",
                "    ![image](https://user-images.githubusercontent.com/61198055/75071024-79148d00-54c2-11ea-899d-dab47d9189cc.png)\r\n",
                "\r\n",
                "\r\n",
                "**3.\tCentral Management Servers Extension**\r\n",
                "\r\n",
                "    The Central Management Servers extension allows users to store a list of instances of SQL Server that is organized into one or more groups. Actions that are taken using a CMS group act on all servers in the server group. \r\n",
                "    Installing the SQL Server Central Management Servers extension:\r\n",
                "\r\n",
                "      1-Select the extensions icon, or select Extensions in the View menu.\r\n",
                "\r\n",
                "      2-Select an available extension to view its details.\r\n",
                "\r\n",
                "      3-Select the extension you want (SQL Server Central Management Servers) and Install it.\r\n",
                "\r\n",
                "    Starting Central Management Servers\r\n",
                "    \r\n",
                "     Central Management Servers can be viewed by clicking on the Connections icon (Ctrl/Cmd + G). The first time you download the extension, the CMS view will be minimized, and you can open it by click on Central Management Servers"
            ],
            "metadata": {
                "azdata_cell_guid": "3f6afb08-24ad-4e8e-a82a-2781a0126747"
            }
        },
        {
            "cell_type": "markdown",
            "source": [
                "<img src=\"https://user-images.githubusercontent.com/61198055/75062556-04852280-54b1-11ea-9e5e-45f80ea175cc.png\" width=\"640\" height=\"auto\">"
            ],
            "metadata": {
                "azdata_cell_guid": "ec331a07-92bf-4255-a86e-f37e1ac062b3"
            }
        },
        {
            "cell_type": "markdown",
            "source": [
                "  [<Previous](CH-01.ipynb)  |   [Next>](CH-03.ipynb)  "
            ],
            "metadata": {
                "azdata_cell_guid": "87a59e60-633b-4f5b-b6df-73b96a4395aa"
            }
        },
        {
            "cell_type": "code",
            "source": [
                ""
            ],
            "metadata": {
                "azdata_cell_guid": "fb0685df-9f84-4399-b4b8-a9586f76df81"
            },
            "outputs": [],
            "execution_count": null
        }
    ]
}
{
    "metadata": {
        "kernelspec": {
            "name": "SQL",
            "display_name": "SQL",
            "language": "sql"
        },
        "language_info": {
            "name": "sql",
            "version": ""
        }
    },
    "nbformat_minor": 2,
    "nbformat": 4,
    "cells": [
        {
            "cell_type": "markdown",
            "source": [
                "# Saving Queries and Snippets\r\n",
                "\r\n",
                "[<Back](readme.md)\r\n",
                "\r\n",
                "When working with multiple ‘file based’ queries, it is helpful to organize related scripts into a common folder structure. To achieve this, you simply select (or optionally create) a folder using the ‘Menu Bar’ File, Open Folder command. This will establish your ‘current’ folder context... [Full text available at leanpub.com](https://leanpub.com/hands-on-ads)\r\n",
                "\r\n",
                "## Creating a Snippet for Column Definitions\r\n",
                "A good place to start when creating a snippet is to write the *base* query, which for our case will employ the INFORMATION_SCHEMA.COLUMNS system view, run initially against the msdb ‘system’ database. In the query, we will be searching for *all* definitions of the **plan_name** column located in this database:\r\n",
                "\r\n",
                "``` sql\r\n",
                "select * from msdb.INFORMATION_SCHEMA.COLUMNS \r\n",
                "where COLUMN_NAME = 'plan_name'\r\n",
                "```\r\n",
                "\r\n",
                "## Saving Queries and Snippets\r\n",
                "Now that we have a ‘current’ folder, let us tweak and then save our earlier INFORMATION_SCHEMA.COLUMNS query into the file system. Following is a bit more *generic* version of the earlier query:\r\n",
                "\r\n",
                "```sql\r\n",
                "select * from INFORMATION_SCHEMA.COLUMNS where COLUMN_NAME = 'column_name'\r\n",
                "```\r\n",
                "\r\n",
                "Ok, saving a file is admittedly a pretty basic user action. However, what if you would like to save this query as a reusable *ADS Snippet*? Well for starters we will want to make another tweak to this script which will invoke ‘variable substitution’ logic on re-use. This is achieved by replacing '**column_name**' with the parameter syntax **${1:ColumnName}**:\r\n",
                "\r\n",
                "```sql\r\n",
                "select * from INFORMATION_SCHEMA.COLUMNS \r\n",
                "where COLUMN_NAME = '${1:ColumnName}'\r\n",
                "```\r\n",
                "Note: for simpler snippet coding, we will place this query on a single line in the full json snippet syntax: \r\n",
                "```json\r\n",
                " { \"Information Schema for Columns\": {\r\n",
                "  \"prefix\": \"InfoSchemaColumns\",\r\n",
                "  \"body\": \"select * from INFORMATION_SCHEMA.COLUMNS where COLUMN_NAME = '${1:ColumnName}'\" } }\r\n",
                "```\r\n",
                "\r\n",
                ""
            ],
            "metadata": {
                "azdata_cell_guid": "c129ef41-0bba-4e6c-8a67-830b8a2be93c"
            }
        },
        {
            "cell_type": "markdown",
            "source": [
                "[<Previous](CH-03-01.ipynb)  |   [Next>](CH-03-03.ipynb) "
            ],
            "metadata": {
                "azdata_cell_guid": "36396bd2-8e03-479e-b1db-a343b47df936"
            }
        }
    ]
}
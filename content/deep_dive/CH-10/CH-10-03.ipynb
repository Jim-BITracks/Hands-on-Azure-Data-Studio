{
    "metadata": {
        "kernelspec": {
            "name": "SQL",
            "display_name": "SQL",
            "language": "sql"
        },
        "language_info": {
            "name": "sql",
            "version": ""
        }
    },
    "nbformat_minor": 2,
    "nbformat": 4,
    "cells": [
        {
            "cell_type": "markdown",
            "source": [
                "# Drill-in with Insight Detail Pages\r\n",
                "\r\n",
                "[<Back](readme.md)\r\n",
                "\r\n",
                "   Insight details query is used to list relevant insight detail information in a tabular format in the insight details panel.\r\n",
                "   Azure Data Studio executes insight widget queries and maps the query result set to a chart's dataset then renders it. When users open up an insight's details, it executes the insight details query and prints out the result in a grid view within the dialog.\r\n",
                "   \r\n",
                "**View insight details for more information**\r\n",
                "\r\n",
                "### Step 1 - To view additional information for an insight widget, click the ellipses (...) in the upper right, and select Show Details.\r\n",
                "\r\n",
                "   <img src=\"https://user-images.githubusercontent.com/61198055/75279535-c43be200-57d9-11ea-8c3f-8ad8a891bf05.png\" width=\"70%\" height=\"auto\">"
            ],
            "metadata": {
                "azdata_cell_guid": "f64cba5c-af9f-472c-88e2-d5e6481498d4"
            }
        },
        {
            "cell_type": "markdown",
            "source": [
                "[<Previous](CH-10-02.ipynb)"
            ],
            "metadata": {
                "azdata_cell_guid": "93306649-213a-4a03-b012-a3983fb18591"
            }
        }
    ]
}
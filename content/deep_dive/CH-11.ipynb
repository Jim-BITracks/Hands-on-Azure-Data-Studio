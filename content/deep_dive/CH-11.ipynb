{
    "metadata": {
        "kernelspec": {
            "name": "SQL",
            "display_name": "SQL",
            "language": "sql"
        },
        "language_info": {
            "name": "sql",
            "version": ""
        }
    },
    "nbformat_minor": 2,
    "nbformat": 4,
    "cells": [
        {
            "cell_type": "markdown",
            "source": [
                "# Notebooks Gone Wild\r\n",
                "\r\n",
                "[<Back](readme.md)\r\n",
                "\r\n",
                "As discussed in Chapter 5, Notebooks have many uses and will likely proliferate in your world. This chapter goes undercover to see why and how Juypter Notebooks rock…\r\n",
                "1.\tFeels Like a Book, Build on Json\r\n",
                "2.\tOrganizing, Navigating, Sharing and Trusting\r\n",
                "3.\tGetting at Big Data with Spark\r\n",
                "4.\tNotebooks creating Notebooks – Say What?"
            ],
            "metadata": {
                "azdata_cell_guid": "2ff45897-6649-453f-bb4d-b97febb9879c"
            }
        },
        {
            "cell_type": "markdown",
            "source": [
                "[![Video Link](http://img.youtube.com/vi/Mv-5O8yGTvQ/0.jpg)](https://www.youtube.com/watch?v=Mv-5O8yGTvQ \"Link to Azure Data Studio - Notebook Organization Video\")"
            ],
            "metadata": {
                "azdata_cell_guid": "cbae392f-9d11-48d5-8d2c-5e227466c254"
            }
        },
        {
            "cell_type": "markdown",
            "source": [
                " [<Previous](CH-10/readme.md)   |   [Next>](CH-12.ipynb)"
            ],
            "metadata": {
                "azdata_cell_guid": "689786ac-b556-4ff2-a13e-751cdcb01835"
            }
        }
    ]
}
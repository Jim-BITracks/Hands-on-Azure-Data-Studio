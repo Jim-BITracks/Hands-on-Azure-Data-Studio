{
    "metadata": {
        "kernelspec": {
            "name": "SQL",
            "display_name": "SQL",
            "language": "sql"
        },
        "language_info": {
            "name": "sql",
            "version": ""
        }
    },
    "nbformat_minor": 2,
    "nbformat": 4,
    "cells": [
        {
            "cell_type": "markdown",
            "source": [
                "## Grouping and Color Coding your Connections\n",
                "\n",
                "[<Back](readme.md)\n",
                "\n",
                "Server groups provide a way to organize your connections to the servers and databases you work with. When you create server groups, the configuration details are saved into User Settings.\n",
                "Given the different platforms this tool can connect to, it is important to be able to organize connections into groups.This organization can be performed within the Connections menu.ss The three icons to the right of the word SERVERS are shortcuts to actions the user can perform.  \n",
                "+ First, we can define a **New connection** to associated with group.  \n",
                "+ Second, we can define a **New server group** to organize our connections.  \n",
                "+ Third, we can **Show active connections**.\n",
                "\n",
                "<img src=\"https://user-images.githubusercontent.com/61198055/76349252-07b94480-62e0-11ea-8f2c-f02376da70a8.png\" width=\"40%\" height=\"auto\">\n",
                "\n",
                "\n",
                "## **To create a new server group**\n",
                "### Step 1. Click New Server Group at the top of the SERVERS sidebar.\n",
                "\n",
                "\n",
                "<img src=\"https://user-images.githubusercontent.com/61198055/76348404-8614e700-62de-11ea-9a06-8fac0d6183e6.png\" width=\"45%\" height=\"auto\">\n",
                "\n",
                "### Step 2. Enter a group name and select a color for the group for identifying. Optionally, add a description.\n",
                "The image below shows an add server group dialog box.\n",
                "\n",
                "<img src=\"https://user-images.githubusercontent.com/61198055/75071024-79148d00-54c2-11ea-899d-dab47d9189cc.png\" width=\"45%\" height=\"auto\">\n",
                "\n",
                "## The following image shows server groups organized by the type of database platform being used :\n",
                "\n",
                "<img src=\"https://user-images.githubusercontent.com/61198055/76448242-6cd46f00-63a0-11ea-8c81-612f5876f36c.png\" width=\"45%\" height=\"auto\">\n",
                "\n",
                ""
            ],
            "metadata": {
                "azdata_cell_guid": "db31f30f-37ac-4741-ae7e-03bbc54d669d"
            }
        },
        {
            "cell_type": "markdown",
            "source": [
                "  [<Previous](CH-02-01.ipynb)  |   [Next>](CH-02-03.ipynb)  "
            ],
            "metadata": {
                "azdata_cell_guid": "55e18432-2bcb-47e2-8dfa-f5c19c96e7c7"
            }
        }
    ]
}
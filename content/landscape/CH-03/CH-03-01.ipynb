{
    "metadata": {
        "kernelspec": {
            "name": "SQL",
            "display_name": "SQL",
            "language": "sql"
        },
        "language_info": {
            "name": "sql",
            "version": ""
        }
    },
    "nbformat_minor": 2,
    "nbformat": 4,
    "cells": [
        {
            "cell_type": "markdown",
            "source": [
                "# Entering Queries - IntelliSense, Snippets and Object Definitions\r\n",
                "\r\n",
                "[<Back](readme.md)\r\n",
                "\r\n",
                "Azure Data Studio offers a modern, keyboard-focused SQL coding experience that makes your everyday tasks easier with built-in features, such as multiple tab windows, a rich SQL editor, IntelliSense, keyword completion, code snippets, code navigation, and source control integration (Git).\r\n",
                "\r\n",
                "Code snippets in Azure Data Studio are templates that make it easy to create databases and database objects.\r\n",
                "Azure Data Studio provides several T-SQL snippets to assist you with quickly generating the proper syntax.\r\n",
                "\r\n",
                "## Using built-in T-SQL code snippets\r\n",
                "\r\n",
                "### **1. To access the available snippets, type sql in the query editor to open the list:**\r\n",
                "\r\n",
                "\r\n",
                "<img src=\"https://user-images.githubusercontent.com/61198055/75577420-ef1f7380-5a2f-11ea-9cfb-9ee5ece4b0c2.png\" width=\"40%\" height=\"auto\">\r\n",
                "\r\n",
                "### **2. Select the snippet you want to use, and it generates the T-SQL script. For example, select sqlCreateDatabase:**\r\n",
                "\r\n",
                "<img src=\"https://user-images.githubusercontent.com/61198055/75577721-98ff0000-5a30-11ea-8920-07c353f6cc5d.png\" width=\"40%\" height=\"auto\">\r\n",
                "\r\n",
                "### **3. Update the highlighted fields with your specific values. In this case, database name.**\r\n",
                "\r\n",
                "\r\n",
                ""
            ],
            "metadata": {
                "azdata_cell_guid": "3f6afb08-24ad-4e8e-a82a-2781a0126747"
            }
        },
        {
            "cell_type": "markdown",
            "source": [
                " [<Previous](../CH-02/readme.md)   |   [Next>](CH-03-02.ipynb)  "
            ],
            "metadata": {
                "azdata_cell_guid": "8145dbdc-8554-4ef6-ab86-c5842ebcb46e"
            }
        }
    ]
}
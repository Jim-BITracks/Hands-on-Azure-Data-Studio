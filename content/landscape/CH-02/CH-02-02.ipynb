{
    "metadata": {
        "kernelspec": {
            "name": "SQL",
            "display_name": "SQL",
            "language": "sql"
        },
        "language_info": {
            "name": "sql",
            "version": ""
        }
    },
    "nbformat_minor": 2,
    "nbformat": 4,
    "cells": [
        {
            "cell_type": "markdown",
            "source": [
                "## Grouping and Color Coding your Connections\n",
                "\n",
                "[<Back](readme.md)\n",
                "\n",
                "Azure Data Studio allows you to organize your connections into groups which can optionally be ‘color coded’, both on the ‘Side Bar’, and at the top of the tabbed SQL editor windows. You have complete flexibility with grouping your connections, which might be based on:\n",
                "- Server Names\n",
                "- Functional Names (e.g., Dev/Test/Prod)\n",
                "- Physical Locations\n",
                "- Roles (e.g., Admin/Execute/Read Only)\n",
                "\n",
                "To help you get started with creating and organizing connections, please see our YouTube video located at: **https://youtu.be/lJRg4SzmEU8**\n",
                "\n",
                "[Full text available at leanpub.com](https://leanpub.com/hands-on-ads)\n",
                "\n",
                "> No code samples in this section\n",
                ""
            ],
            "metadata": {
                "azdata_cell_guid": "db31f30f-37ac-4741-ae7e-03bbc54d669d"
            }
        },
        {
            "cell_type": "markdown",
            "source": [
                "  [<Previous](CH-02-01.ipynb)  |   [Next>](CH-02-03.ipynb)  "
            ],
            "metadata": {
                "azdata_cell_guid": "55e18432-2bcb-47e2-8dfa-f5c19c96e7c7"
            }
        }
    ]
}
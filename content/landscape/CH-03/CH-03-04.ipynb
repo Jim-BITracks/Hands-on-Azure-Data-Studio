{
    "metadata": {
        "kernelspec": {
            "name": "SQL",
            "display_name": "SQL",
            "language": "sql"
        },
        "language_info": {
            "name": "sql",
            "version": ""
        }
    },
    "nbformat_minor": 2,
    "nbformat": 4,
    "cells": [
        {
            "cell_type": "markdown",
            "source": [
                "# SQL Queries via the Command Terminal\r\n",
                "\r\n",
                "[<Back](readme.md)\r\n",
                "\r\n",
                "In Azure Data Studio, you can open an integrated terminal to perform a quick command-line task. initially starting at the root of your workspace. \r\n",
                "## Opening the terminal window :\r\n",
                "\r\n",
                "* **Use the Ctrl+` keyboard shortcut with the backtick character.**\r\n",
                "\r\n",
                "* **Use the View | Terminal menu command.**\r\n",
                "\r\n",
                "* **From the Command Palette (Ctrl+Shift+P), use the View:Toggle Integrated Terminal command.**\r\n",
                "\r\n",
                "<img src=\"https://user-images.githubusercontent.com/61198055/77676890-52d08a00-6f65-11ea-8dc6-281468283cc1.png\" width=\"55%\" height=\"auto\">\r\n",
                "\r\n",
                "### **This opens terminal window at the bottom, initially starting at the root of your workspace :**\r\n",
                "\r\n",
                "<img src=\"https://user-images.githubusercontent.com/61198055/77677102-9d520680-6f65-11ea-9e2a-5f805f2b65a4.png\" width=\"55%\" height=\"auto\">\r\n",
                "\r\n",
                "*Figure 3-22. ADS Terminal Window* \r\n",
                "\r\n",
                "## Switching the context to PowerShell :\r\n",
                " \r\n",
                " * **Type ‘powershell’ into the Terminal window to get the results :**\r\n",
                "\r\n",
                "<img src=\"https://user-images.githubusercontent.com/61198055/77677786-8fe94c00-6f66-11ea-8856-98becf94e7a6.png\" width=\"50%\" height=\"auto\">\r\n",
                "\r\n",
                "*Figure 3-23. PowerShell Terminal Window*\r\n",
                "\r\n",
                "### **To query your ‘local instance’ of SQL Server, enter the following command into the PowerShell command prompt**\r\n",
                "```Powershell \r\n",
                "Invoke-Sqlcmd -Query \"select * from INFORMATION_SCHEMA.TABLES\" -ServerInstance \"localhost\"\r\n",
                "```\r\n",
                "And hit enter. You should see the SQL query results as follows :\r\n",
                "\r\n",
                "<img src=\"https://user-images.githubusercontent.com/61198055/77678226-359cbb00-6f67-11ea-8feb-8a88add176d6.png\" width=\"50%\" height=\"auto\">\r\n",
                "\r\n",
                "In Powershell, we can export our result set as a CSV file. This can be accomplished by running the following PowerShell script:\r\n",
                "```Powershell\r\n",
                "Invoke-Sqlcmd -Query \"select * from INFORMATION_SCHEMA.TABLES\" -ServerInstance \"localhost\" | export-csv -Delimiter ',' -Path \"tables.csv\" -NoTypeInformation\r\n",
                "```\r\n",
                "When running this PowerShell script in the Terminal, the prior results are now are piped to an Operating System file called ‘tables.csv’. To verify that the file was created, click on the ‘Explorer’ Icon in the ‘Activity Bar’. The file should now be visible in the **Side Bar** :\r\n",
                "\r\n",
                "<img src=\"https://user-images.githubusercontent.com/61198055/77679063-71845000-6f68-11ea-8585-16ce393716cd.png\" width=\"50%\" height=\"auto\">\r\n",
                "\r\n",
                "*Figure 3-24. Exporting a Query using PowerShell*\r\n",
                "\r\n",
                "This is a simple but instructive example of the ‘synthesis’ of traditional SQL queries, with the extended language support built into Azure Data Studio. \r\n",
                "\r\n",
                "### *Note: In **Chapter 15** we will use the new “PowerShell Integrated Console” activated by using the ‘Activity Bar’ PowerShell Icon.*\r\n",
                ""
            ],
            "metadata": {
                "azdata_cell_guid": "9530faca-e6af-4743-a379-43ce14d301e5"
            }
        },
        {
            "cell_type": "markdown",
            "source": [
                "[<Previous](CH-03-03.ipynb)  |   [Next>](../CH-04/readme.md) "
            ],
            "metadata": {
                "azdata_cell_guid": "cf9376cd-e558-4031-80cd-a7a843798cb7"
            }
        }
    ]
}
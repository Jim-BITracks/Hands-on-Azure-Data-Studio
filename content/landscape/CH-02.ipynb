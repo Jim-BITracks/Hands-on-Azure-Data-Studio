{
    "metadata": {
        "kernelspec": {
            "name": "SQL",
            "display_name": "SQL",
            "language": "sql"
        },
        "language_info": {
            "name": "sql",
            "version": ""
        }
    },
    "nbformat_minor": 2,
    "nbformat": 4,
    "cells": [
        {
            "cell_type": "markdown",
            "source": [
                "# Everything Starts with a Connection\r\n",
                "Most of what you do in Azure Data Studio will start with a connection. This ADS experience has some nice surprises compared to its older sibling: SQL Server Management Studio.\r\n",
                "\r\n",
                "1.\tCreating, Using, and Managing Connections\r\n",
                "2.\tGrouping and Color Coding your Connections\r\n",
                "3.\tCentral Management Servers Extension"
            ],
            "metadata": {
                "azdata_cell_guid": "3f6afb08-24ad-4e8e-a82a-2781a0126747"
            }
        },
        {
            "cell_type": "code",
            "source": [
                ""
            ],
            "metadata": {
                "azdata_cell_guid": "fb0685df-9f84-4399-b4b8-a9586f76df81"
            },
            "outputs": [],
            "execution_count": null
        }
    ]
}
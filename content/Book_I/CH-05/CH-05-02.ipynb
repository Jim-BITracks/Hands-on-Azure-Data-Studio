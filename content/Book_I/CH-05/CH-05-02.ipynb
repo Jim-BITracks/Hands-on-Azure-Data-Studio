{
    "metadata": {
        "kernelspec": {
            "name": "powershell",
            "display_name": "PowerShell"
        },
        "language_info": {
            "name": "powershell",
            "codemirror_mode": "shell",
            "mimetype": "text/x-sh",
            "file_extension": ".ps1"
        }
    },
    "nbformat_minor": 2,
    "nbformat": 4,
    "cells": [
        {
            "cell_type": "markdown",
            "source": [
                "# PowerShell Notebook\r\n",
                "## Copy SQL backup files from source to a destination server"
            ],
            "metadata": {
                "azdata_cell_guid": "ddad2a71-f52f-4442-b9e7-d1506ce8843c"
            }
        },
        {
            "cell_type": "code",
            "source": [
                "Copy-Item \"\\\\src_computer_name\\db backup\\*.BAK\" -Destination \"\\\\dst_computer_name\\db backup\"\r\n",
                ""
            ],
            "metadata": {
                "azdata_cell_guid": "683c4ced-b2f0-4aa1-af6e-04df3dbf8144",
                "tags": [
                    "hide_input"
                ]
            },
            "outputs": [],
            "execution_count": null
        }
    ]
}
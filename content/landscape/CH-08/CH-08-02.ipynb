{
    "metadata": {
        "kernelspec": {
            "name": "SQL",
            "display_name": "SQL",
            "language": "sql"
        },
        "language_info": {
            "name": "sql",
            "version": ""
        }
    },
    "nbformat_minor": 2,
    "nbformat": 4,
    "cells": [
        {
            "cell_type": "markdown",
            "source": [
                "# ‘Sand Dance’ for Azure Data Studio\r\n",
                "\r\n",
                "[<Back](readme.md)"
            ],
            "metadata": {
                "azdata_cell_guid": "366eb701-d668-4b44-982a-9792666380e8"
            }
        },
        {
            "cell_type": "markdown",
            "source": [
                "[<Previous](CH-08-01.ipynb)  |  [Next>](CH-08-03.ipynb)"
            ],
            "metadata": {
                "azdata_cell_guid": "7a7202d4-efbc-4558-b79f-cff4c4c47461"
            }
        }
    ]
}
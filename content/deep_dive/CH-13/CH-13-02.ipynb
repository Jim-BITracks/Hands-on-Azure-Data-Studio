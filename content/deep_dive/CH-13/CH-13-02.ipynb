{
    "metadata": {
        "kernelspec": {
            "name": "SQL",
            "display_name": "SQL",
            "language": "sql"
        },
        "language_info": {
            "name": "sql",
            "version": ""
        }
    },
    "nbformat_minor": 2,
    "nbformat": 4,
    "cells": [
        {
            "cell_type": "markdown",
            "source": [
                "# Source Repositories, Cloning and Sharing\r\n",
                "\r\n",
                "[<Back](readme.md)"
            ],
            "metadata": {
                "azdata_cell_guid": "c2b93152-bedf-4e19-ba89-37f8aa15ffdd"
            }
        },
        {
            "cell_type": "markdown",
            "source": [
                "[<Previous](CH-13-01.ipynb)    |   [Next>](CH-13-03.ipynb)"
            ],
            "metadata": {
                "azdata_cell_guid": "fd007550-a0cc-4bb0-bcd5-9ef4884b4e3c"
            }
        }
    ]
}
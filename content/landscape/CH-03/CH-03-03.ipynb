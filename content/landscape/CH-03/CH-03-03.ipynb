{
    "metadata": {
        "kernelspec": {
            "name": "SQL",
            "display_name": "SQL",
            "language": "sql"
        },
        "language_info": {
            "name": "sql",
            "version": ""
        }
    },
    "nbformat_minor": 2,
    "nbformat": 4,
    "cells": [
        {
            "cell_type": "markdown",
            "source": [
                "# Top Down View with Minimap\r\n",
                "\r\n",
                "[<Back](readme.md)\r\n",
                "\r\n",
                "### To be able to view the minimap :\r\n",
                "\r\n",
                "**From the Command Palette (Ctrl+Shift+P), use the View:Toggle Minimap :**\r\n",
                "\r\n",
                "<img src=\"https://user-images.githubusercontent.com/61198055/76795370-6169b500-679f-11ea-8a83-2b10bd0f56ca.png\" width=\"60%\" height=\"auto\">\r\n",
                "\r\n",
                "**The minimap appears on the upper right :**\r\n",
                "\r\n",
                "### It gives a top down view of the code and user's current position in it.\r\n",
                "\r\n",
                "\r\n",
                "<img src=\"https://user-images.githubusercontent.com/61198055/75791901-3f9e1600-5d3b-11ea-9add-e53584731451.png\" width=\"60%\" height=\"auto\">\r\n",
                "\r\n",
                "### Minimaps mark any **syntactical code errors in red**, making it very easy to navigate to the errors and fix them. As in the following example, a missing **FROM** is causing minimap to mark the line red : \r\n",
                "\r\n",
                "<img src=\"https://user-images.githubusercontent.com/61198055/76242204-a96f6180-620c-11ea-9494-a10276c82174.png\" width=\"60%\" height=\"auto\">\r\n",
                "\r\n",
                "### When you select a part of the code, the highlighted area is mirrored in minimap :\r\n",
                "\r\n",
                "<img src=\"https://user-images.githubusercontent.com/61198055/76797769-99272b80-67a4-11ea-8af8-11fc5daf89cb.png\" width=\"50%\" height=\"auto\">\r\n",
                "\r\n",
                "### When a word or phrase is searched, search results are also highlighted on minimap .This makes it easier to make changes in long pieces of code :\r\n",
                "\r\n",
                "<img src=\"https://user-images.githubusercontent.com/61198055/76798415-ebb51780-67a5-11ea-836f-a55e9f668259.png\" width=\"50%\" height=\"auto\">\r\n",
                ""
            ],
            "metadata": {
                "azdata_cell_guid": "7285402d-b31d-4883-9585-7b7da6b006dc"
            }
        },
        {
            "cell_type": "markdown",
            "source": [
                "[<Previous](CH-03-02.ipynb)  |   [Next>](CH-03-04.ipynb) "
            ],
            "metadata": {
                "azdata_cell_guid": "9a4b23cd-e4f3-4242-9399-57df6b76f9a2"
            }
        }
    ]
}
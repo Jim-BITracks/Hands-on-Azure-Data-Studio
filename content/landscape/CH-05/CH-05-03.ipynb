{
    "metadata": {
        "kernelspec": {
            "name": "SQL",
            "display_name": "SQL",
            "language": "sql"
        },
        "language_info": {
            "name": "sql",
            "version": ""
        }
    },
    "nbformat_minor": 2,
    "nbformat": 4,
    "cells": [
        {
            "cell_type": "markdown",
            "source": [
                "# Additional Kernel Options\r\n",
                "\r\n",
                "[<Back](readme.md)"
            ],
            "metadata": {
                "azdata_cell_guid": "8e186801-50e6-41ac-ad82-36cb039c1ac2"
            }
        },
        {
            "cell_type": "markdown",
            "source": [
                "[<Previous](CH-05-02.ipynb)  |   [Next>](CH-05-04.ipynb)"
            ],
            "metadata": {
                "azdata_cell_guid": "0a7d7c07-6f41-48bd-8c31-643fcd97b034"
            }
        }
    ]
}
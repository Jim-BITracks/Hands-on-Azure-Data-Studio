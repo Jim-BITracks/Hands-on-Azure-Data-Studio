{
    "metadata": {
        "kernelspec": {
            "name": "SQL",
            "display_name": "SQL",
            "language": "sql"
        },
        "language_info": {
            "name": "sql",
            "version": ""
        }
    },
    "nbformat_minor": 2,
    "nbformat": 4,
    "cells": [
        {
            "cell_type": "markdown",
            "source": [
                "# Integrating with Custom Forms\r\n",
                "\r\n",
                "[<Back](readme.md)"
            ],
            "metadata": {
                "azdata_cell_guid": "3c8560ff-b566-4602-99db-1450ccdf87a7"
            }
        },
        {
            "cell_type": "markdown",
            "source": [
                " [<Previous](CH-17-04.ipynb)    |   [Next>](CH-17-06.ipynb)"
            ],
            "metadata": {
                "azdata_cell_guid": "812c60a1-8d87-4922-bfaf-437d694a77c0"
            }
        }
    ]
}
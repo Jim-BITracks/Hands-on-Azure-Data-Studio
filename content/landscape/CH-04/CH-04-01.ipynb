{
    "metadata": {
        "kernelspec": {
            "name": "SQL",
            "display_name": "SQL",
            "language": "sql"
        },
        "language_info": {
            "name": "sql",
            "version": ""
        }
    },
    "nbformat_minor": 2,
    "nbformat": 4,
    "cells": [
        {
            "cell_type": "markdown",
            "source": [
                "# Anatomy of the Results Pane\r\n",
                "\r\n",
                "[<Back](readme.md)\r\n",
                "\r\n",
                "With our newly installed car_crash database, we are now set to write SQL queries, and create interesting tabular, as well as visual results. First let’s open a new query from the server dashboard using the car_crash database... [Full text available at leanpub.com](https://leanpub.com/hands-on-ads)\r\n",
                "\r\n",
                "Next enter the query:\r\n",
                "```sql\r\n",
                "select distinct BOROUGH  \r\n",
                "  from edw.D_LOCATION\r\n",
                "```\r\n",
                "\r\n",
                "## Querying for Easy Visuals\r\n",
                "\r\n",
                "We will now extend our query to count the total number of accidents recorded for each borough by using the following query:\r\n",
                "```sql\r\n",
                "select l.BOROUGH\r\n",
                "     , count(*) as ACCIDENTS\r\n",
                "  from edw.D_LOCATION l\r\n",
                "  join edw.F_COLLISIONS c\r\n",
                "    on c.LOCATION_ID = l.LOCATION_ID\r\n",
                " where l.BOROUGH is not null\r\n",
                " group by l.BOROUGH\r\n",
                " ```\r\n",
                " \r\n",
                "## Getting Pixel Perfect\r\n",
                "\r\n",
                "For more control of your visual creation, you can try using the SandDance visualizer. Since we will gain an additional axis using SandDance, we will add the **MONTH_NAME** to our query by joining to the **DATE** dimension. The updated query is as follows:\r\n",
                "```sql\r\n",
                "select l.BOROUGH\r\n",
                "     , d.MONTH_NAME\r\n",
                "     , count(*) as ACCIDENTS\r\n",
                "  from edw.D_LOCATION l\r\n",
                "  join edw.F_COLLISIONS c\r\n",
                "    on c.LOCATION_ID = l.LOCATION_ID\r\n",
                "  join edw.D_DATE d \r\n",
                "    on d.DATE_KEY = c.DATE_KEY\r\n",
                " where l.BOROUGH is not null\r\n",
                " group by l.BOROUGH\r\n",
                "        , d.MONTH_NAME\r\n",
                " ```\r\n",
                "\r\n",
                " \r\n",
                ""
            ],
            "metadata": {
                "azdata_cell_guid": "3f6afb08-24ad-4e8e-a82a-2781a0126747"
            }
        },
        {
            "cell_type": "markdown",
            "source": [
                "[<Previous](../CH-03/readme.md)  | [Next>](CH-04-02.ipynb)  "
            ],
            "metadata": {
                "azdata_cell_guid": "b702650e-3e24-4241-bd28-c9b70156efd2"
            }
        }
    ]
}
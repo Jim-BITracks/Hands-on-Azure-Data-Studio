{
    "metadata": {
        "kernelspec": {
            "name": "SQL",
            "display_name": "SQL",
            "language": "sql"
        },
        "language_info": {
            "name": "sql",
            "version": ""
        }
    },
    "nbformat_minor": 2,
    "nbformat": 4,
    "cells": [
        {
            "cell_type": "markdown",
            "source": [
                "# SQL Queries and your Widgets\r\n",
                "\r\n",
                "[<Back](readme.md)\r\n",
                "\r\n",
                "   Insight widgets are composed of one or two T-SQL queries:\r\n",
                "   * Insight widget query is mandatory, and is the query that returns the data that appears in the widget.\r\n",
                "   * Insight details query is only required if you are creating an insight details page.\r\n",
                "\r\n",
                "  An insight widget query defines a dataset that renders a count, chart, or graph. \r\n",
                "  The basic idea is to write a T-SQL query in a way so it can be used as a dataset of a count, chart, and graph widget.\r\n",
                "\r\n",
                "**View the query plan**\r\n",
                "\r\n",
                "### Step 1 - Right-click on the eltsnap_v2 database and select Manage.\r\n",
                "\r\n",
                "### Step 2 - To view additional information for an insight widget, click the ellipses (...) in the upper right, and select Run Query.\r\n",
                "\r\n",
                "<img src=\"https://user-images.githubusercontent.com/61198055/75276234-c8fd9780-57d3-11ea-8fdb-4ac1650a2de3.png\" width=\"30%\" height=\"auto\">\r\n",
                "\r\n",
                "### Step 3 - Now you should see a new query window with the results.\r\n",
                "\r\n",
                "<img src=\"https://user-images.githubusercontent.com/61198055/75276427-20036c80-57d4-11ea-9ad0-cc44612ecdd2.png\" width=\"30%\" height=\"auto\">\r\n",
                "   \r\n",
                "### Step 4 - Click Explain on the upper right to view the query's execution plan:\r\n",
                "\r\n",
                "<img src=\"https://user-images.githubusercontent.com/61198055/75276886-fe56b500-57d4-11ea-84d1-9455cd1a9d76.png\" width=\"40%\" height=\"auto\">\r\n",
                "\r\n",
                ""
            ],
            "metadata": {
                "azdata_cell_guid": "0d16e8e8-23e5-4797-951d-2b45917ec23a"
            }
        },
        {
            "cell_type": "markdown",
            "source": [
                "[<Previous](CH-10-01.ipynb)    |   [Next>](CH-10-03.ipynb)"
            ],
            "metadata": {
                "azdata_cell_guid": "81a6d1d0-4021-4b7b-a569-ba34859e3377"
            }
        }
    ]
}
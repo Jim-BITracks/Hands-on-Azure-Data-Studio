{
    "metadata": {
        "kernelspec": {
            "name": "SQL",
            "display_name": "SQL",
            "language": "sql"
        },
        "language_info": {
            "name": "sql",
            "version": ""
        }
    },
    "nbformat_minor": 2,
    "nbformat": 4,
    "cells": [
        {
            "cell_type": "markdown",
            "source": [
                "# SQL Editing Reimagined\r\n",
                "\r\n",
                "[<Back](readme.md)\r\n",
                "\r\n",
                "As database professionals, we tend to spend a great deal of time in coding SQL statements. ADS provides a rich environment for this universal database task, encouraging bug-free code, reusability, parametrization, and more.\r\n",
                "\r\n",
                "1.\tEntering Queries - IntelliSense, Snippets and Object Definitions\r\n",
                "2.\tSaving Queries and Snippets\r\n",
                "3.\tTop Down View with Minimap\r\n",
                "4.\tSQL Queries via the Command Terminal"
            ],
            "metadata": {
                "azdata_cell_guid": "3f6afb08-24ad-4e8e-a82a-2781a0126747"
            }
        },
        {
            "cell_type": "markdown",
            "source": [
                "  [<Previous](CH-02/readme.md)  |   [Next>](CH-04.ipynb)  "
            ],
            "metadata": {
                "azdata_cell_guid": "8145dbdc-8554-4ef6-ab86-c5842ebcb46e"
            }
        }
    ]
}
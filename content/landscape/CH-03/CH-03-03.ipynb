{
    "metadata": {
        "kernelspec": {
            "name": "SQL",
            "display_name": "SQL",
            "language": "sql"
        },
        "language_info": {
            "name": "sql",
            "version": ""
        }
    },
    "nbformat_minor": 2,
    "nbformat": 4,
    "cells": [
        {
            "cell_type": "markdown",
            "source": [
                "# Top Down View with Minimap\r\n",
                "\r\n",
                "[<Back](readme.md)\r\n",
                "\r\n",
                "### To be able to view the minimap :\r\n",
                "\r\n",
                "**From the Command Palette (Ctrl+Shift+P), use the View:Toggle Minimap :**\r\n",
                "\r\n",
                "<img src=\"https://user-images.githubusercontent.com/61198055/75694059-ed46f180-5c75-11ea-8f67-ae2740002a91.png\" width=\"30%\" height=\"auto\">\r\n",
                "\r\n",
                "**The minimap appears on the upper right :**\r\n",
                "\r\n",
                "It gives a top down view of the code and user's current position in it.\r\n",
                "\r\n",
                "\r\n",
                "<img src=\"https://user-images.githubusercontent.com/61198055/75696230-42d0cd80-5c79-11ea-82ec-d4a59910dc97.png\" width=\"30%\" height=\"auto\">"
            ],
            "metadata": {
                "azdata_cell_guid": "7285402d-b31d-4883-9585-7b7da6b006dc"
            }
        },
        {
            "cell_type": "markdown",
            "source": [
                "[<Previous](CH-03-02.ipynb)  |   [Next>](CH-03-04.ipynb) "
            ],
            "metadata": {
                "azdata_cell_guid": "9a4b23cd-e4f3-4242-9399-57df6b76f9a2"
            }
        }
    ]
}
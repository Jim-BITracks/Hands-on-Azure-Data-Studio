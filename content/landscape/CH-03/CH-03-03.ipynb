{
    "metadata": {
        "kernelspec": {
            "name": "SQL",
            "display_name": "SQL",
            "language": "sql"
        },
        "language_info": {
            "name": "sql",
            "version": ""
        }
    },
    "nbformat_minor": 2,
    "nbformat": 4,
    "cells": [
        {
            "cell_type": "markdown",
            "source": [
                "# Top Down View with Minimap\r\n",
                "\r\n",
                "[<Back](readme.md)\r\n",
                "\r\n",
                "Life at times can be detailed and complex. The same can be true of ‘SQL code’, or for that matter ‘code’ written in any language. Most database developers have written, reviewed, or maintained SQL code that exceeds hundreds, or perhaps even a thousand lines. While ‘big code’ can be intimidating, ADS has a *Minimap* feature that can at least ease the pain of working with large SQL scripts. [Full text available at leanpub.com](https://leanpub.com/hands-on-ads)\r\n",
                "\r\n",
                "> No code samples in this section\r\n",
                ""
            ],
            "metadata": {
                "azdata_cell_guid": "7285402d-b31d-4883-9585-7b7da6b006dc"
            }
        },
        {
            "cell_type": "markdown",
            "source": [
                "[<Previous](CH-03-02.ipynb)  |   [Next>](CH-03-04.ipynb) "
            ],
            "metadata": {
                "azdata_cell_guid": "9a4b23cd-e4f3-4242-9399-57df6b76f9a2"
            }
        }
    ]
}
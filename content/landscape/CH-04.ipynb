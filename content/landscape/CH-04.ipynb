{
    "metadata": {
        "kernelspec": {
            "name": "SQL",
            "display_name": "SQL",
            "language": "sql"
        },
        "language_info": {
            "name": "sql",
            "version": ""
        }
    },
    "nbformat_minor": 2,
    "nbformat": 4,
    "cells": [
        {
            "cell_type": "markdown",
            "source": [
                "# Visualizing and Exporting Your Queries\r\n",
                "\r\n",
                "[<Back](C:\\ADS\\Notebooks\\Practical_ADS\\content\\landscape\\readme.md)\r\n",
                "\r\n",
                "How far is a visualization away from the results of your queries? The refreshing answer in ADS is just ‘one click’. How about rendering as JSON, XML, or CSV you ask? About the same.\r\n",
                "\r\n",
                "1.\tAnatomy of the Results Pane\r\n",
                "2.\tQuerying for Easy Visuals\r\n",
                "3.\tGetting Pixel Perfect\r\n",
                "4.\tSharing your Results "
            ],
            "metadata": {
                "azdata_cell_guid": "3f6afb08-24ad-4e8e-a82a-2781a0126747"
            }
        },
        {
            "cell_type": "markdown",
            "source": [
                "  [<Previous](C:\\ADS\\Notebooks\\Practical_ADS\\content\\landscape\\CH-03.ipynb)   |   [Next>](C:\\ADS\\Notebooks\\Practical_ADS\\content\\landscape\\CH-05.ipynb)  "
            ],
            "metadata": {
                "azdata_cell_guid": "b702650e-3e24-4241-bd28-c9b70156efd2"
            }
        }
    ]
}
{
    "metadata": {
        "kernelspec": {
            "name": "SQL",
            "display_name": "SQL",
            "language": "sql"
        },
        "language_info": {
            "name": "sql",
            "version": ""
        }
    },
    "nbformat_minor": 2,
    "nbformat": 4,
    "cells": [
        {
            "cell_type": "markdown",
            "source": [
                "# Using Python to Extend Your Platform Reach\r\n",
                "Up to this point we have limited our database reach to SQL Server and PostgreSQL. But what about other relational databases? In this chapter we will demonstrate how ADS can be used to interact with the ‘snowflake’ Data Warehouse platform…\r\n",
                "1.\tThe snowflake CLI\r\n",
                "2.\tPython and the first-class snowflake connector\r\n",
                "3.\tLoading and Querying snowflake"
            ],
            "metadata": {
                "azdata_cell_guid": "2ff45897-6649-453f-bb4d-b97febb9879c"
            }
        },
        {
            "cell_type": "markdown",
            "source": [
                " [<Previous](C:\\ADS\\Notebooks\\Practical_ADS\\content\\deep_dive\\CH-13.ipynb)    |   [Next>](C:\\ADS\\Notebooks\\Practical_ADS\\content\\deep_dive\\CH-15.ipynb)"
            ],
            "metadata": {
                "azdata_cell_guid": "20083a13-66dc-4da5-a452-5301e426509b"
            }
        }
    ]
}
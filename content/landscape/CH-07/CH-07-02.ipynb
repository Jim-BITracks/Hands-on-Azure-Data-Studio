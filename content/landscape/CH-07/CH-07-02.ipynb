{
    "metadata": {
        "kernelspec": {
            "name": "SQL",
            "display_name": "SQL",
            "language": "sql"
        },
        "language_info": {
            "name": "sql",
            "version": ""
        }
    },
    "nbformat_minor": 2,
    "nbformat": 4,
    "cells": [
        {
            "cell_type": "markdown",
            "source": [
                "# What are the Options with ADS Source Control?\r\n",
                "\r\n",
                "[<Back](readme.md)"
            ],
            "metadata": {
                "azdata_cell_guid": "3c49ab89-778d-4db3-ad2b-c679e7076625"
            }
        },
        {
            "cell_type": "markdown",
            "source": [
                "[<Previous](CH-07-01.ipynb)  |   [Next>](CH-07-03.ipynb)"
            ],
            "metadata": {
                "azdata_cell_guid": "0067041a-9b18-4a44-bc44-61def8ef08b4"
            }
        }
    ]
}
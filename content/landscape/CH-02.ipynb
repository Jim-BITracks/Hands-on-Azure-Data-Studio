{
    "metadata": {
        "kernelspec": {
            "name": "SQL",
            "display_name": "SQL",
            "language": "sql"
        },
        "language_info": {
            "name": "sql",
            "version": ""
        }
    },
    "nbformat_minor": 2,
    "nbformat": 4,
    "cells": [
        {
            "cell_type": "markdown",
            "source": [
                "# Everything Starts with a Connection\r\n",
                "\r\n",
                "[<Back](.\\readme.md)\r\n",
                "\r\n",
                "Most of what you do in Azure Data Studio will start with a connection. This ADS experience has some nice surprises compared to its older sibling: SQL Server Management Studio.\r\n",
                "\r\n",
                "1.\tCreating, Using, and Managing Connections\r\n",
                "2.\tGrouping and Color Coding your Connections\r\n",
                "3.\tCentral Management Servers Extension"
            ],
            "metadata": {
                "azdata_cell_guid": "3f6afb08-24ad-4e8e-a82a-2781a0126747"
            }
        },
        {
            "cell_type": "markdown",
            "source": [
                "  [<Previous](C:\\ADS\\Notebooks\\Practical_ADS\\content\\landscape\\CH-01.ipynb)  |   [Next>](C:\\ADS\\Notebooks\\Practical_ADS\\content\\landscape\\CH-03.ipynb)  "
            ],
            "metadata": {
                "azdata_cell_guid": "87a59e60-633b-4f5b-b6df-73b96a4395aa"
            }
        },
        {
            "cell_type": "code",
            "source": [
                ""
            ],
            "metadata": {
                "azdata_cell_guid": "fb0685df-9f84-4399-b4b8-a9586f76df81"
            },
            "outputs": [],
            "execution_count": null
        }
    ]
}
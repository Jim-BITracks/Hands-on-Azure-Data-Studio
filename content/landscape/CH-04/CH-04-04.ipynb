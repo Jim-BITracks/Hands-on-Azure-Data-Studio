{
    "metadata": {
        "kernelspec": {
            "name": "SQL",
            "display_name": "SQL",
            "language": "sql"
        },
        "language_info": {
            "name": "sql",
            "version": ""
        }
    },
    "nbformat_minor": 2,
    "nbformat": 4,
    "cells": [
        {
            "cell_type": "markdown",
            "source": [
                "# Sharing your Results\r\n",
                "\r\n",
                "[<Back](readme.md)\r\n",
                "\r\n",
                "### Query results can be shared with both Azure Data Studio users and non-users.  \r\n",
                "Results can be Saved As CSV, Excel, JSON or XML files using the options on the right :\r\n",
                "\r\n",
                "<img src=\"https://user-images.githubusercontent.com/61198055/76890222-54130000-685d-11ea-8630-d087b57c3144.png\" width=\"60%\" height=\"auto\">\r\n",
                "\r\n",
                "**Save As** opens up window to save the results as **.csv, .xlsx, .json or .xml file** depending upon what option we chose. The saved file can be shared with non-users of Azure Data Studio.\r\n",
                "\r\n",
                "For people who use Azure Data Studio, results nd charts can be shared via Dashboard.\r\n",
                "For more details on how to customize the Dashboard :  \r\n",
                " [**Go To Dashboards**](../../deep_dive/CH-10/readme.md)"
            ],
            "metadata": {
                "azdata_cell_guid": "8bb17ba5-60bc-4e26-a691-5895ac733bd7"
            }
        },
        {
            "cell_type": "markdown",
            "source": [
                "[<Previous](CH-04-03.ipynb)  | [Next>](../CH-05/readme.md)"
            ],
            "metadata": {
                "azdata_cell_guid": "25ad4c43-ab94-4e85-92f3-7a96b2260699"
            }
        }
    ]
}
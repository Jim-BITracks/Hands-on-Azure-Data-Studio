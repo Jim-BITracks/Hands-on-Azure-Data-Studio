{
    "metadata": {
        "kernelspec": {
            "name": "SQL",
            "display_name": "SQL",
            "language": "sql"
        },
        "language_info": {
            "name": "sql",
            "version": ""
        }
    },
    "nbformat_minor": 2,
    "nbformat": 4,
    "cells": [
        {
            "cell_type": "markdown",
            "source": [
                "# Getting Pixel Perfect\r\n",
                "\r\n",
                "[<Back](readme.md)"
            ],
            "metadata": {
                "azdata_cell_guid": "129d0547-88fa-492c-ae93-98adf50488f1"
            }
        },
        {
            "cell_type": "markdown",
            "source": [
                "[<Previous](CH-04-02.ipynb)  | [Next>](CH-04-04.ipynb)"
            ],
            "metadata": {
                "azdata_cell_guid": "299055dd-7f8d-4fe8-9890-f35bdd7b34b8"
            }
        }
    ]
}
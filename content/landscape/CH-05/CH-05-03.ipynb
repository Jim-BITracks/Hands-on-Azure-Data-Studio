{
    "metadata": {
        "kernelspec": {
            "name": "SQL",
            "display_name": "SQL",
            "language": "sql"
        },
        "language_info": {
            "name": "sql",
            "version": ""
        }
    },
    "nbformat_minor": 2,
    "nbformat": 4,
    "cells": [
        {
            "cell_type": "markdown",
            "source": [
                "# Additional Kernel Options\r\n",
                "\r\n",
                "[<Back](readme.md)\r\n",
                "\r\n",
                "### Different Kernel options available n Azure Data Studio:\r\n",
                "\r\n",
                "<img src=\"https://user-images.githubusercontent.com/61198055/75806496-bfcf7600-5d51-11ea-9b3a-a8718762b0f0.png\" width=\"60%\">\r\n",
                "\r\n",
                "+ SQL Kernel:\tWrite SQL Code targeted at your relational database.\r\n",
                "+ PySpark3 and PySpark Kernel:\tWrite Python code using Spark compute from the cluster.\r\n",
                "+ Spark Kernel:\t Write Scala and R code using Spark compute from the cluster.\r\n",
                "+ Python Kernel:\tWrite Python code for local development.\r\n",
                "+ PowerShell:\r\n",
                "\r\n",
                ""
            ],
            "metadata": {
                "azdata_cell_guid": "8e186801-50e6-41ac-ad82-36cb039c1ac2"
            }
        },
        {
            "cell_type": "markdown",
            "source": [
                "[<Previous](CH-05-02.ipynb)  |   [Next>](CH-05-04.ipynb)"
            ],
            "metadata": {
                "azdata_cell_guid": "0a7d7c07-6f41-48bd-8c31-643fcd97b034"
            }
        }
    ]
}
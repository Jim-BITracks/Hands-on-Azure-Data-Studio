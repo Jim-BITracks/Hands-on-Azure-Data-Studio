{
    "metadata": {
        "kernelspec": {
            "name": "SQL",
            "display_name": "SQL",
            "language": "sql"
        },
        "language_info": {
            "name": "sql",
            "version": ""
        }
    },
    "nbformat_minor": 2,
    "nbformat": 4,
    "cells": [
        {
            "cell_type": "markdown",
            "source": [
                "# Loading and Querying snowflake\r\n",
                "\r\n",
                "[<Back](readme.md)"
            ],
            "metadata": {
                "azdata_cell_guid": "1fe43b5d-704a-4962-91ee-4b22d2d922e6"
            }
        },
        {
            "cell_type": "markdown",
            "source": [
                "[<Previous](CH-14-02.ipynb)    |   [Next>](../CH-15/readme.md)"
            ],
            "metadata": {
                "azdata_cell_guid": "6482aa53-e076-428a-940c-585560c466cc"
            }
        }
    ]
}
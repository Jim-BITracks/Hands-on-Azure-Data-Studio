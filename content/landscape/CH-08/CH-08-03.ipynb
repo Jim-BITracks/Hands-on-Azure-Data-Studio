{
    "metadata": {
        "kernelspec": {
            "name": "SQL",
            "display_name": "SQL",
            "language": "sql"
        },
        "language_info": {
            "name": "sql",
            "version": ""
        }
    },
    "nbformat_minor": 2,
    "nbformat": 4,
    "cells": [
        {
            "cell_type": "markdown",
            "source": [
                "# SQL Server Schema Compare\r\n",
                "\r\n",
                "[<Back](readme.md)\r\n",
                "\r\n",
                "The Schema Compare extension provides an easy-to-use experience to compare two database definitions and apply the differences from the source to the target.  \r\n",
                "It simplifies the process of comparing databases and gives you full control when synchronizing them — you can selectively filter specific differences and categories of differences before applying the changes. The Schema Compare extension is a reliable tool that will save you time and code.\r\n",
                "\r\n",
                "## Installing the Extension\r\n",
                "1. Select the **Extensions** Icon to view the available extensions.  \r\n",
                "2. Search for the **Schema Compare extension** and select it to view its details. Click **Install** to add the extension.  \r\n",
                "3. Once installed, **Reload** to enable the extension in Azure Data Studio (only required when installing for the first time).\r\n",
                "\r\n",
                "## Launching a Schema Compare\r\n",
                "**1. To open the Schema Compare dialog, right-click a database in the Object Explorer and click Schema Compare. The database you select will be set as the Source database in the comparison.**  \r\n",
                "  The user can also launch the schema compare dialog from the command palette (Ctrl+Shift+P) by searching for Schema Compare\r\n",
                "\r\n",
                "   <img src=\"https://user-images.githubusercontent.com/61198055/75709172-24c29780-5c90-11ea-9f95-da3aaccdc217.png\" width=\"15%\" height=\"auto\">\r\n",
                "\r\n",
                "**2. Select one of the ellipses (...) to change the Source and Target of your Schema Compare and click OK.** \r\n",
                "\r\n",
                "<img src=\"https://user-images.githubusercontent.com/61198055/75709850-761f5680-5c91-11ea-8b0e-15e4a7223a59.png\" width=\"40%\" height=\"auto\">\r\n",
                "  \r\n",
                "**3. Customize your comparison, click the Options button in the toolbar.**\r\n",
                "\r\n",
                "<img src=\"https://user-images.githubusercontent.com/61198055/75710196-183f3e80-5c92-11ea-92a7-f9203b16b289.png\" width=\"45%\" height=\"auto\">\r\n",
                "\r\n",
                "**4. Click Compare to view the results of the comparison.**  \r\n",
                "When the comparison is complete, the structural differences between the project and the database appear in the Results pane in the upper part of the window. All the differences are grouped by action (such as Delete, Change, or Add). The Results pane displays a row for each database object that differs between the database definitions. Each row identifies the object in the source or target schema (or both) and the action that will be taken on the target schema to make the target object the same as the source object.\r\n",
                "\r\n",
                "<img src=\"https://user-images.githubusercontent.com/61198055/75710773-1a55cd00-5c93-11ea-8f43-140648333200.png\" width=\"50%\" height=\"auto\">\r\n",
                "\r\n",
                "**5. Update the schema of the target**  \r\n",
                " You can update the target directly by clicking the **Update** button on the toolbar for the Schema Compare window if the target is a database or project, or you can generate an update script by clicking on the **Generate Script** button if the target is a database or a database file. By default all differences are included in the scope of the Update Target action. You can exclude differences that you do not want to synchronize. To do so, uncheck the Action column in the center of each row.\r\n",
                "\r\n",
                ""
            ],
            "metadata": {
                "azdata_cell_guid": "3a425382-0ae1-47c0-bf78-b5e7c29c391d"
            }
        },
        {
            "cell_type": "markdown",
            "source": [
                "[<Previous](CH-08-02.ipynb)  |  [Next>](CH-08-04.ipynb)"
            ],
            "metadata": {
                "azdata_cell_guid": "1356144a-d0a5-421a-b84c-dffc04e6e771"
            }
        }
    ]
}
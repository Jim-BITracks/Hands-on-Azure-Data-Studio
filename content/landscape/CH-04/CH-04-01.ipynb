{
    "metadata": {
        "kernelspec": {
            "name": "SQL",
            "display_name": "SQL",
            "language": "sql"
        },
        "language_info": {
            "name": "sql",
            "version": ""
        }
    },
    "nbformat_minor": 2,
    "nbformat": 4,
    "cells": [
        {
            "cell_type": "markdown",
            "source": [
                "# Anatomy of the Results Pane\r\n",
                "\r\n",
                "[<Back](readme.md)\r\n",
                "\r\n",
                "Run your Query and view the Result :\r\n",
                "   * To open a new editor, press **Ctrl+N** or **File Menu->New Query**.\r\n",
                "\r\n",
                "   <img src=\"https://user-images.githubusercontent.com/61198055/76886778-a51ff580-6857-11ea-89ba-b3bb90388994.png\" width=\"60%\" height=\"auto\">\r\n",
                "   * **Connect** to database, in our case, eltsnap_v2.\r\n",
                "   * Type your query into the query editor:\r\n",
                "\r\n",
                "    ```sql\r\n",
                "    SELECT p.project_name\r\n",
                "        , COUNT(package_name) AS package_count\r\n",
                "    FROM elt.project_package pp\r\n",
                "    JOIN elt.project p\r\n",
                "        ON p.project_id = pp.project_id\r\n",
                "    GROUP BY p.project_name\r\n",
                "    ```\r\n",
                "\r\n",
                "* To execute the query, press **F5** or select the **Run** button, the **Results** pane appears :\r\n",
                "\r\n",
                " <img src=\"https://user-images.githubusercontent.com/61198055/76888030-8ae71700-6859-11ea-9c4e-d588248236ad.png\" width=\"70%\" height=\"auto\">\r\n",
                "\r\n",
                "* The query results pane has **Results** tab and Messages tab :\r\n",
                "\r\n",
                " <img src=\"https://user-images.githubusercontent.com/61198055/76888322-15c81180-685a-11ea-8fa6-bfed2e948106.png\" width=\"70%\" height=\"auto\">  \r\n",
                "* **Messages** tab shows success or error messages, number of table rows affected and the execution time for the query :\r\n",
                "\r\n",
                " <img src=\"https://user-images.githubusercontent.com/61198055/76888636-a30b6600-685a-11ea-9d14-8009867b4a98.png\" width=\"70%\" height=\"auto\">\r\n",
                "\r\n",
                "### The other options in the Results pane are : \r\n",
                "+ Save As CSV\r\n",
                "+ Save As Excel\r\n",
                "+ Save As JSON\r\n",
                "+ Save As XML\r\n",
                "+ Chart\r\n",
                "+ Visualizer\r\n",
                "\r\n",
                " <img src=\"https://user-images.githubusercontent.com/61198055/76889566-32654900-685c-11ea-894f-911922c79188.png\" width=\"70%\" height=\"auto\">"
            ],
            "metadata": {
                "azdata_cell_guid": "3f6afb08-24ad-4e8e-a82a-2781a0126747"
            }
        },
        {
            "cell_type": "markdown",
            "source": [
                "[<Previous](../CH-03/readme.md)  | [Next>](CH-04-02.ipynb)  "
            ],
            "metadata": {
                "azdata_cell_guid": "b702650e-3e24-4241-bd28-c9b70156efd2"
            }
        }
    ]
}
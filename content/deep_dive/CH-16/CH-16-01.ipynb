{
    "metadata": {
        "kernelspec": {
            "name": "SQL",
            "display_name": "SQL",
            "language": "sql"
        },
        "language_info": {
            "name": "sql",
            "version": ""
        }
    },
    "nbformat_minor": 2,
    "nbformat": 4,
    "cells": [
        {
            "cell_type": "markdown",
            "source": [
                "# Installing Prerequisites - Node.js and Visual Studio Code\r\n",
                "\r\n",
                "[<Back](readme.md)\r\n",
                ""
            ],
            "metadata": {
                "azdata_cell_guid": "2ff45897-6649-453f-bb4d-b97febb9879c"
            }
        },
        {
            "cell_type": "markdown",
            "source": [
                " [<Previous](../CH-15/readme.md)    |   [Next>](CH-16-02.ipynb)"
            ],
            "metadata": {
                "azdata_cell_guid": "13e13eb8-0c5a-41f7-b0b7-ee8eeb353de1"
            }
        }
    ]
}
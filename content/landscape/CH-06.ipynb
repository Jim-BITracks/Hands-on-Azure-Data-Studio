{
    "metadata": {
        "kernelspec": {
            "name": "SQL",
            "display_name": "SQL",
            "language": "sql"
        },
        "language_info": {
            "name": "sql",
            "version": ""
        }
    },
    "nbformat_minor": 2,
    "nbformat": 4,
    "cells": [
        {
            "cell_type": "markdown",
            "source": [
                "# Reaching Beyond SQL with PowerShell and Python\r\n",
                "Not long ago you needed to use 2 or more applications when moshing your SQL code with languages such as Python or PowerShell. The user experience in ADS fuses this development paradigm into a single platform, leading to some surprising innovation, especially when developing data centric applications…\r\n",
                "1.\tA New Home for PowerShell\r\n",
                "2.\tContributions from the Community – PowerShell’s dbatools\r\n",
                "3.\tPython as your Portal to More Databases\r\n",
                "4.\tPython and Machine Learning"
            ],
            "metadata": {
                "azdata_cell_guid": "3f6afb08-24ad-4e8e-a82a-2781a0126747"
            }
        },
        {
            "cell_type": "code",
            "source": [
                ""
            ],
            "metadata": {
                "azdata_cell_guid": "fb0685df-9f84-4399-b4b8-a9586f76df81"
            },
            "outputs": [],
            "execution_count": null
        }
    ]
}
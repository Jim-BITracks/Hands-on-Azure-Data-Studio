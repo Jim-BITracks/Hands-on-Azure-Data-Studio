{
    "metadata": {
        "kernelspec": {
            "name": "SQL",
            "display_name": "SQL",
            "language": "sql"
        },
        "language_info": {
            "name": "sql",
            "version": ""
        }
    },
    "nbformat_minor": 2,
    "nbformat": 4,
    "cells": [
        {
            "cell_type": "markdown",
            "source": [
                "# Getting connected in Azure Data Factory\r\n",
                "\r\n",
                "[<Back](readme.md)"
            ],
            "metadata": {
                "azdata_cell_guid": "39dddaf2-b173-47bf-a3bc-e7ece7519005"
            }
        },
        {
            "cell_type": "markdown",
            "source": [
                "[<Previous](CH-15-01.ipynb)    |   [Next>](CH-15-03.ipynb)"
            ],
            "metadata": {
                "azdata_cell_guid": "51f14e7b-9c53-454e-9d22-997cd68cac76"
            }
        }
    ]
}
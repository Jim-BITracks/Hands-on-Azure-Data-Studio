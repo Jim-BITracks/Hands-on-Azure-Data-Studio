{
    "metadata": {
        "kernelspec": {
            "name": "SQL",
            "display_name": "SQL",
            "language": "sql"
        },
        "language_info": {
            "name": "sql",
            "version": ""
        }
    },
    "nbformat_minor": 2,
    "nbformat": 4,
    "cells": [
        {
            "cell_type": "markdown",
            "source": [
                "# Source Control by Design\r\n",
                "\r\n",
                "[<Back](C:\\ADS\\Notebooks\\Practical_ADS\\content\\landscape\\readme.md)\r\n",
                "\r\n",
                "Source Control is an indispensable capability, and would like to be your friend, but all too often obstructs developers, creating cryptic fails, with cries of anguish, where only a mystic can help. With Microsoft’s acquisition of GitHub, and seamless integration of Git in ADS, Source Control is friendly, protective, and highly functional…\r\n",
                "1.\tWhat is Considered ‘Source’ Code?\r\n",
                "2.\tWhat are the Options with ADS Source Control?\r\n",
                "3.\tConfiguring your Machine for Git"
            ],
            "metadata": {
                "azdata_cell_guid": "3f6afb08-24ad-4e8e-a82a-2781a0126747"
            }
        },
        {
            "cell_type": "markdown",
            "source": [
                "  [<Previous](C:\\ADS\\Notebooks\\Practical_ADS\\content\\landscape\\CH-06.ipynb)  |   [Next>](C:\\ADS\\Notebooks\\Practical_ADS\\content\\landscape\\CH-08.ipynb)  "
            ],
            "metadata": {
                "azdata_cell_guid": "49e453ae-ac83-4ade-905a-bef9870af74b"
            }
        },
        {
            "cell_type": "code",
            "source": [
                ""
            ],
            "metadata": {
                "azdata_cell_guid": "fb0685df-9f84-4399-b4b8-a9586f76df81"
            },
            "outputs": [],
            "execution_count": null
        }
    ]
}
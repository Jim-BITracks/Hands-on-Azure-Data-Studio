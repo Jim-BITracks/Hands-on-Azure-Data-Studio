{
    "metadata": {
        "kernelspec": {
            "name": "SQL",
            "display_name": "SQL",
            "language": "sql"
        },
        "language_info": {
            "name": "sql",
            "version": ""
        }
    },
    "nbformat_minor": 2,
    "nbformat": 4,
    "cells": [
        {
            "cell_type": "markdown",
            "source": [
                "\r\n",
                "\r\n",
                "\r\n",
                "\r\n",
                "# Creating, Using, and Managing Connections\r\n",
                "\r\n",
                "[<Back](readme.md)\r\n",
                "\r\n",
                "## Step 1 - Start Azure Data Studio\r\n",
                "\r\n",
                "> The first time you run Azure Data Studio the Welcome page should open. If you don't see the Welcome page, select Help > Welcome.  Select New Connection to open the Connection pane:\r\n",
                "\r\n",
                "<img src=\"https://user-images.githubusercontent.com/61198055/75061668-2ed5e080-54af-11ea-89f9-5e6b095eda73.png\" width=\"50%\" height=\"auto\">\r\n",
                "\r\n",
                "## Step 2. Fill in the fields as follows:\r\n",
                "\r\n",
                " * Server Name: Enter server name here. For example, localhost.\r\n",
                " * Authentication Type: SQL Login\r\n",
                " * User name: User name for the SQL Server\r\n",
                " * Password: Password for the SQL Server\r\n",
                " * Database Name: Select your database name\r\n",
                " * Server Group: \\<Default>\r\n",
                "\r\n",
                "<img src=\"https://user-images.githubusercontent.com/61198055/75062556-04852280-54b1-11ea-9e5e-45f80ea175cc.png\" width=\"50%\" height=\"auto\">\r\n",
                "\r\n",
                "## Step 3. You should see your server connected. You can expand the tables in your server by clicking on the drop down in your left pane.\r\n",
                "\r\n",
                "\r\n",
                ""
            ],
            "metadata": {
                "azdata_cell_guid": "3f6afb08-24ad-4e8e-a82a-2781a0126747"
            }
        },
        {
            "cell_type": "markdown",
            "source": [
                "[<Previous](../CH-01/readme.md)  | [Next>](CH-02-02.ipynb)  "
            ],
            "metadata": {
                "azdata_cell_guid": "87a59e60-633b-4f5b-b6df-73b96a4395aa"
            }
        }
    ]
}
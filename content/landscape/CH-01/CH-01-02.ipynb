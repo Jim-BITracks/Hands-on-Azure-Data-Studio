{
    "metadata": {
        "kernelspec": {
            "name": "SQL",
            "display_name": "SQL",
            "language": "sql"
        },
        "language_info": {
            "name": "sql",
            "version": ""
        }
    },
    "nbformat_minor": 2,
    "nbformat": 4,
    "cells": [
        {
            "cell_type": "markdown",
            "source": [
                "# The new options provided by “Cross-Platform” computing\r\n",
                "\r\n",
                "[<Back](readme.md)\r\n",
                "\r\n",
                "The see-saw battle for computer and software dominance between Microsoft and Apple, and by extension between Windows and macOS, while still on-going, will perhaps end in a whimper, not a bang. This is because these behemoths, and the growing ‘platform agnostic’ cloud computing options are making the reminiscent *\"I’m a PC, I’m a Mac\"* choice less relevant. Add to this the increasing popularity of Linux, which is also free and open source (anyone see a pattern?) and you have several platform options for running Azure Data Studio. [Full text available at leanpub.com](https://leanpub.com/hands-on-ads)\r\n",
                "\r\n",
                "> No code samples in this section\r\n",
                ""
            ],
            "metadata": {
                "azdata_cell_guid": "e3008f8b-9372-47a5-9494-f97e6162cf99"
            }
        },
        {
            "cell_type": "markdown",
            "source": [
                "[<Previous](CH-01-01.ipynb)  |   [Next>](CH-01-03.ipynb)"
            ],
            "metadata": {
                "azdata_cell_guid": "4264eac0-e645-4ec6-a505-f46f71cf04dc"
            }
        }
    ]
}
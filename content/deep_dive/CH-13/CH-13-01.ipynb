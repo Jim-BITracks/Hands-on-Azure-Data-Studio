{
    "metadata": {
        "kernelspec": {
            "name": "SQL",
            "display_name": "SQL",
            "language": "sql"
        },
        "language_info": {
            "name": "sql",
            "version": ""
        }
    },
    "nbformat_minor": 2,
    "nbformat": 4,
    "cells": [
        {
            "cell_type": "markdown",
            "source": [
                "# Start with a GitHub account\r\n",
                "\r\n",
                "[<Back](readme.md)\r\n",
                "\r\n",
                ""
            ],
            "metadata": {
                "azdata_cell_guid": "2ff45897-6649-453f-bb4d-b97febb9879c"
            }
        },
        {
            "cell_type": "markdown",
            "source": [
                " [<Previous](../CH-12/readme.md)    |   [Next>](CH-13-02.ipynb)"
            ],
            "metadata": {
                "azdata_cell_guid": "373dcbdb-388e-4552-9a5e-54f2a2c28b18"
            }
        }
    ]
}
{
    "metadata": {
        "kernelspec": {
            "name": "SQL",
            "display_name": "SQL",
            "language": "sql"
        },
        "language_info": {
            "name": "sql",
            "version": ""
        }
    },
    "nbformat_minor": 2,
    "nbformat": 4,
    "cells": [
        {
            "cell_type": "markdown",
            "source": [
                "# Application Integration with ADS\r\n",
                "This section will be the deepest of our deep dives. We set out to try, discover, learn, apply, and then rinse/repeat. Here is what we have learned so far about Azure Data Studio in the real world of applications.\r\n",
                "Chapter 17: Application Integration with ADS (25 pages)\r\n",
                "Azure Data Studio provides a revolutionary shift to how you interact with databases; but what about your database applications? After all, most data are entered, processed, and reported/visualized via software applications, whether purchased separately or developed in-house.\r\n",
                "1.\tIntroduction to the Application\r\n",
                "2.\tThe Anatomy of an ADS Extension\r\n",
                "3.\tRedefining Agile\r\n",
                "4.\tLeveraging all the SQL Editor Features\r\n",
                "5.\tIntegrating with Custom Forms\r\n",
                "6.\tPossibilities when using the Integrated Terminal"
            ],
            "metadata": {
                "azdata_cell_guid": "3f6afb08-24ad-4e8e-a82a-2781a0126747"
            }
        },
        {
            "cell_type": "markdown",
            "source": [
                " [<Previous](C:\\ADS\\Notebooks\\Practical_ADS\\content\\deep_dive\\CH-16.ipynb)"
            ],
            "metadata": {
                "azdata_cell_guid": "02094b26-1c1a-4303-9793-cc376c4012cc"
            }
        },
        {
            "cell_type": "code",
            "source": [
                ""
            ],
            "metadata": {
                "azdata_cell_guid": "fb0685df-9f84-4399-b4b8-a9586f76df81"
            },
            "outputs": [],
            "execution_count": null
        }
    ]
}
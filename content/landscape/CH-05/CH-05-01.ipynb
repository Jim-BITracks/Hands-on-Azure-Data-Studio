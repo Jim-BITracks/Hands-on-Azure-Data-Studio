{
    "metadata": {
        "kernelspec": {
            "name": "SQL",
            "display_name": "SQL",
            "language": "sql"
        },
        "language_info": {
            "name": "sql",
            "version": ""
        }
    },
    "nbformat_minor": 2,
    "nbformat": 4,
    "cells": [
        {
            "cell_type": "markdown",
            "source": [
                "# Notebook Building Blocks\r\n",
                "\r\n",
                "[<Back](readme.md)\r\n",
                "\r\n",
                ""
            ],
            "metadata": {
                "azdata_cell_guid": "3f6afb08-24ad-4e8e-a82a-2781a0126747"
            }
        },
        {
            "cell_type": "markdown",
            "source": [
                "[![Video Link](http://img.youtube.com/vi/4eT8JZxVh3o.jpg)](https://www.youtube.com/watch?v=4eT8JZxVh3o \"Link to Azure Data Studio - Notebooks Video\")  "
            ],
            "metadata": {
                "azdata_cell_guid": "9c9b705c-b101-48fd-8d34-17b26b055dd9"
            }
        },
        {
            "cell_type": "markdown",
            "source": [
                "  [<Previous](../CH-04/readme.md)  |   [Next>](CH-05-02.ipynb)  "
            ],
            "metadata": {
                "azdata_cell_guid": "7966e233-4c66-446e-9415-fb01a82fd48d"
            }
        },
        {
            "cell_type": "code",
            "source": [
                ""
            ],
            "metadata": {
                "azdata_cell_guid": "fb0685df-9f84-4399-b4b8-a9586f76df81"
            },
            "outputs": [],
            "execution_count": null
        }
    ]
}
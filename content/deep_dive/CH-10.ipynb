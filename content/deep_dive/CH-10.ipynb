{
    "metadata": {
        "kernelspec": {
            "name": "SQL",
            "display_name": "SQL",
            "language": "sql"
        },
        "language_info": {
            "name": "sql",
            "version": ""
        }
    },
    "nbformat_minor": 2,
    "nbformat": 4,
    "cells": [
        {
            "cell_type": "markdown",
            "source": [
                "# Customizing your Dashboards\r\n",
                "\r\n",
                "[<Back](readme.md)\r\n",
                "\r\n",
                "Everyone loves dashboards. They provide compact, strategic visuals which can be informative, reassuring, and even actionable. However, despite their popularity, dashboards and visualizations can be difficult stand-up, and keep relevant. Azure Data Studio is here to help…\r\n",
                "# 1.\tDashboards and Widgets\r\n",
                "\r\n",
                "   Run your own query and view the result in a chart view\r\n",
                "\r\n",
                "   * To open a new editor, press Ctrl+N.\r\n",
                "   * Change the connection context to eltsnap_v2.\r\n",
                "   * Type the following query into the query editor:\r\n",
                "\r\n",
                "       > SQL:\r\n",
                "         SELECT [project_id],[project_name],[build_template_group]\r\n",
                "         FROM [eltsnap_v2].[elt].[project]\r\n",
                "\r\n",
                "   * To execute the query, press F5.\r\n",
                "   * After the query results are displayed, click View as Chart, then click the Chart tab.\r\n",
                "   * Change Chart Type to count. These settings render a count chart.\r\n",
                "\r\n",
                "Paste the following query into the query editor:\r\n",
                "\r\n",
                "## Adding custom insight to the database dashboard\r\n",
                " 1. To open the insight widget configuration, click Create Insight on Chart Viewer:\r\n",
                "\r\n",
                "    <img src= \"https://user-images.githubusercontent.com/61198055/75178585-5d012d80-5706-11ea-943d-68e89f441c79.png\" width=\"40%\" height=\"auto\">\r\n",
                "    \r\n",
                "\r\n",
                " 2. Copy the insight configuration (the JSON data).\r\n",
                "\r\n",
                " 3. Press Ctrl+Comma to open User Settings.\r\n",
                "\r\n",
                " 4. Type dashboard in Search Settings.\r\n",
                "\r\n",
                " 5. Click Edit for dashboard.database.widgets.\r\n",
                "\r\n",
                " 6. Save the query in the editor to a *.sql file.\r\n",
                "\r\n",
                " 7. Press Ctrl+Comma to open User Settings.\r\n",
                "\r\n",
                " 8. Edit the existing dashboard.database.widgets node in your settings file:\r\n",
                "\r\n",
                " 9. Paste the insight configuration JSON into dashboard.database.widgets. Database dashboard settings looks like the following:\r\n",
                "\r\n",
                " > JSON\r\n",
                "        \"dashboard.database.widgets\": [\r\n",
                "        {\r\n",
                "        \"name\": \"My-Widget\",\r\n",
                "        \"gridItemConfig\": {\r\n",
                "            \"sizex\": 2,\r\n",
                "            \"sizey\": 1\r\n",
                "        },\r\n",
                "        \"widget\": {\r\n",
                "            \"insights-widget\": {\r\n",
                "                \"type\": {\"horizontalBar\":{\"dataDirection\":\"horizontal\",\"columnsAsLabels\":true,\"labelFirstColumn\":false,\"legendPosition\":\"top\"}}\r\n",
                "                        ,\"queryFile\":\"c:\\\\Users\\\\poorvat\\\\eltQuery1.sql\"}\r\n",
                "                  }\r\n",
                "        }\r\n",
                "     ]\r\n",
                "\r\n",
                "10. Save the User Settings file and open the eltsnap_v2 database dashboard to see the active sessions widget: \r\n",
                "\r\n",
                "\r\n",
                "# 2.\tSQL Queries and your Widgets\r\n",
                "\r\n",
                "   Insight widgets are composed of one or two T-SQL queries:\r\n",
                "   * Insight widget query is mandatory, and is the query that returns the data that appears in the widget.\r\n",
                "   * Insight details query is only required if you are creating an insight details page.\r\n",
                "\r\n",
                "  An insight widget query defines a dataset that renders a count, chart, or graph. Insight details query is used to list relevant insight detail information in a tabular format in the insight details panel.\r\n",
                "  \r\n",
                "  Azure Data Studio executes insight widget queries and maps the query result set to a chart's dataset then renders it. When users open up an insight's details, it executes the insight details query and prints out the result in a grid view within the dialog.\r\n",
                "  \r\n",
                "  The basic idea is to write a T-SQL query in a way so it can be used as a dataset of a count, chart, and graph widget.\r\n",
                "   \r\n",
                " \r\n",
                "# 3.\tDrill-in with Insight Detail Pages"
            ],
            "metadata": {
                "azdata_cell_guid": "2ff45897-6649-453f-bb4d-b97febb9879c"
            }
        },
        {
            "cell_type": "markdown",
            "source": [
                " [<Previous](CH-09.ipynb)    |   [Next>](CH-11.ipynb)"
            ],
            "metadata": {
                "azdata_cell_guid": "66d21f10-7885-4391-98ab-5d7643a9a4c8"
            }
        }
    ]
}
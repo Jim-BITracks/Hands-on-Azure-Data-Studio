{
    "metadata": {
        "kernelspec": {
            "name": "SQL",
            "display_name": "SQL",
            "language": "sql"
        },
        "language_info": {
            "name": "sql",
            "version": ""
        }
    },
    "nbformat_minor": 2,
    "nbformat": 4,
    "cells": [
        {
            "cell_type": "markdown",
            "source": [
                "# Free and Easy Extensions\r\n",
                "Extensions are core to Azure Data Studio and represent a profound invitation from Microsoft to developers to play directly in the ADS ‘Marketplace’. This chapter will cover of some indispensable and totally free Extensions, which also happen to be just a few clicks away…\r\n",
                "1.\tInstalling and Managing your Extensions\r\n",
                "2.\t‘Sand Dance’ for Azure Data Studio\r\n",
                "3.\tSQL Server Schema Compare\r\n",
                "4.\tPowerShell for ADS\r\n",
                "5.\tRedgate SQL Search"
            ],
            "metadata": {
                "azdata_cell_guid": "3f6afb08-24ad-4e8e-a82a-2781a0126747"
            }
        },
        {
            "cell_type": "code",
            "source": [
                ""
            ],
            "metadata": {
                "azdata_cell_guid": "fb0685df-9f84-4399-b4b8-a9586f76df81"
            },
            "outputs": [],
            "execution_count": null
        }
    ]
}
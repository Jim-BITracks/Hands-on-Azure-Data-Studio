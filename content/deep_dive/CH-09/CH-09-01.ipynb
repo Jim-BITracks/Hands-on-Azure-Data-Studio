{
    "metadata": {
        "kernelspec": {
            "name": "SQL",
            "display_name": "SQL",
            "language": "sql"
        },
        "language_info": {
            "name": "sql",
            "version": ""
        }
    },
    "nbformat_minor": 2,
    "nbformat": 4,
    "cells": [
        {
            "cell_type": "markdown",
            "source": [
                "# Creating and Managing Snippets\r\n",
                "\r\n",
                "[<Back](readme.md)\r\n",
                "\r\n",
                "\r\n",
                ""
            ],
            "metadata": {
                "azdata_cell_guid": "2ff45897-6649-453f-bb4d-b97febb9879c"
            }
        },
        {
            "cell_type": "markdown",
            "source": [
                "  [<Previous](../../landscape/CH-08/readme.md)    |   [Next>](CH-09-02.ipynb)  "
            ],
            "metadata": {
                "azdata_cell_guid": "27c3f146-63f5-4758-a282-34952a443af3"
            }
        }
    ]
}
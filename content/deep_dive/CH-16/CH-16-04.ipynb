{
    "metadata": {
        "kernelspec": {
            "name": "SQL",
            "display_name": "SQL",
            "language": "sql"
        },
        "language_info": {
            "name": "sql",
            "version": ""
        }
    },
    "nbformat_minor": 2,
    "nbformat": 4,
    "cells": [
        {
            "cell_type": "markdown",
            "source": [
                "# Expanding your vision\r\n",
                "\r\n",
                "[<Back](readme.md)"
            ],
            "metadata": {
                "azdata_cell_guid": "50aef425-8b91-4af7-96bf-0101764b4795"
            }
        },
        {
            "cell_type": "markdown",
            "source": [
                " [<Previous](CH-16-03.ipynb)    |   [Next>](../../case_study/CH-17/readme.md)"
            ],
            "metadata": {
                "azdata_cell_guid": "156a1d3d-2af2-4818-b099-d4b024f876a3"
            }
        }
    ]
}
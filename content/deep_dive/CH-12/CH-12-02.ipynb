{
    "metadata": {
        "kernelspec": {
            "name": "SQL",
            "display_name": "SQL",
            "language": "sql"
        },
        "language_info": {
            "name": "sql",
            "version": ""
        }
    },
    "nbformat_minor": 2,
    "nbformat": 4,
    "cells": [
        {
            "cell_type": "markdown",
            "source": [
                "# Key Bindings – Mouse Optional\r\n",
                "\r\n",
                "[<Back](readme.md)\r\n",
                "\r\n",
                "**View: Toggle Integrated Terminal** command or **Ctrl+`** can be used to quickly toggle the integrated terminal panel in and out of view.\r\n",
                "\r\n",
                "Below are the keyboard shortcuts to quickly navigate within the integrated terminal:\r\n",
                "\r\n",
                "|   Key        |\t Command              |  \r\n",
                "| ------------ | :---------------------- :|\r\n",
                "| Ctrl+`\t   | Show integrated terminal |\r\n",
                "| Ctrl+Shift+` | Create new terminal      |\r\n",
                "| Ctrl+Up\t   |   Scroll up              |\r\n",
                "| Ctrl+Down    | Scroll down              |\r\n",
                "| Ctrl+PageUp  | Scroll page up           |\r\n",
                "| Ctrl+PageDown| Scroll page down         |\r\n",
                "| Ctrl+Home    | Scroll to top            |\r\n",
                "| Ctrl+End\t   | Scroll to bottom         |\r\n",
                "| Ctrl+K\t   | Clear the terminal       |\r\n",
                "\r\n",
                "\r\n",
                "Other terminal commands are available and can be bound to your preferred keyboard shortcuts.  \r\n",
                "They are:\r\n",
                "\r\n",
                "+ **workbench.action.terminal.focus :** Focus the terminal. This is like toggle but focuses the terminal instead of hiding it, if it is visible.  \r\n",
                "+ **workbench.action.terminal.focusNext :** Focuses the next terminal instance.\r\n",
                "+ **workbench.action.terminal.focusPrevious :** Focuses the previous terminal instance.\r\n",
                "+ **workbench.action.terminal.kill :** Remove the current terminal instance.\r\n",
                "+ **workbench.action.terminal.runSelectedText :** Run the selected text in the terminal instance.\r\n",
                "+ **workbench.action.terminal.runActiveFile :** Run the active file in the terminal instance.\r\n",
                "\r\n",
                "### **Find**\r\n",
                "The Integrated Terminal has basic find functionality that can be triggered with **Ctrl+F**.\r\n",
                "\r\n",
                "### **Copy & Paste** \r\n",
                "\r\n",
                "The keybindings for copy and paste follow platform standards:\r\n",
                "\r\n",
                "+ Linux : **Ctrl+Shift+C** and **Ctrl+Shift+V**\r\n",
                "+ Mac : **Cmd+C** and **Cmd+V**\r\n",
                "+ Windows : **Ctrl+C** and **Ctrl+V**\r\n",
                "\r\n",
                "### **Forcing key bindings to pass through the terminal**\r\n",
                "\r\n",
                "While focus is in the integrated terminal, many key bindings won't work because the keystrokes are passed to and consumed by the terminal itself. The **terminal.integrated.commandsToSkipShell** setting can be used to get around this.  It contains an array of command names whose key bindings skip processing by the shell and instead be processed by the Azure Data Studio key binding system."
            ],
            "metadata": {
                "azdata_cell_guid": "ed565be7-e41f-48e2-be78-9d4927c22d35"
            }
        },
        {
            "cell_type": "markdown",
            "source": [
                "[<Previous](CH-12-01.ipynb)    |   [Next>](CH-12-03.ipynb)"
            ],
            "metadata": {
                "azdata_cell_guid": "671008db-d4f6-429f-a225-937cb038805a"
            }
        }
    ]
}
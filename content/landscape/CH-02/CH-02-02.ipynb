{
    "metadata": {
        "kernelspec": {
            "name": "SQL",
            "display_name": "SQL",
            "language": "sql"
        },
        "language_info": {
            "name": "sql",
            "version": ""
        }
    },
    "nbformat_minor": 2,
    "nbformat": 4,
    "cells": [
        {
            "cell_type": "markdown",
            "source": [
                "## Grouping and Color Coding your Connections\n",
                "\n",
                "[<Back](readme.md)\n",
                "\n",
                "Server groups provide a way to organize your connections to the servers and databases you work with. When you create server groups, the configuration details are saved into User Settings.\n",
                "Given the different platforms this tool can connect to, it is important to be able to organize connections into groups.This organization can be performed within the Connections menu. The image below reflects a new ADS install with no pre-existing servers defined.  The three icons to the right of the word SERVERS are shortcuts to actions the user can perform.  First, we can define a new connection to associated with group.  Second, we can define a new server group to organize our connections.  Third, we can show active connections.\n",
                "<img src=\"https://user-images.githubusercontent.com/61198055/75280372-4e387a80-57db-11ea-8bd8-1fefb00f492c.png\" width=\"25%\" height=\"auto\">\n",
                "To create a new server group\n",
                "### Step 1. Click New Server Group at the top of the SERVERS sidebar.\n",
                "### Step 2. Enter a group name and select a color for the group for identifying. Optionally, add a description.\n",
                "The image below shows an add server group dialog box.\n",
                "<img src=\"https://user-images.githubusercontent.com/61198055/75071024-79148d00-54c2-11ea-899d-dab47d9189cc.png\" width=\"50%\" height=\"auto\">\n",
                ""
            ],
            "metadata": {
                "azdata_cell_guid": "db31f30f-37ac-4741-ae7e-03bbc54d669d"
            }
        },
        {
            "cell_type": "markdown",
            "source": [
                "  [<Previous](CH-02-01.ipynb)  |   [Next>](CH-02-03.ipynb)  "
            ],
            "metadata": {
                "azdata_cell_guid": "55e18432-2bcb-47e2-8dfa-f5c19c96e7c7"
            }
        }
    ]
}
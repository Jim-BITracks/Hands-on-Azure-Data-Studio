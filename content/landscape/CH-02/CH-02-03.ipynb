{
    "metadata": {
        "kernelspec": {
            "name": "SQL",
            "display_name": "SQL",
            "language": "sql"
        },
        "language_info": {
            "name": "sql",
            "version": ""
        }
    },
    "nbformat_minor": 2,
    "nbformat": 4,
    "cells": [
        {
            "cell_type": "markdown",
            "source": [
                "## Central Management Servers Extension\n",
                "\n",
                "[<Back](readme.md)\n",
                "\n",
                "The Central Management Servers extension allows users to store a list of instances of SQL Server that is organized into one or more groups. Actions that are taken using a CMS group act on all servers in the server group. \n",
                "Installing the SQL Server Central Management Servers extension:\n",
                "### Step 1. Select the extensions icon, or select Extensions in the View menu.\n",
                "### Step 2. Select an available extension to view its details.\n",
                "### Step 3. Select the extension you want (SQL Server Central Management Servers) and Install it.\n",
                "Starting Central Management Servers\n",
                "    \n",
                "Central Management Servers can be viewed by clicking on the Connections icon (Ctrl/Cmd + G). The first time you download the extension, the CMS view will be minimized, and you can open it by click on Central Management Servers"
            ],
            "metadata": {
                "azdata_cell_guid": "f0173988-67fd-4d26-8c6f-68388d9c19cf"
            }
        },
        {
            "cell_type": "markdown",
            "source": [
                "  [<Previous](CH-02-02.ipynb)  "
            ],
            "metadata": {
                "azdata_cell_guid": "3cb89b9c-8254-4564-9b1c-80bac704bb87"
            }
        }
    ]
}
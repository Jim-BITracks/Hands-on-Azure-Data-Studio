{
    "metadata": {
        "kernelspec": {
            "name": "SQL",
            "display_name": "SQL",
            "language": "sql"
        },
        "language_info": {
            "name": "sql",
            "version": ""
        }
    },
    "nbformat_minor": 2,
    "nbformat": 4,
    "cells": [
        {
            "cell_type": "markdown",
            "source": [
                "# Possibilities when using the Integrated Terminal\r\n",
                "\r\n",
                "[<Back](readme.md)"
            ],
            "metadata": {
                "azdata_cell_guid": "359d2038-13c3-487c-b950-2ba584253cdd"
            }
        },
        {
            "cell_type": "markdown",
            "source": [
                " [<Previous](CH-17-05.ipynb)"
            ],
            "metadata": {
                "azdata_cell_guid": "d44bc54b-d064-4ee0-bce3-62d147dbf775"
            }
        }
    ]
}
{
    "metadata": {
        "kernelspec": {
            "name": "SQL",
            "display_name": "SQL",
            "language": "sql"
        },
        "language_info": {
            "name": "sql",
            "version": ""
        }
    },
    "nbformat_minor": 2,
    "nbformat": 4,
    "cells": [
        {
            "cell_type": "markdown",
            "source": [
                "# Using PowerShell to Integrate with Azure Data Factory\r\n",
                "Did we forget about the ‘Azure’ in Azure Data Studio? Not at all. Let’s use PowerShell and Azure Data Factory 2.0 to see what is possible in the ELT/ETL space with ADS…\r\n",
                "1.\tThe AZ PowerShell Module\r\n",
                "2.\tGetting connected in Azure Data Factory\r\n",
                "3.\tWorking with Datasets\r\n",
                "4.\t Invoking a Pipeline to Copy Data"
            ],
            "metadata": {
                "azdata_cell_guid": "2ff45897-6649-453f-bb4d-b97febb9879c"
            }
        },
        {
            "cell_type": "markdown",
            "source": [
                " [<Previous](C:\\ADS\\Notebooks\\Practical_ADS\\content\\deep_dive\\CH-14.ipynb)    |   [Next>](C:\\ADS\\Notebooks\\Practical_ADS\\content\\deep_dive\\CH-16.ipynb)"
            ],
            "metadata": {
                "azdata_cell_guid": "9dfbbb9a-7a89-4945-a120-4d904ad74794"
            }
        }
    ]
}
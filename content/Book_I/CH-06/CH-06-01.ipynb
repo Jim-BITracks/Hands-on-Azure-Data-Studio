{
    "metadata": {
        "kernelspec": {
            "name": "powershell",
            "display_name": "PowerShell"
        },
        "language_info": {
            "name": "powershell",
            "codemirror_mode": "shell",
            "mimetype": "text/x-sh",
            "file_extension": ".ps1"
        }
    },
    "nbformat_minor": 2,
    "nbformat": 4,
    "cells": [
        {
            "cell_type": "code",
            "source": [
                "$src_conn = \"Server=localhost;Database=car_crash;Integrated Security=True;\"\r\n",
                "$dest_conn = \"Server=localhost;Database=test;Integrated Security=True;\"\r\n",
                "$src_sql_command = \"SELECT * FROM edw.D_TIME\"\r\n",
                "$dst_schema = \"dbo\"\r\n",
                "$dst_table = \"D_TIME\"\r\n",
                "$dest_truncate = \"Y\"\r\n",
                "\r\n",
                "pwsh -file \"c:\\hands-on-ads\\simple_dataflow.ps1\" -src_conn $src_conn -dest_conn $dest_conn -src_sql_command $src_sql_command -dst_schema $dst_schema -dst_table $dst_table -dest_truncate $dest_truncate"
            ],
            "metadata": {
                "azdata_cell_guid": "23a288f0-eeae-4db0-a2b4-01339a4a2651"
            },
            "outputs": [
                {
                    "name": "stdout",
                    "text": "-1\ndestination truncated\nRow Count 86400\n",
                    "output_type": "stream"
                }
            ],
            "execution_count": 6
        }
    ]
}